{
 "cells": [
  {
   "cell_type": "code",
   "execution_count": null,
   "id": "17801ade",
   "metadata": {},
   "outputs": [],
   "source": [
    "#Clustering\n",
    "#Let's suppose we give a child different objects to group. How does a child make a group? The child may group over the colour\n",
    "#over the shape, over the hardness or softness of the objects etc.\n",
    "#The basic idea here is that the child tries to find out similarities and dissimilarities between different objects \n",
    "#and then tries to make a group of similar objects. \n",
    "#This is called clustering, the method of identifying similar instances and keeping them together. \n",
    "#In Other words, clustering identifies homogeneous subgroups among the observations.\n",
    "#Clustering is an unsupervised approach which finds a structure\n",
    "#pattern in a collection of unlabeled data. A cluster is a collection of objects which are \"similar\"\n",
    "#amongst themselves and are \"dissimilar to the objects belonging to a different cluster. For example:"
   ]
  },
  {
   "cell_type": "code",
   "execution_count": null,
   "id": "d8391d64",
   "metadata": {},
   "outputs": [],
   "source": [
    "#The scikit-learn book describes the various applications of clustering as follows:\n",
    "#For customer segmentation: You can cluster your customers based on their purchases\n",
    "#their activity on your website and so on. This is useful to understand who your customers are and what they need\n",
    "#so you can adapt your products and marketing campaigns to each segment. For example, this\n",
    "#can be useful in recommender systems to suggest content that other users in the same cluster enjoyed.\n",
    "#For data analysis: When analyzing a new dataset, it is often useful to first discover clusters of similar instances\n",
    "#as it is often easier to analyze clusters separately\n",
    "#As a dimensionality reduction technique: Once a dataset has been clustered\n",
    "#it is usually possible to measure each instance's affinity with each cluster\n",
    "#affinity is any measure of how well an instance fits into a cluster\n",
    "#Each instance's feature vector x can then be replaced with the vector of its cluster\n",
    "#affinities. If there are k clusters, then this vector is k dimensional. This is typically much lower dimensional than the original feature vector\n",
    "#but it can preserve enough information for further processing."
   ]
  },
  {
   "cell_type": "code",
   "execution_count": null,
   "id": "cf90c8dd",
   "metadata": {},
   "outputs": [],
   "source": []
  },
  {
   "cell_type": "code",
   "execution_count": null,
   "id": "501df5c7",
   "metadata": {},
   "outputs": [],
   "source": [
    "For anomaly detection\n",
    "also called outlier detection): Any instance that has a low affinity to all the clusters is likely to be an anomaly. For example, if\n",
    "you have clustered the users of your website based on their behavior, you can detect users with unusual behavior, such as an unusual number of\n",
    "requests per second, and so on\n",
    "Anomaly detection is particularly useful in detecting defects in manufacturing\n",
    "or for fraud detection.\n",
    "For semi-supervised learning: If you only have a few labels, you could perform clustering and propagate the labels to all the instances in the same\n",
    "cluster. This can greatly increase the amount of labels available for a subsequent supervised learning algorithm, and thus improve its performance..\n",
    "• For search engines: For example, some search engines let you search for images that are similar to a reference image\n",
    "To build such a system\n",
    "you\n",
    "would first apply a clustering algorithm to all the images in your database: similar images would end up in the same cluster. Then when a user provides a\n",
    "reference image, all you need to do is to find this image's cluster using the trained clustering model, and you can then simply return all the images from\n",
    "this cluster.\n",
    "To segment an image: By clustering pixels according to their color\n",
    "then replacing each pixel's color with the mean color of its cluster, it is possible to\n",
    "reduce the number of different colors in the image considerably. This technique is used in many object detection and tracking systems, as it makes it\n",
    "easier to detect the contour of each object."
   ]
  },
  {
   "cell_type": "code",
   "execution_count": null,
   "id": "abc466c7",
   "metadata": {},
   "outputs": [],
   "source": [
    "Approaches for Clustering:\n",
    "The clustering approaches can be broadly divided into two categories: Agglomerative and Divisive.\n",
    "Agglomerative: This approach first considers all the points as individual clusters and then finds out the similarity between two points, puts them into a cluster.\n",
    "Then it goes on finding similar points and clusters until there is only one cluster left i.e.\n",
    "all points belong to a big cluster. This is also called the bottom\n",
    "up\n",
    "approach.\n",
    "Divisive: Dis opposite of the agglomerative approach. It first considers all the points to be part of one big cluster and in the subsequent steps tries to find out\n",
    "the points/ clusters which are least similar to each other and\n",
    "breaks the bigger cluster into smaller ones. This continues until there are as many clusters\n",
    "as there are datapoints. This is also called the top-down approach"
   ]
  },
  {
   "cell_type": "code",
   "execution_count": null,
   "id": "b0bb50c3",
   "metadata": {},
   "outputs": [],
   "source": [
    "K-Means Clustering\n",
    "K-Means is a clustering approach in which the data is grouped into K distinct non-overlapping clusters based on their distances from the K centres. The value\n",
    "of K needs to be specified first and then the algorithm assigns the points to exactly one cluster.\n",
    "#goes on finding aversge distance between 3 or 4 or identified groups until the averge dustance is same between all 3-4 groups"
   ]
  },
  {
   "cell_type": "code",
   "execution_count": null,
   "id": "0d2bf50e",
   "metadata": {},
   "outputs": [],
   "source": [
    "As we saw earlier\n",
    "we need to provide the value of K beforehand. But the question is how to get a good value of K. An optimum value of K is obtained using\n",
    "the Elbow Method.\n",
    "The Elbow-Method\n",
    "This method is based on the relationship between the within-cluster sum of squared distances\n",
    "WCSS Or Inertia) and the number of clusters. It is observed that\n",
    "first with an increase in the number of clusters WCSS decreases steeply and then after a certain number of clusters the drop in WCSS is not that prominent.\n",
    "The point after which the graph between WCSS and the number of clusters becomes comparatively smother is termed as the elbow and the number of cluster\n",
    "at that point are the optimum number of clusters as even after increasing the clusters after that point the variation is not decreasing by much i.e., we have\n",
    "accounted for almost all the dissimilarity in the data\n",
    "An elbow\n",
    "curve looks like:"
   ]
  },
  {
   "cell_type": "code",
   "execution_count": 2,
   "id": "68c890af",
   "metadata": {},
   "outputs": [],
   "source": [
    "import pandas as pd\n",
    "import numpy as np\n",
    "import matplotlib.pyplot as plt\n",
    "%matplotlib inline"
   ]
  },
  {
   "cell_type": "code",
   "execution_count": 3,
   "id": "974d8472",
   "metadata": {},
   "outputs": [
    {
     "data": {
      "text/html": [
       "<div>\n",
       "<style scoped>\n",
       "    .dataframe tbody tr th:only-of-type {\n",
       "        vertical-align: middle;\n",
       "    }\n",
       "\n",
       "    .dataframe tbody tr th {\n",
       "        vertical-align: top;\n",
       "    }\n",
       "\n",
       "    .dataframe thead th {\n",
       "        text-align: right;\n",
       "    }\n",
       "</style>\n",
       "<table border=\"1\" class=\"dataframe\">\n",
       "  <thead>\n",
       "    <tr style=\"text-align: right;\">\n",
       "      <th></th>\n",
       "      <th>CustomerID</th>\n",
       "      <th>Genre</th>\n",
       "      <th>Age</th>\n",
       "      <th>Annual Income (k$)</th>\n",
       "      <th>Spending Score (1-100)</th>\n",
       "    </tr>\n",
       "  </thead>\n",
       "  <tbody>\n",
       "    <tr>\n",
       "      <th>0</th>\n",
       "      <td>1</td>\n",
       "      <td>Male</td>\n",
       "      <td>19</td>\n",
       "      <td>15</td>\n",
       "      <td>39</td>\n",
       "    </tr>\n",
       "    <tr>\n",
       "      <th>1</th>\n",
       "      <td>2</td>\n",
       "      <td>Male</td>\n",
       "      <td>21</td>\n",
       "      <td>15</td>\n",
       "      <td>81</td>\n",
       "    </tr>\n",
       "    <tr>\n",
       "      <th>2</th>\n",
       "      <td>3</td>\n",
       "      <td>Female</td>\n",
       "      <td>20</td>\n",
       "      <td>16</td>\n",
       "      <td>6</td>\n",
       "    </tr>\n",
       "    <tr>\n",
       "      <th>3</th>\n",
       "      <td>4</td>\n",
       "      <td>Female</td>\n",
       "      <td>23</td>\n",
       "      <td>16</td>\n",
       "      <td>77</td>\n",
       "    </tr>\n",
       "    <tr>\n",
       "      <th>4</th>\n",
       "      <td>5</td>\n",
       "      <td>Female</td>\n",
       "      <td>31</td>\n",
       "      <td>17</td>\n",
       "      <td>40</td>\n",
       "    </tr>\n",
       "    <tr>\n",
       "      <th>...</th>\n",
       "      <td>...</td>\n",
       "      <td>...</td>\n",
       "      <td>...</td>\n",
       "      <td>...</td>\n",
       "      <td>...</td>\n",
       "    </tr>\n",
       "    <tr>\n",
       "      <th>195</th>\n",
       "      <td>196</td>\n",
       "      <td>Female</td>\n",
       "      <td>35</td>\n",
       "      <td>120</td>\n",
       "      <td>79</td>\n",
       "    </tr>\n",
       "    <tr>\n",
       "      <th>196</th>\n",
       "      <td>197</td>\n",
       "      <td>Female</td>\n",
       "      <td>45</td>\n",
       "      <td>126</td>\n",
       "      <td>28</td>\n",
       "    </tr>\n",
       "    <tr>\n",
       "      <th>197</th>\n",
       "      <td>198</td>\n",
       "      <td>Male</td>\n",
       "      <td>32</td>\n",
       "      <td>126</td>\n",
       "      <td>74</td>\n",
       "    </tr>\n",
       "    <tr>\n",
       "      <th>198</th>\n",
       "      <td>199</td>\n",
       "      <td>Male</td>\n",
       "      <td>32</td>\n",
       "      <td>137</td>\n",
       "      <td>18</td>\n",
       "    </tr>\n",
       "    <tr>\n",
       "      <th>199</th>\n",
       "      <td>200</td>\n",
       "      <td>Male</td>\n",
       "      <td>30</td>\n",
       "      <td>137</td>\n",
       "      <td>83</td>\n",
       "    </tr>\n",
       "  </tbody>\n",
       "</table>\n",
       "<p>200 rows × 5 columns</p>\n",
       "</div>"
      ],
      "text/plain": [
       "     CustomerID   Genre  Age  Annual Income (k$)  Spending Score (1-100)\n",
       "0             1    Male   19                  15                      39\n",
       "1             2    Male   21                  15                      81\n",
       "2             3  Female   20                  16                       6\n",
       "3             4  Female   23                  16                      77\n",
       "4             5  Female   31                  17                      40\n",
       "..          ...     ...  ...                 ...                     ...\n",
       "195         196  Female   35                 120                      79\n",
       "196         197  Female   45                 126                      28\n",
       "197         198    Male   32                 126                      74\n",
       "198         199    Male   32                 137                      18\n",
       "199         200    Male   30                 137                      83\n",
       "\n",
       "[200 rows x 5 columns]"
      ]
     },
     "execution_count": 3,
     "metadata": {},
     "output_type": "execute_result"
    }
   ],
   "source": [
    "dataset=pd.read_csv('https://raw.githubusercontent.com/training-ml/Files/main/Mall_Customers.csv')\n",
    "dataset\n"
   ]
  },
  {
   "cell_type": "code",
   "execution_count": 4,
   "id": "33737f17",
   "metadata": {},
   "outputs": [
    {
     "data": {
      "text/html": [
       "<div>\n",
       "<style scoped>\n",
       "    .dataframe tbody tr th:only-of-type {\n",
       "        vertical-align: middle;\n",
       "    }\n",
       "\n",
       "    .dataframe tbody tr th {\n",
       "        vertical-align: top;\n",
       "    }\n",
       "\n",
       "    .dataframe thead th {\n",
       "        text-align: right;\n",
       "    }\n",
       "</style>\n",
       "<table border=\"1\" class=\"dataframe\">\n",
       "  <thead>\n",
       "    <tr style=\"text-align: right;\">\n",
       "      <th></th>\n",
       "      <th>Annual Income (k$)</th>\n",
       "      <th>Spending Score (1-100)</th>\n",
       "    </tr>\n",
       "  </thead>\n",
       "  <tbody>\n",
       "    <tr>\n",
       "      <th>0</th>\n",
       "      <td>15</td>\n",
       "      <td>39</td>\n",
       "    </tr>\n",
       "    <tr>\n",
       "      <th>1</th>\n",
       "      <td>15</td>\n",
       "      <td>81</td>\n",
       "    </tr>\n",
       "    <tr>\n",
       "      <th>2</th>\n",
       "      <td>16</td>\n",
       "      <td>6</td>\n",
       "    </tr>\n",
       "    <tr>\n",
       "      <th>3</th>\n",
       "      <td>16</td>\n",
       "      <td>77</td>\n",
       "    </tr>\n",
       "    <tr>\n",
       "      <th>4</th>\n",
       "      <td>17</td>\n",
       "      <td>40</td>\n",
       "    </tr>\n",
       "  </tbody>\n",
       "</table>\n",
       "</div>"
      ],
      "text/plain": [
       "   Annual Income (k$)  Spending Score (1-100)\n",
       "0                  15                      39\n",
       "1                  15                      81\n",
       "2                  16                       6\n",
       "3                  16                      77\n",
       "4                  17                      40"
      ]
     },
     "execution_count": 4,
     "metadata": {},
     "output_type": "execute_result"
    }
   ],
   "source": [
    "#dataset\n",
    "X=dataset[['Annual Income (k$)', 'Spending Score (1-100)']]\n",
    "X.head()\n"
   ]
  },
  {
   "cell_type": "code",
   "execution_count": 5,
   "id": "3dde9195",
   "metadata": {},
   "outputs": [],
   "source": [
    "#Elbow method\n",
    "from sklearn.cluster import KMeans"
   ]
  },
  {
   "cell_type": "code",
   "execution_count": 8,
   "id": "f6aaa8d7",
   "metadata": {},
   "outputs": [
    {
     "data": {
      "text/html": [
       "<div>\n",
       "<style scoped>\n",
       "    .dataframe tbody tr th:only-of-type {\n",
       "        vertical-align: middle;\n",
       "    }\n",
       "\n",
       "    .dataframe tbody tr th {\n",
       "        vertical-align: top;\n",
       "    }\n",
       "\n",
       "    .dataframe thead th {\n",
       "        text-align: right;\n",
       "    }\n",
       "</style>\n",
       "<table border=\"1\" class=\"dataframe\">\n",
       "  <thead>\n",
       "    <tr style=\"text-align: right;\">\n",
       "      <th></th>\n",
       "      <th>Annual Income (k$)</th>\n",
       "      <th>Spending Score (1-100)</th>\n",
       "    </tr>\n",
       "  </thead>\n",
       "  <tbody>\n",
       "    <tr>\n",
       "      <th>0</th>\n",
       "      <td>15</td>\n",
       "      <td>39</td>\n",
       "    </tr>\n",
       "    <tr>\n",
       "      <th>1</th>\n",
       "      <td>15</td>\n",
       "      <td>81</td>\n",
       "    </tr>\n",
       "    <tr>\n",
       "      <th>2</th>\n",
       "      <td>16</td>\n",
       "      <td>6</td>\n",
       "    </tr>\n",
       "    <tr>\n",
       "      <th>3</th>\n",
       "      <td>16</td>\n",
       "      <td>77</td>\n",
       "    </tr>\n",
       "    <tr>\n",
       "      <th>4</th>\n",
       "      <td>17</td>\n",
       "      <td>40</td>\n",
       "    </tr>\n",
       "  </tbody>\n",
       "</table>\n",
       "</div>"
      ],
      "text/plain": [
       "   Annual Income (k$)  Spending Score (1-100)\n",
       "0                  15                      39\n",
       "1                  15                      81\n",
       "2                  16                       6\n",
       "3                  16                      77\n",
       "4                  17                      40"
      ]
     },
     "execution_count": 8,
     "metadata": {},
     "output_type": "execute_result"
    }
   ],
   "source": [
    "#dataset. He is only taling below 3 as male and female, both will spens and male will also spend on family, age if u want u can take, cust id os  generic\n",
    "X = dataset[['Annual Income (k$)','Spending Score (1-100)']]\n",
    "X.head()"
   ]
  },
  {
   "cell_type": "code",
   "execution_count": 9,
   "id": "7dae494e",
   "metadata": {},
   "outputs": [
    {
     "name": "stderr",
     "output_type": "stream",
     "text": [
      "C:\\anaconda 2022\\lib\\site-packages\\sklearn\\cluster\\_kmeans.py:1332: UserWarning: KMeans is known to have a memory leak on Windows with MKL, when there are less chunks than available threads. You can avoid it by setting the environment variable OMP_NUM_THREADS=1.\n",
      "  warnings.warn(\n",
      "C:\\anaconda 2022\\lib\\site-packages\\sklearn\\cluster\\_kmeans.py:1332: UserWarning: KMeans is known to have a memory leak on Windows with MKL, when there are less chunks than available threads. You can avoid it by setting the environment variable OMP_NUM_THREADS=1.\n",
      "  warnings.warn(\n",
      "C:\\anaconda 2022\\lib\\site-packages\\sklearn\\cluster\\_kmeans.py:1332: UserWarning: KMeans is known to have a memory leak on Windows with MKL, when there are less chunks than available threads. You can avoid it by setting the environment variable OMP_NUM_THREADS=1.\n",
      "  warnings.warn(\n",
      "C:\\anaconda 2022\\lib\\site-packages\\sklearn\\cluster\\_kmeans.py:1332: UserWarning: KMeans is known to have a memory leak on Windows with MKL, when there are less chunks than available threads. You can avoid it by setting the environment variable OMP_NUM_THREADS=1.\n",
      "  warnings.warn(\n",
      "C:\\anaconda 2022\\lib\\site-packages\\sklearn\\cluster\\_kmeans.py:1332: UserWarning: KMeans is known to have a memory leak on Windows with MKL, when there are less chunks than available threads. You can avoid it by setting the environment variable OMP_NUM_THREADS=1.\n",
      "  warnings.warn(\n",
      "C:\\anaconda 2022\\lib\\site-packages\\sklearn\\cluster\\_kmeans.py:1332: UserWarning: KMeans is known to have a memory leak on Windows with MKL, when there are less chunks than available threads. You can avoid it by setting the environment variable OMP_NUM_THREADS=1.\n",
      "  warnings.warn(\n",
      "C:\\anaconda 2022\\lib\\site-packages\\sklearn\\cluster\\_kmeans.py:1332: UserWarning: KMeans is known to have a memory leak on Windows with MKL, when there are less chunks than available threads. You can avoid it by setting the environment variable OMP_NUM_THREADS=1.\n",
      "  warnings.warn(\n",
      "C:\\anaconda 2022\\lib\\site-packages\\sklearn\\cluster\\_kmeans.py:1332: UserWarning: KMeans is known to have a memory leak on Windows with MKL, when there are less chunks than available threads. You can avoid it by setting the environment variable OMP_NUM_THREADS=1.\n",
      "  warnings.warn(\n",
      "C:\\anaconda 2022\\lib\\site-packages\\sklearn\\cluster\\_kmeans.py:1332: UserWarning: KMeans is known to have a memory leak on Windows with MKL, when there are less chunks than available threads. You can avoid it by setting the environment variable OMP_NUM_THREADS=1.\n",
      "  warnings.warn(\n",
      "C:\\anaconda 2022\\lib\\site-packages\\sklearn\\cluster\\_kmeans.py:1332: UserWarning: KMeans is known to have a memory leak on Windows with MKL, when there are less chunks than available threads. You can avoid it by setting the environment variable OMP_NUM_THREADS=1.\n",
      "  warnings.warn(\n"
     ]
    },
    {
     "data": {
      "image/png": "[encoded data removed]",
      "text/plain": [
       "<Figure size 432x288 with 1 Axes>"
      ]
     },
     "metadata": {
      "needs_background": "light"
     },
     "output_type": "display_data"
    }
   ],
   "source": [
    "#ELbow method\n",
    "from sklearn.cluster import KMeans\n",
    "wcss=[]\n",
    "for i in range(1,11):\n",
    "    kmeans=KMeans(n_clusters=i,init='k-means++', random_state=42)\n",
    "    kmeans.fit(X) #the i for each number will be taken\n",
    "    wcss.append(kmeans.inertia_)\n",
    "plt.plot(range(1,11), wcss) \n",
    "plt.title('The Elbow Method')\n",
    "plt.xlabel('Number of clusters')\n",
    "plt.ylabel('WCSS')\n",
    "plt.show()"
   ]
  },
  {
   "cell_type": "code",
   "execution_count": 10,
   "id": "9fca36e4",
   "metadata": {},
   "outputs": [
    {
     "data": {
      "text/html": [
       "<div>\n",
       "<style scoped>\n",
       "    .dataframe tbody tr th:only-of-type {\n",
       "        vertical-align: middle;\n",
       "    }\n",
       "\n",
       "    .dataframe tbody tr th {\n",
       "        vertical-align: top;\n",
       "    }\n",
       "\n",
       "    .dataframe thead th {\n",
       "        text-align: right;\n",
       "    }\n",
       "</style>\n",
       "<table border=\"1\" class=\"dataframe\">\n",
       "  <thead>\n",
       "    <tr style=\"text-align: right;\">\n",
       "      <th></th>\n",
       "      <th>Annual Income (k$)</th>\n",
       "      <th>Spending Score (1-100)</th>\n",
       "    </tr>\n",
       "  </thead>\n",
       "  <tbody>\n",
       "    <tr>\n",
       "      <th>0</th>\n",
       "      <td>15</td>\n",
       "      <td>39</td>\n",
       "    </tr>\n",
       "    <tr>\n",
       "      <th>1</th>\n",
       "      <td>15</td>\n",
       "      <td>81</td>\n",
       "    </tr>\n",
       "    <tr>\n",
       "      <th>2</th>\n",
       "      <td>16</td>\n",
       "      <td>6</td>\n",
       "    </tr>\n",
       "    <tr>\n",
       "      <th>3</th>\n",
       "      <td>16</td>\n",
       "      <td>77</td>\n",
       "    </tr>\n",
       "    <tr>\n",
       "      <th>4</th>\n",
       "      <td>17</td>\n",
       "      <td>40</td>\n",
       "    </tr>\n",
       "  </tbody>\n",
       "</table>\n",
       "</div>"
      ],
      "text/plain": [
       "   Annual Income (k$)  Spending Score (1-100)\n",
       "0                  15                      39\n",
       "1                  15                      81\n",
       "2                  16                       6\n",
       "3                  16                      77\n",
       "4                  17                      40"
      ]
     },
     "execution_count": 10,
     "metadata": {},
     "output_type": "execute_result"
    }
   ],
   "source": [
    "X.head()"
   ]
  },
  {
   "cell_type": "code",
   "execution_count": 11,
   "id": "1a395241",
   "metadata": {},
   "outputs": [
    {
     "name": "stderr",
     "output_type": "stream",
     "text": [
      "C:\\anaconda 2022\\lib\\site-packages\\sklearn\\cluster\\_kmeans.py:1332: UserWarning: KMeans is known to have a memory leak on Windows with MKL, when there are less chunks than available threads. You can avoid it by setting the environment variable OMP_NUM_THREADS=1.\n",
      "  warnings.warn(\n"
     ]
    },
    {
     "name": "stdout",
     "output_type": "stream",
     "text": [
      "[2 3 2 3 2 3 2 3 2 3 2 3 2 3 2 3 2 3 2 3 2 3 2 3 2 3 2 3 2 3 2 3 2 3 2 3 2\n",
      " 3 2 3 2 3 2 0 2 3 0 0 0 0 0 0 0 0 0 0 0 0 0 0 0 0 0 0 0 0 0 0 0 0 0 0 0 0\n",
      " 0 0 0 0 0 0 0 0 0 0 0 0 0 0 0 0 0 0 0 0 0 0 0 0 0 0 0 0 0 0 0 0 0 0 0 0 0\n",
      " 0 0 0 0 0 0 0 0 0 0 0 0 4 1 4 0 4 1 4 1 4 0 4 1 4 1 4 1 4 1 4 0 4 1 4 1 4\n",
      " 1 4 1 4 1 4 1 4 1 4 1 4 1 4 1 4 1 4 1 4 1 4 1 4 1 4 1 4 1 4 1 4 1 4 1 4 1\n",
      " 4 1 4 1 4 1 4 1 4 1 4 1 4 1 4]\n"
     ]
    }
   ],
   "source": [
    "#5 is the best according to him . max band \n",
    "#Fitting K-Means to the dataset\n",
    "kmeans=KMeans(n_clusters=5, random_state = 42)\n",
    "y_kmeans=kmeans.fit_predict(X)\n",
    "print(y_kmeans)"
   ]
  },
  {
   "cell_type": "code",
   "execution_count": 12,
   "id": "4890d84d",
   "metadata": {},
   "outputs": [
    {
     "data": {
      "text/plain": [
       "0.553931997444648"
      ]
     },
     "execution_count": 12,
     "metadata": {},
     "output_type": "execute_result"
    }
   ],
   "source": [
    "#Model Evaluation\n",
    "#Just Like in supervised Learning we have a metric in unsupervised Learning as well\n",
    "from sklearn.metrics import silhouette_score #to check if right clusters \n",
    "silhouette_score(X,y_kmeans)"
   ]
  },
  {
   "cell_type": "code",
   "execution_count": 13,
   "id": "27a19692",
   "metadata": {},
   "outputs": [
    {
     "data": {
      "text/html": [
       "<div>\n",
       "<style scoped>\n",
       "    .dataframe tbody tr th:only-of-type {\n",
       "        vertical-align: middle;\n",
       "    }\n",
       "\n",
       "    .dataframe tbody tr th {\n",
       "        vertical-align: top;\n",
       "    }\n",
       "\n",
       "    .dataframe thead th {\n",
       "        text-align: right;\n",
       "    }\n",
       "</style>\n",
       "<table border=\"1\" class=\"dataframe\">\n",
       "  <thead>\n",
       "    <tr style=\"text-align: right;\">\n",
       "      <th></th>\n",
       "      <th>Annual Income (k$)</th>\n",
       "      <th>Spending Score (1-100)</th>\n",
       "    </tr>\n",
       "  </thead>\n",
       "  <tbody>\n",
       "    <tr>\n",
       "      <th>0</th>\n",
       "      <td>15</td>\n",
       "      <td>39</td>\n",
       "    </tr>\n",
       "    <tr>\n",
       "      <th>1</th>\n",
       "      <td>15</td>\n",
       "      <td>81</td>\n",
       "    </tr>\n",
       "    <tr>\n",
       "      <th>2</th>\n",
       "      <td>16</td>\n",
       "      <td>6</td>\n",
       "    </tr>\n",
       "    <tr>\n",
       "      <th>3</th>\n",
       "      <td>16</td>\n",
       "      <td>77</td>\n",
       "    </tr>\n",
       "    <tr>\n",
       "      <th>4</th>\n",
       "      <td>17</td>\n",
       "      <td>40</td>\n",
       "    </tr>\n",
       "  </tbody>\n",
       "</table>\n",
       "</div>"
      ],
      "text/plain": [
       "   Annual Income (k$)  Spending Score (1-100)\n",
       "0                  15                      39\n",
       "1                  15                      81\n",
       "2                  16                       6\n",
       "3                  16                      77\n",
       "4                  17                      40"
      ]
     },
     "execution_count": 13,
     "metadata": {},
     "output_type": "execute_result"
    }
   ],
   "source": [
    "X.head()"
   ]
  },
  {
   "cell_type": "code",
   "execution_count": 14,
   "id": "3812e279",
   "metadata": {},
   "outputs": [
    {
     "name": "stderr",
     "output_type": "stream",
     "text": [
      "C:\\anaconda 2022\\lib\\site-packages\\sklearn\\base.py:450: UserWarning: X does not have valid feature names, but KMeans was fitted with feature names\n",
      "  warnings.warn(\n"
     ]
    },
    {
     "data": {
      "text/plain": [
       "3"
      ]
     },
     "execution_count": 14,
     "metadata": {},
     "output_type": "execute_result"
    }
   ],
   "source": [
    "#it predicts the cluster no to which data point belongs to\n",
    "test=kmeans.predict(np.asarray([[15, 81]]))\n",
    "test[0] #they fall in cluster 3"
   ]
  },
  {
   "cell_type": "code",
   "execution_count": 15,
   "id": "a8b597c3",
   "metadata": {},
   "outputs": [
    {
     "name": "stdout",
     "output_type": "stream",
     "text": [
      "     Annual Income (k$)  Spending Score (1-100)\n",
      "123                  69                      91\n",
      "125                  70                      77\n",
      "127                  71                      95\n",
      "129                  71                      75\n",
      "131                  71                      75\n",
      "133                  72                      71\n",
      "135                  73                      88\n",
      "137                  73                      73\n",
      "139                  74                      72\n",
      "141                  75                      93\n",
      "143                  76                      87\n",
      "145                  77                      97\n",
      "147                  77                      74\n",
      "149                  78                      90\n",
      "151                  78                      88\n",
      "153                  78                      76\n",
      "155                  78                      89\n",
      "157                  78                      78\n",
      "159                  78                      73\n",
      "161                  79                      83\n",
      "163                  81                      93\n",
      "165                  85                      75\n",
      "167                  86                      95\n",
      "169                  87                      63\n",
      "171                  87                      75\n",
      "173                  87                      92\n",
      "175                  88                      86\n",
      "177                  88                      69\n",
      "179                  93                      90\n",
      "181                  97                      86\n",
      "183                  98                      88\n",
      "185                  99                      97\n",
      "187                 101                      68\n",
      "189                 103                      85\n",
      "191                 103                      69\n",
      "193                 113                      91\n",
      "195                 120                      79\n",
      "197                 126                      74\n",
      "199                 137                      83\n"
     ]
    }
   ],
   "source": [
    "#y_means is all pur clusters\n",
    "#keep cluster customers in separate dataset\n",
    "cluster_4_customers=X[y_kmeans==4]\n",
    "print(cluster_4_customers)"
   ]
  },
  {
   "cell_type": "code",
   "execution_count": 15,
   "id": "0a9165c7",
   "metadata": {},
   "outputs": [
    {
     "data": {
      "image/png": "[encoded data removed]",
      "text/plain": [
       "<Figure size 576x360 with 1 Axes>"
      ]
     },
     "metadata": {
      "needs_background": "light"
     },
     "output_type": "display_data"
    }
   ],
   "source": [
    "# Visualising the clusters\n",
    "plt.figure(figsize=(8,5))\n",
    "plt.scatter(X[y_kmeans == 0]['Annual Income (k$)'], X[y_kmeans == 0]['Spending Score (1-100)'], s = 100, c = 'red', label = 'Cluster 1')\n",
    "\n",
    "plt.scatter(X[y_kmeans == 1]['Annual Income (k$)'], X[y_kmeans == 1]['Spending Score (1-100)'], s = 100, c = 'blue', label = 'Cluster 2')\n",
    "\n",
    "plt.scatter(X[y_kmeans == 2]['Annual Income (k$)'], X[y_kmeans == 2]['Spending Score (1-100)'], s = 100, c = 'green', label = 'Cluster 3')\n",
    "\n",
    "plt.scatter(X[y_kmeans == 3]['Annual Income (k$)'], X[y_kmeans == 3]['Spending Score (1-100)'], s = 100, c = 'cyan', label = 'Cluster 4')\n",
    "\n",
    "plt.scatter(X[y_kmeans == 4]['Annual Income (k$)'], X[y_kmeans == 4]['Spending Score (1-100)'], s = 100, c = 'magenta', label = 'Cluster 5')\n",
    "\n",
    "plt.scatter(kmeans.cluster_centers_[:, 0], kmeans.cluster_centers_[:, 1], s = 300, c = 'yellow', label = 'Centroids')\n",
    "plt.title('Clusters of customers')\n",
    "plt.xlabel('Annual Income (k$)')\n",
    "plt.ylabel('Spending Score (1-100)')\n",
    "plt.legend()\n",
    "plt.show()"
   ]
  },
  {
   "cell_type": "code",
   "execution_count": 19,
   "id": "8a50b5e2",
   "metadata": {},
   "outputs": [
    {
     "data": {
      "text/plain": [
       "array([[55.2962963 , 49.51851852],\n",
       "       [88.2       , 17.11428571],\n",
       "       [26.30434783, 20.91304348],\n",
       "       [25.72727273, 79.36363636],\n",
       "       [86.53846154, 82.12820513]])"
      ]
     },
     "execution_count": 19,
     "metadata": {},
     "output_type": "execute_result"
    }
   ],
   "source": [
    "kmeans.cluster_centers_ #not needed nut info"
   ]
  },
  {
   "cell_type": "code",
   "execution_count": null,
   "id": "6e18f5c9",
   "metadata": {},
   "outputs": [],
   "source": [
    "#Challenges and improvements in K-Means:\n",
    "#1. We need to specify the number of clusters beforehand.\n",
    "#2. It is required to run the algorithm multiple times to avoid a sub-optimal solution\n",
    "#3. K-Means does not behave very well when the clusters have varying sizes,different densities,or non spherical shapes.\n",
    "#4. The clusters sometimes vary based on the initial choice of the centroids.An important improvement to the K-Means algorithm called K Means ++,was\n",
    "#proposed in a 2006 paper by David Arthur and Sergei Vassilvitskii.They introduced a smarter initialization step that tends to select centroids that are\n",
    "#distant from one another and this makes the K Means algorithm much less likely to converge to a suboptimal solution.\n",
    "#5. Another important improvement to the K-Means algorithm was proposed in a 2003 paper by Charles Elkan.It considerably accelerates the algorithm by\n",
    "#avoiding many unnecessary distance calculations this is achieved by exploiting the triangle inequality i.e.,the straight line is always the shortest;in a\n",
    "#triangle with sides a b and c=>a+b>c)and by keeping track of lower and upper bounds for distances between instances and centroids."
   ]
  },
  {
   "cell_type": "code",
   "execution_count": 23,
   "id": "2a238828",
   "metadata": {},
   "outputs": [
    {
     "name": "stderr",
     "output_type": "stream",
     "text": [
      "C:\\anaconda 2022\\lib\\site-packages\\sklearn\\cluster\\_kmeans.py:1836: UserWarning: MiniBatchKMeans is known to have a memory leak on Windows with MKL, when there are less chunks than available threads. You can prevent it by setting batch_size >= 1024 or by setting the environment variable OMP_NUM_THREADS=1\n",
      "  warnings.warn(\n"
     ]
    },
    {
     "data": {
      "text/plain": [
       "array([3, 1, 3, 1, 3, 1, 3, 1, 3, 1, 3, 1, 3, 1, 3, 1, 3, 1, 3, 1, 3, 1,\n",
       "       3, 1, 3, 1, 3, 1, 3, 1, 3, 1, 3, 1, 3, 1, 3, 1, 3, 1, 3, 1, 3, 1,\n",
       "       3, 1, 1, 1, 1, 1, 1, 1, 1, 1, 1, 1, 1, 1, 1, 1, 1, 1, 1, 1, 1, 1,\n",
       "       1, 1, 1, 1, 1, 1, 1, 1, 1, 1, 1, 1, 1, 1, 1, 1, 1, 1, 1, 1, 1, 1,\n",
       "       1, 1, 1, 1, 1, 1, 1, 1, 1, 1, 1, 1, 1, 1, 1, 1, 1, 1, 1, 1, 1, 1,\n",
       "       1, 1, 1, 1, 1, 1, 1, 1, 1, 1, 1, 1, 1, 4, 0, 4, 0, 4, 0, 4, 0, 4,\n",
       "       0, 4, 0, 4, 0, 4, 0, 4, 0, 4, 0, 4, 0, 4, 0, 4, 0, 4, 0, 4, 0, 4,\n",
       "       0, 4, 0, 4, 0, 4, 0, 4, 0, 4, 0, 4, 0, 4, 0, 4, 0, 4, 0, 4, 0, 4,\n",
       "       0, 4, 0, 4, 0, 2, 0, 2, 0, 2, 0, 2, 0, 2, 0, 2, 0, 2, 0, 2, 0, 2,\n",
       "       0, 2])"
      ]
     },
     "execution_count": 23,
     "metadata": {},
     "output_type": "execute_result"
    }
   ],
   "source": [
    "#MiniBatchkMeans\n",
    "from sklearn.cluster import MiniBatchKMeans\n",
    "minibatch_kmeans = MiniBatchKMeans(n_clusters=5)\n",
    "minibatch_kmeans.fit_predict(X)\n",
    "#it used same data, just diff is that at backend , it takes data in batches instead of entire data\n",
    "#e use when we have 2 millin or 2 much data, just slight difference in accuracy\n",
    "\n",
    "#KMEANS IS DIVISIVE METHOD- WE DIVIDED IT HENCE>>>IT IS TOP DOWN APPRAOCH"
   ]
  },
  {
   "cell_type": "code",
   "execution_count": null,
   "id": "3720d242",
   "metadata": {},
   "outputs": [],
   "source": [
    "#Hierarchical clustering- NOT POPULAR______AGLOMERATIVE APPROACH OR BOTTOM_UP APPROACH\n",
    "#One main disadvantage of K Means is that it needs us to pre enter the number of clusters(K) Hierarchical clustering \n",
    "#is an alternative approach which does not need us to give the value of K beforehand and also,it creates a beautiful tree-based \n",
    "#structure for visualization.\n",
    "#Here,we are going to discuss the bottom-up or Agglomerative) approach of cluster building.We start by defining any sort of \n",
    "#similarity between the datapoints.Generally,we consider the Euclidean distance.The points which are closer to each are more\n",
    "#similar than the points which re farther away.The Algorithms\n",
    "#starts with considering all points as separate clusters and then grouping pints together to form clusters."
   ]
  },
  {
   "cell_type": "code",
   "execution_count": 7,
   "id": "5665e774",
   "metadata": {},
   "outputs": [],
   "source": [
    "import pandas as pd\n",
    "import numpy as np\n",
    "import matplotlib.pyplot as plt\n",
    "%matplotlib inline\n"
   ]
  },
  {
   "cell_type": "code",
   "execution_count": 8,
   "id": "d8b1e4dc",
   "metadata": {},
   "outputs": [],
   "source": [
    "dataset=pd.read_csv('https://raw.githubusercontent.com/training-ml/Files/main/Mall_Customers.csv')\n"
   ]
  },
  {
   "cell_type": "code",
   "execution_count": 9,
   "id": "87d7adb1",
   "metadata": {},
   "outputs": [
    {
     "data": {
      "text/html": [
       "<div>\n",
       "<style scoped>\n",
       "    .dataframe tbody tr th:only-of-type {\n",
       "        vertical-align: middle;\n",
       "    }\n",
       "\n",
       "    .dataframe tbody tr th {\n",
       "        vertical-align: top;\n",
       "    }\n",
       "\n",
       "    .dataframe thead th {\n",
       "        text-align: right;\n",
       "    }\n",
       "</style>\n",
       "<table border=\"1\" class=\"dataframe\">\n",
       "  <thead>\n",
       "    <tr style=\"text-align: right;\">\n",
       "      <th></th>\n",
       "      <th>CustomerID</th>\n",
       "      <th>Genre</th>\n",
       "      <th>Age</th>\n",
       "      <th>Annual Income (k$)</th>\n",
       "      <th>Spending Score (1-100)</th>\n",
       "    </tr>\n",
       "  </thead>\n",
       "  <tbody>\n",
       "    <tr>\n",
       "      <th>0</th>\n",
       "      <td>1</td>\n",
       "      <td>Male</td>\n",
       "      <td>19</td>\n",
       "      <td>15</td>\n",
       "      <td>39</td>\n",
       "    </tr>\n",
       "    <tr>\n",
       "      <th>1</th>\n",
       "      <td>2</td>\n",
       "      <td>Male</td>\n",
       "      <td>21</td>\n",
       "      <td>15</td>\n",
       "      <td>81</td>\n",
       "    </tr>\n",
       "    <tr>\n",
       "      <th>2</th>\n",
       "      <td>3</td>\n",
       "      <td>Female</td>\n",
       "      <td>20</td>\n",
       "      <td>16</td>\n",
       "      <td>6</td>\n",
       "    </tr>\n",
       "    <tr>\n",
       "      <th>3</th>\n",
       "      <td>4</td>\n",
       "      <td>Female</td>\n",
       "      <td>23</td>\n",
       "      <td>16</td>\n",
       "      <td>77</td>\n",
       "    </tr>\n",
       "    <tr>\n",
       "      <th>4</th>\n",
       "      <td>5</td>\n",
       "      <td>Female</td>\n",
       "      <td>31</td>\n",
       "      <td>17</td>\n",
       "      <td>40</td>\n",
       "    </tr>\n",
       "  </tbody>\n",
       "</table>\n",
       "</div>"
      ],
      "text/plain": [
       "   CustomerID   Genre  Age  Annual Income (k$)  Spending Score (1-100)\n",
       "0           1    Male   19                  15                      39\n",
       "1           2    Male   21                  15                      81\n",
       "2           3  Female   20                  16                       6\n",
       "3           4  Female   23                  16                      77\n",
       "4           5  Female   31                  17                      40"
      ]
     },
     "execution_count": 9,
     "metadata": {},
     "output_type": "execute_result"
    }
   ],
   "source": [
    "dataset.head()\n"
   ]
  },
  {
   "cell_type": "code",
   "execution_count": 12,
   "id": "acf6ebcf",
   "metadata": {},
   "outputs": [
    {
     "data": {
      "text/html": [
       "<div>\n",
       "<style scoped>\n",
       "    .dataframe tbody tr th:only-of-type {\n",
       "        vertical-align: middle;\n",
       "    }\n",
       "\n",
       "    .dataframe tbody tr th {\n",
       "        vertical-align: top;\n",
       "    }\n",
       "\n",
       "    .dataframe thead th {\n",
       "        text-align: right;\n",
       "    }\n",
       "</style>\n",
       "<table border=\"1\" class=\"dataframe\">\n",
       "  <thead>\n",
       "    <tr style=\"text-align: right;\">\n",
       "      <th></th>\n",
       "      <th>Annual Income (k$)</th>\n",
       "      <th>Spending Score (1-100)</th>\n",
       "    </tr>\n",
       "  </thead>\n",
       "  <tbody>\n",
       "    <tr>\n",
       "      <th>0</th>\n",
       "      <td>15</td>\n",
       "      <td>39</td>\n",
       "    </tr>\n",
       "    <tr>\n",
       "      <th>1</th>\n",
       "      <td>15</td>\n",
       "      <td>81</td>\n",
       "    </tr>\n",
       "    <tr>\n",
       "      <th>2</th>\n",
       "      <td>16</td>\n",
       "      <td>6</td>\n",
       "    </tr>\n",
       "    <tr>\n",
       "      <th>3</th>\n",
       "      <td>16</td>\n",
       "      <td>77</td>\n",
       "    </tr>\n",
       "    <tr>\n",
       "      <th>4</th>\n",
       "      <td>17</td>\n",
       "      <td>40</td>\n",
       "    </tr>\n",
       "  </tbody>\n",
       "</table>\n",
       "</div>"
      ],
      "text/plain": [
       "   Annual Income (k$)  Spending Score (1-100)\n",
       "0                  15                      39\n",
       "1                  15                      81\n",
       "2                  16                       6\n",
       "3                  16                      77\n",
       "4                  17                      40"
      ]
     },
     "execution_count": 12,
     "metadata": {},
     "output_type": "execute_result"
    }
   ],
   "source": [
    "#dataset\n",
    "X=dataset[['Annual Income (k$)','Spending Score (1-100)']]\n",
    "X.head()"
   ]
  },
  {
   "cell_type": "code",
   "execution_count": null,
   "id": "1bf27f64",
   "metadata": {},
   "outputs": [],
   "source": [
    "#Some theory about linkages\n",
    "#Initially,hierarchical clustering starts out with clusters consisting of individual points.\n",
    "#Later,it compares clusters with each other and merges the two\"closest clusters.\n",
    "#Since clusters are sets of points,there are various linkage methods:\n",
    "#Single Linkage:cluster distance=smallest pairwise distance\n",
    "#Complete Linkage:cluster distance=largest pairwise\n",
    "#Centroid Linkage:cluster distance distance between the centroids of the clusters\n",
    "#Ward's Linkage:cluster criteria= Minimize the variance in the"
   ]
  },
  {
   "cell_type": "code",
   "execution_count": 13,
   "id": "879f4ae9",
   "metadata": {},
   "outputs": [],
   "source": [
    "import scipy.cluster.hierarchy as sch\n"
   ]
  },
  {
   "cell_type": "code",
   "execution_count": 15,
   "id": "bb9840e9",
   "metadata": {},
   "outputs": [
    {
     "data": {
      "image/png": "[encoded data removed]",
      "text/plain": [
       "<Figure size 1440x432 with 1 Axes>"
      ]
     },
     "metadata": {
      "needs_background": "light"
     },
     "output_type": "display_data"
    }
   ],
   "source": [
    "plt.figure(figsize=(20,6))\n",
    "dendo=sch.dendrogram(sch.linkage(X,method='complete'))\n",
    "plt.title('Dendogram')\n",
    "plt.xlabel('Customer data')\n",
    "plt.ylabel('Eucl Distance ')\n",
    "plt.show()\n"
   ]
  },
  {
   "cell_type": "code",
   "execution_count": 16,
   "id": "4253a380",
   "metadata": {},
   "outputs": [],
   "source": [
    "from sklearn.cluster import AgglomerativeClustering\n",
    "#not recommended to use heirarachical cluster"
   ]
  },
  {
   "cell_type": "code",
   "execution_count": 20,
   "id": "15355747",
   "metadata": {},
   "outputs": [
    {
     "data": {
      "text/plain": [
       "array([0, 0, 0, 0, 0, 0, 0, 0, 0, 0, 0, 0, 0, 0, 0, 0, 0, 0, 0, 0, 0, 0,\n",
       "       0, 0, 0, 0, 0, 0, 0, 0, 0, 0, 0, 0, 0, 0, 0, 0, 0, 0, 0, 0, 0, 0,\n",
       "       0, 0, 0, 0, 0, 0, 0, 0, 0, 0, 0, 0, 0, 0, 0, 0, 0, 0, 0, 0, 0, 0,\n",
       "       0, 0, 0, 0, 0, 0, 0, 0, 0, 0, 0, 0, 0, 0, 0, 0, 0, 0, 0, 0, 0, 0,\n",
       "       0, 0, 0, 0, 0, 0, 0, 0, 0, 0, 0, 0, 0, 0, 0, 0, 0, 0, 0, 0, 0, 0,\n",
       "       0, 0, 0, 0, 0, 0, 0, 0, 0, 0, 0, 0, 0, 2, 0, 2, 0, 2, 1, 2, 1, 2,\n",
       "       0, 2, 1, 2, 1, 2, 1, 2, 1, 2, 0, 2, 1, 2, 0, 2, 1, 2, 1, 2, 1, 2,\n",
       "       1, 2, 1, 2, 1, 2, 0, 2, 1, 2, 1, 2, 1, 2, 1, 2, 1, 2, 1, 2, 1, 2,\n",
       "       1, 2, 1, 2, 1, 2, 1, 2, 1, 2, 1, 2, 1, 2, 1, 2, 1, 2, 1, 2, 1, 2,\n",
       "       1, 2], dtype=int64)"
      ]
     },
     "execution_count": 20,
     "metadata": {},
     "output_type": "execute_result"
    }
   ],
   "source": [
    "group=AgglomerativeClustering(n_clusters=3)\n",
    "group.fit_predict(X)"
   ]
  },
  {
   "cell_type": "code",
   "execution_count": 23,
   "id": "fde22768",
   "metadata": {},
   "outputs": [],
   "source": [
    "cluster=group.fit_predict(X)\n"
   ]
  },
  {
   "cell_type": "code",
   "execution_count": 24,
   "id": "4daa0469",
   "metadata": {},
   "outputs": [],
   "source": [
    "#Model evaluation tool\n",
    "from sklearn.metrics import silhouette_score\n"
   ]
  },
  {
   "cell_type": "code",
   "execution_count": 25,
   "id": "03378d5d",
   "metadata": {},
   "outputs": [
    {
     "data": {
      "text/plain": [
       "0.4618340266628975"
      ]
     },
     "execution_count": 25,
     "metadata": {},
     "output_type": "execute_result"
    }
   ],
   "source": [
    "#Check how well your model is making clusters\n",
    "silhouette_score(X,cluster)\n",
    "#in k means we got 56%, difference is big. we cna make it 5, to compare it with last method clusetr of 5"
   ]
  },
  {
   "cell_type": "code",
   "execution_count": 27,
   "id": "91bea085",
   "metadata": {},
   "outputs": [],
   "source": [
    "## Save data according to the cluster for further analysis/process.\n",
    "customer_cluster_0=dataset[cluster==0]\n",
    "customer_cluster_1=dataset[cluster==1]\n",
    "customer_cluster_2 = dataset[cluster==2]"
   ]
  },
  {
   "cell_type": "code",
   "execution_count": 28,
   "id": "1c471bdc",
   "metadata": {},
   "outputs": [
    {
     "name": "stdout",
     "output_type": "stream",
     "text": [
      "     CustomerID   Genre  Age  Annual Income (k$)  Spending Score (1-100)\n",
      "123         124    Male   39                  69                      91\n",
      "125         126  Female   31                  70                      77\n",
      "127         128    Male   40                  71                      95\n",
      "129         130    Male   38                  71                      75\n",
      "131         132    Male   39                  71                      75\n",
      "133         134  Female   31                  72                      71\n",
      "135         136  Female   29                  73                      88\n",
      "137         138    Male   32                  73                      73\n",
      "139         140  Female   35                  74                      72\n",
      "141         142    Male   32                  75                      93\n",
      "143         144  Female   32                  76                      87\n",
      "145         146    Male   28                  77                      97\n",
      "147         148  Female   32                  77                      74\n",
      "149         150    Male   34                  78                      90\n",
      "151         152    Male   39                  78                      88\n",
      "153         154  Female   38                  78                      76\n",
      "155         156  Female   27                  78                      89\n",
      "157         158  Female   30                  78                      78\n",
      "159         160  Female   30                  78                      73\n",
      "161         162  Female   29                  79                      83\n",
      "163         164  Female   31                  81                      93\n",
      "165         166  Female   36                  85                      75\n",
      "167         168  Female   33                  86                      95\n",
      "169         170    Male   32                  87                      63\n",
      "171         172    Male   28                  87                      75\n",
      "173         174    Male   36                  87                      92\n",
      "175         176  Female   30                  88                      86\n",
      "177         178    Male   27                  88                      69\n",
      "179         180    Male   35                  93                      90\n",
      "181         182  Female   32                  97                      86\n",
      "183         184  Female   29                  98                      88\n",
      "185         186    Male   30                  99                      97\n",
      "187         188    Male   28                 101                      68\n",
      "189         190  Female   36                 103                      85\n",
      "191         192  Female   32                 103                      69\n",
      "193         194  Female   38                 113                      91\n",
      "195         196  Female   35                 120                      79\n",
      "197         198    Male   32                 126                      74\n",
      "199         200    Male   30                 137                      83\n"
     ]
    }
   ],
   "source": [
    "print(customer_cluster_2)"
   ]
  },
  {
   "cell_type": "code",
   "execution_count": 29,
   "id": "a38cd087",
   "metadata": {},
   "outputs": [
    {
     "data": {
      "text/plain": [
       "array([4, 3, 4, 3, 4, 3, 4, 3, 4, 3, 4, 3, 4, 3, 4, 3, 4, 3, 4, 3, 4, 3,\n",
       "       4, 3, 4, 3, 4, 3, 4, 3, 4, 3, 4, 3, 4, 3, 4, 3, 4, 3, 4, 3, 4, 1,\n",
       "       4, 1, 1, 1, 1, 1, 1, 1, 1, 1, 1, 1, 1, 1, 1, 1, 1, 1, 1, 1, 1, 1,\n",
       "       1, 1, 1, 1, 1, 1, 1, 1, 1, 1, 1, 1, 1, 1, 1, 1, 1, 1, 1, 1, 1, 1,\n",
       "       1, 1, 1, 1, 1, 1, 1, 1, 1, 1, 1, 1, 1, 1, 1, 1, 1, 1, 1, 1, 1, 1,\n",
       "       1, 1, 1, 1, 1, 1, 1, 1, 1, 1, 1, 1, 1, 2, 1, 2, 1, 2, 0, 2, 0, 2,\n",
       "       1, 2, 0, 2, 0, 2, 0, 2, 0, 2, 1, 2, 0, 2, 1, 2, 0, 2, 0, 2, 0, 2,\n",
       "       0, 2, 0, 2, 0, 2, 1, 2, 0, 2, 0, 2, 0, 2, 0, 2, 0, 2, 0, 2, 0, 2,\n",
       "       0, 2, 0, 2, 0, 2, 0, 2, 0, 2, 0, 2, 0, 2, 0, 2, 0, 2, 0, 2, 0, 2,\n",
       "       0, 2], dtype=int64)"
      ]
     },
     "execution_count": 29,
     "metadata": {},
     "output_type": "execute_result"
    }
   ],
   "source": [
    "#using 5 as cluster\n",
    "group=AgglomerativeClustering(n_clusters=5)\n",
    "group.fit_predict(X)"
   ]
  },
  {
   "cell_type": "code",
   "execution_count": 30,
   "id": "72eaf828",
   "metadata": {},
   "outputs": [],
   "source": [
    "cluster=group.fit_predict(X)"
   ]
  },
  {
   "cell_type": "code",
   "execution_count": 31,
   "id": "ff413089",
   "metadata": {},
   "outputs": [],
   "source": [
    "#Model evaluation tool\n",
    "from sklearn.metrics import silhouette_score"
   ]
  },
  {
   "cell_type": "code",
   "execution_count": 32,
   "id": "41f95f20",
   "metadata": {},
   "outputs": [
    {
     "data": {
      "text/plain": [
       "0.5529945955148897"
      ]
     },
     "execution_count": 32,
     "metadata": {},
     "output_type": "execute_result"
    }
   ],
   "source": [
    "#Check how well your model is making clusters\n",
    "silhouette_score(X,cluster)\n",
    "#in k means we got 56%, difference is big. we made cluster 5 and now we got close to 56%"
   ]
  },
  {
   "cell_type": "code",
   "execution_count": 33,
   "id": "4d6010ea",
   "metadata": {},
   "outputs": [],
   "source": [
    "## Save data according to the cluster for further analysis/process.\n",
    "customer_cluster_0=dataset[cluster==0] #always select customers==0, instead of 2\n",
    "customer_cluster_1=dataset[cluster==1]\n",
    "customer_cluster_2 = dataset[cluster==2]"
   ]
  },
  {
   "cell_type": "code",
   "execution_count": 34,
   "id": "1a4c40df",
   "metadata": {},
   "outputs": [
    {
     "name": "stdout",
     "output_type": "stream",
     "text": [
      "     CustomerID   Genre  Age  Annual Income (k$)  Spending Score (1-100)\n",
      "123         124    Male   39                  69                      91\n",
      "125         126  Female   31                  70                      77\n",
      "127         128    Male   40                  71                      95\n",
      "129         130    Male   38                  71                      75\n",
      "131         132    Male   39                  71                      75\n",
      "133         134  Female   31                  72                      71\n",
      "135         136  Female   29                  73                      88\n",
      "137         138    Male   32                  73                      73\n",
      "139         140  Female   35                  74                      72\n",
      "141         142    Male   32                  75                      93\n",
      "143         144  Female   32                  76                      87\n",
      "145         146    Male   28                  77                      97\n",
      "147         148  Female   32                  77                      74\n",
      "149         150    Male   34                  78                      90\n",
      "151         152    Male   39                  78                      88\n",
      "153         154  Female   38                  78                      76\n",
      "155         156  Female   27                  78                      89\n",
      "157         158  Female   30                  78                      78\n",
      "159         160  Female   30                  78                      73\n",
      "161         162  Female   29                  79                      83\n",
      "163         164  Female   31                  81                      93\n",
      "165         166  Female   36                  85                      75\n",
      "167         168  Female   33                  86                      95\n",
      "169         170    Male   32                  87                      63\n",
      "171         172    Male   28                  87                      75\n",
      "173         174    Male   36                  87                      92\n",
      "175         176  Female   30                  88                      86\n",
      "177         178    Male   27                  88                      69\n",
      "179         180    Male   35                  93                      90\n",
      "181         182  Female   32                  97                      86\n",
      "183         184  Female   29                  98                      88\n",
      "185         186    Male   30                  99                      97\n",
      "187         188    Male   28                 101                      68\n",
      "189         190  Female   36                 103                      85\n",
      "191         192  Female   32                 103                      69\n",
      "193         194  Female   38                 113                      91\n",
      "195         196  Female   35                 120                      79\n",
      "197         198    Male   32                 126                      74\n",
      "199         200    Male   30                 137                      83\n"
     ]
    }
   ],
   "source": [
    "print(customer_cluster_2)"
   ]
  },
  {
   "cell_type": "code",
   "execution_count": null,
   "id": "8783d3a1",
   "metadata": {},
   "outputs": [],
   "source": [
    "#DBSCAN(Density Based Spatial Clustering of Apllications with Noise)- USED FOR OUTLIERS-EVEN FOR REGRESSION RATHER THAN CLUSTERING\n",
    "\n",
    "#It is an unsupervised machine learning algorithm.This algorithm defines clusters as continuous regions of high density.\n",
    "#Some definitions first:\n",
    "#Epsilon:This is also called eps. This is the distance till which we look for the neighbouring points.\n",
    "#Min_points:The minimum number of points specified by the user.\n",
    "#Core Points:If the number of points inside the eps radius of a point is greater than or equal to the\n",
    "#min_points then it's called a core point.\n",
    "#Border Points:If the number of points inside the eps radius of a point is less than the min_points and it lies within the eps radius region of a core point,it's\n",
    "#called a border point.\n",
    "#Noise:A point which is neither a core nor a border point is a noise point.\n",
    "#Let's say if the eps=1 and min_points=4"
   ]
  },
  {
   "cell_type": "code",
   "execution_count": null,
   "id": "e13b7a80",
   "metadata": {},
   "outputs": [],
   "source": [
    "#when i say eps=1 and mn_data =3, it means atleast 3 data points in the radius of eps=1 \n",
    "#if there is no points in the radius, it is far from data, it is outlier, min point is 3, or whetever set by you"
   ]
  },
  {
   "cell_type": "code",
   "execution_count": null,
   "id": "61d535dc",
   "metadata": {},
   "outputs": [],
   "source": [
    "#Algorithm Steps:\n",
    "#1. The algorithm starts with a random point in the dataset which has not been visited yet and its \n",
    "#neighbouring points are identified based on the eps value.\n",
    "#2. If the point contains greater than or equal points than the min_pts,then the cluster formation starts and this point \n",
    "#becomes a core point,else it's considered as noise.The thing to note here is that a point initially classified as noise can\n",
    "#later become a border point if it's in the eps radius of a core point.\n",
    "#3. If the point is a core point,then all its neighbours become a part of the cluster.\n",
    "#If the points in the neighbourhood turn out to be core points then their neighbours are also part of the cluster.\n",
    "#4. Repeat the steps above until all points are classified into different clusters or noises.\n",
    "#This algorithm works well if all the clusters are dense enough and they are well separated by low-density regions.\n"
   ]
  },
  {
   "cell_type": "code",
   "execution_count": 35,
   "id": "270fe204",
   "metadata": {},
   "outputs": [],
   "source": [
    "#Necessary Imports\n",
    "import numpy as np\n",
    "from sklearn.cluster import DBSCAN\n",
    "from sklearn.cluster import DBSCAN\n",
    "from sklearn import metrics\n",
    "from sklearn.datasets import make_blobs\n",
    "from sklearn.preprocessing import StandardScaler\n"
   ]
  },
  {
   "cell_type": "code",
   "execution_count": 37,
   "id": "ef9b2a93",
   "metadata": {},
   "outputs": [],
   "source": [
    "#Data creation. #sperarating features from rateget. it takes any random data\n",
    "centers=[[1, 1], [-1, -1], [1,-1]]\n",
    "X, labels_true=make_blobs(n_samples=750, centers=centers, cluster_std=0.4,\n",
    "                          random_state=0) #generate sample blobs\n"
   ]
  },
  {
   "cell_type": "code",
   "execution_count": 38,
   "id": "c5bd5828",
   "metadata": {},
   "outputs": [
    {
     "data": {
      "text/plain": [
       "array([[ 0.84022039,  1.14802236],\n",
       "       [-1.15474834, -1.2041171 ],\n",
       "       [ 0.67863613,  0.72418009],\n",
       "       [ 0.45078298, -1.4270968 ],\n",
       "       [ 1.49211627,  1.48095194]])"
      ]
     },
     "execution_count": 38,
     "metadata": {},
     "output_type": "execute_result"
    }
   ],
   "source": [
    "x=StandardScaler().fit_transform(X)\n",
    "X[:5]"
   ]
  },
  {
   "cell_type": "code",
   "execution_count": 39,
   "id": "dea75c0f",
   "metadata": {},
   "outputs": [],
   "source": [
    "#DBSCAN\n",
    "db = DBSCAN(eps=0.2, min_samples=4).fit(x)\n",
    "#u can increade epe to finf the max outliers or catch customers who have cheated the most\n",
    "#as eps increases, noise reduces\n",
    "#if 750 data points n 200 outliers or noise, makes no sense, increase ur eps"
   ]
  },
  {
   "cell_type": "code",
   "execution_count": 40,
   "id": "a43c370f",
   "metadata": {},
   "outputs": [
    {
     "name": "stdout",
     "output_type": "stream",
     "text": [
      "[ 0  1  0  2  0  1  1  2  0  0  1  1  1  2 -1  0 -1  1 -1  2  2  2  2  2\n",
      "  1  1  2  0  0  2  0  1  1  0  1  0  2  0  0 -1  2  1  1  1  1  1  0  2\n",
      "  0  1  2  2  1  1  2  2  1  0  2  1  2  2  2  2  2  0  2  2  0  0  0  2\n",
      "  0  0  2  1 -1  1  0  2  1  1  0  0  0  0  1  2  1  2  2  0  1  0  1 -1\n",
      "  1  1  0  0  2  1  2  0  2  2  2  2  3  0 -1  1  1  1  1  0  0  1  0  1\n",
      "  2  1  0  0  1  2  1  0  0  2  0  2  2  2  0 -1  2  2  0  1  0  2  0  0\n",
      "  2  2 -1  2  1  3  2  1  1  2  2  2 -1  1  0  1  0  1  0  2  2 -1  1  2\n",
      "  2  1  0  1  2  2  2  1  1  2  2  0  1  2  0  0  2  0  0  1  0  1  0  1\n",
      "  1  2  2  0  0  1  1  2  1  2  4  2  2  0  2  0  2  2  0  2  2  2  0  0\n",
      "  1  1 -1  2  2  2  2  1  2  2  0  0  2  0  0  0  1  0  1  1  1  2  1  1\n",
      "  0  1  2  2  1  2  2  1  0  0  1  1  1  0  1  0  2  0  2  4  2  2  2  1\n",
      "  1  0  0  1  1  0  0  2  1 -1  2  1  1  2  1  2  0  2 -1  0  1  2  2  0\n",
      "  2  2  0  0  2  0  2  0  2  1  0  0  0  1  2  1  2  2  0  2  2  0  0  2\n",
      "  1  1  1  1  1  0  1  1  1 -1  0  0  1  1  1  0  2  0  1  2  2  0  0  2\n",
      "  0 -1  1  0  2  0  2  0  2  2  0  1  0  1  0  2  2  1  1  1  2  0  2  0\n",
      "  2  1  2  2  0  1  0  1  0  0  0  0  2  0  2  0  1  0  1  2  1  1  1  0\n",
      "  1  1  0 -1  1  0  2  2  1  1  2  2  2  1  2  1  2  0  2  1  2  1  0  1\n",
      "  0  1  1  0  1  2  4  1  0  0  2  1  2  2  2  2  1  0  0  0  0  1  0  2\n",
      "  1  0  1  2  0  0  1  0  1  1  0 -1  0  2  2  2  1  1  2  0  1  0 -1  1\n",
      "  0  1  1  2  2 -1  0  1  2  2  1  1 -1  1  0  0  0  2  2  1  2  1  0  0\n",
      "  1  2  1  0  0  2  0  1  0  2  1  0  2  2  1  0  0  0  2  1  1  0  2  0\n",
      "  0  1  1  1  1  0  1  0  1  0  0  2  0  1  1  2  1  1  0  1  0  2  1  0\n",
      "  0  1  0 -1  1  2  2  1  2  2  1  2  1  1  1  1  2  0  0  3  1  2  2  0\n",
      "  2  0  2  1  0  1  1  0  0  1  2  1  2  2  0  2  1  1 -1  2  0  0  2  0\n",
      "  2  2  0  2  0  1  1  1  1  0  0  0  2  1  1  1  1  2  2  2  0  2  1  1\n",
      "  0  0  1  0  2  1  2  1  0  2  2  0  0  1  0  0  2  0  0  0  2  0  2  0\n",
      "  0  1  1  0  0  1  2  2  0  0  0  0  2  1  1  1  2  1  0  0  2  2  0  1\n",
      "  2  0  1  2  2  1  0  0  4 -1  2  3  0  0  2 -1  2  0  1  1  1  1  1 -1\n",
      "  0  2  1  2  0  1  1 -1  0  2  1  1 -1  2  1  2  0  2  2  1  0  0  0  1\n",
      "  1  2  0  0  2  2  1  2  2  2  0  2  1  2  1  1  1  2  0  2  0  2  2  0\n",
      "  0  2  1  2  0  2  0  0  0  1  0  2  1  2  0  1  0  0  2  0  2  1  1  2\n",
      "  1  0  1  2  1  2]\n"
     ]
    }
   ],
   "source": [
    "labels = db.labels_ #similar to the model.fit() method, it gives the Labels of the clustered data\n",
    "print(labels) #db.labels gives clusters\n",
    "#the -1 are basically noise\n",
    "#u can do this with any data, just remove labels"
   ]
  },
  {
   "cell_type": "code",
   "execution_count": 41,
   "id": "b9a44776",
   "metadata": {},
   "outputs": [
    {
     "data": {
      "text/plain": [
       "6"
      ]
     },
     "execution_count": 41,
     "metadata": {},
     "output_type": "execute_result"
    }
   ],
   "source": [
    "len(set(labels))\n",
    "#set function emoves all duplicates"
   ]
  },
  {
   "cell_type": "code",
   "execution_count": 42,
   "id": "6b70caea",
   "metadata": {},
   "outputs": [
    {
     "data": {
      "text/plain": [
       "1"
      ]
     },
     "execution_count": 42,
     "metadata": {},
     "output_type": "execute_result"
    }
   ],
   "source": [
    "1 if -1 in labels else 0\n"
   ]
  },
  {
   "cell_type": "code",
   "execution_count": 45,
   "id": "d1cc98bd",
   "metadata": {},
   "outputs": [],
   "source": [
    "#Number of clusters in Labels, ignoring noise if present.\n",
    "n_clusters_=len(set(labels)) - (1 if -1 in labels else 0) #the Label -1 is considered as noise by the DBSCAN algorithm\n",
    "n_noise_=list(labels).count(-1) #calculating the number of noises (-1)"
   ]
  },
  {
   "cell_type": "code",
   "execution_count": 46,
   "id": "abbba5cc",
   "metadata": {},
   "outputs": [
    {
     "name": "stdout",
     "output_type": "stream",
     "text": [
      "Estimated number of clusters: 5\n",
      "Estimated number of noise points: 28\n"
     ]
    }
   ],
   "source": [
    "print('Estimated number of clusters: %d' % n_clusters_)\n",
    "print('Estimated number of noise points: %d' % n_noise_)"
   ]
  },
  {
   "cell_type": "code",
   "execution_count": 47,
   "id": "fdd6c7e8",
   "metadata": {},
   "outputs": [
    {
     "data": {
      "text/plain": [
       "(array([-1,  0,  1,  2,  3,  4], dtype=int64),\n",
       " array([ 28, 238, 237, 239,   4,   4], dtype=int64))"
      ]
     },
     "execution_count": 47,
     "metadata": {},
     "output_type": "execute_result"
    }
   ],
   "source": [
    "#Finding counts in each cluster\n",
    "np.unique(labels, return_counts=True)\n",
    "#0 and 1 are clusters, 247 and 142 are no of 0 and 1 clusters"
   ]
  },
  {
   "cell_type": "code",
   "execution_count": 48,
   "id": "d0ccab82",
   "metadata": {},
   "outputs": [
    {
     "name": "stdout",
     "output_type": "stream",
     "text": [
      "[[-4.85606397e-01 -1.60279936e+00]\n",
      " [-1.15695560e+00 -2.21845722e+00]\n",
      " [-1.97845144e-01 -6.47624976e-01]\n",
      " [ 1.53977594e-01 -4.37853825e-01]\n",
      " [ 1.87726213e-01  1.82579714e+00]\n",
      " [ 1.59779382e+00  1.72005990e-01]\n",
      " [ 2.07848962e+00  9.70430133e-01]\n",
      " [-1.26258547e+00 -2.13382180e+00]\n",
      " [-1.10943658e-01 -5.39306410e-01]\n",
      " [ 1.39149519e+00  1.89635728e+00]\n",
      " [-1.53283591e-01 -1.64435136e+00]\n",
      " [-6.10985684e-01 -1.46452701e-01]\n",
      " [ 2.01054730e+00 -2.92031445e-01]\n",
      " [ 1.36772574e-01 -4.72579593e-01]\n",
      " [-1.56876795e+00 -2.00817568e-01]\n",
      " [ 1.26638686e+00 -2.01382178e+00]\n",
      " [ 2.43055243e-01 -1.07112526e+00]\n",
      " [-1.20881119e-01 -1.47536977e+00]\n",
      " [ 9.77743082e-02  5.90997263e-01]\n",
      " [-1.11984337e-03 -1.89812866e+00]\n",
      " [-8.85238205e-01 -1.92823771e+00]\n",
      " [-2.03311865e+00 -1.46158015e+00]\n",
      " [-8.07553949e-01  1.03742046e-01]\n",
      " [-5.68721079e-01 -2.02367387e+00]\n",
      " [ 2.26838991e+00 -9.24200145e-01]\n",
      " [ 1.90372358e+00  9.83097139e-01]\n",
      " [ 3.77698351e-02 -1.16161292e+00]\n",
      " [-6.13411878e-02 -1.51166444e+00]]\n"
     ]
    }
   ],
   "source": [
    "#Select only noises or outliers for further action.\n",
    "noises=X[labels == -1]\n",
    "print(noises)"
   ]
  },
  {
   "cell_type": "code",
   "execution_count": 49,
   "id": "bb2e4e5c",
   "metadata": {},
   "outputs": [
    {
     "name": "stdout",
     "output_type": "stream",
     "text": [
      "[[ 0.84022039  1.14802236]\n",
      " [ 0.67863613  0.72418009]\n",
      " [ 1.49211627  1.48095194]\n",
      " [ 1.45065437  0.5680274 ]\n",
      " [ 1.37976832  1.0350205 ]\n",
      " [ 0.53752703  1.31247924]\n",
      " [ 1.24563175  1.36888267]\n",
      " [ 0.58630286  1.27263781]\n",
      " [ 0.82363095  0.8878578 ]\n",
      " [ 0.87537899  1.02246614]\n",
      " [ 1.11217668  0.60275056]\n",
      " [ 0.83872922  1.48897803]\n",
      " [ 0.72217286  0.94014618]\n",
      " [ 0.88973179  0.71610881]\n",
      " [ 0.80078702  1.77181282]\n",
      " [ 1.74702358  1.36241786]\n",
      " [ 1.34577448  0.70313399]\n",
      " [ 0.491806    1.38775868]\n",
      " [ 0.84506927  0.8790789 ]\n",
      " [ 0.73657881  0.79430641]\n",
      " [ 0.7041748   1.61720584]\n",
      " [ 0.68694834  0.95584428]\n",
      " [ 0.57169895  1.42178069]\n",
      " [ 0.81245432  0.11942349]\n",
      " [ 0.34792066  1.1851129 ]\n",
      " [ 0.5244563   0.79727346]\n",
      " [ 1.86529438  1.53461118]\n",
      " [ 0.74566157  1.27057332]\n",
      " [ 1.33665251  0.90021657]\n",
      " [ 0.74502519  0.84109127]\n",
      " [ 0.42138612  1.32011918]\n",
      " [ 0.98313142  0.88524512]\n",
      " [ 0.8586273   0.35341032]\n",
      " [ 0.87639481  0.32959848]\n",
      " [ 0.81326178  0.43323755]\n",
      " [ 0.95578374  1.40806908]\n",
      " [ 1.11929527  1.53055436]\n",
      " [ 0.29258462  1.14219272]\n",
      " [ 1.34273224  0.73958976]\n",
      " [ 0.79613913  0.82477028]\n",
      " [ 1.07097046  0.83928763]\n",
      " [ 0.6364947   0.83027295]\n",
      " [ 0.72318006  1.61455082]\n",
      " [ 1.60799794  1.68783572]\n",
      " [ 0.84190841  0.53623179]\n",
      " [ 1.15057021  0.56023968]\n",
      " [ 0.31749192  1.78031016]\n",
      " [ 0.67474149  0.30948696]\n",
      " [ 0.85840244  0.45001948]\n",
      " [ 0.99026955  0.70478764]\n",
      " [ 1.29887533  0.52442202]\n",
      " [ 1.25009258  0.35917694]\n",
      " [ 1.30930119  0.52644774]\n",
      " [ 1.01545222  0.33731396]\n",
      " [ 1.3503331   0.95395701]\n",
      " [ 0.99372716  1.06437127]\n",
      " [ 0.73101582  0.85617874]\n",
      " [ 1.36834353  1.12749106]\n",
      " [ 1.13556165  1.80841742]\n",
      " [ 0.94562012  1.45475655]\n",
      " [ 0.64181338  1.154761  ]\n",
      " [ 1.05076484  1.16079575]\n",
      " [ 1.65925397  1.0656911 ]\n",
      " [ 0.19343735  0.78421815]\n",
      " [ 0.87564553  1.03896007]\n",
      " [ 0.6057957   0.411266  ]\n",
      " [ 1.27938286  1.00150836]\n",
      " [ 0.77227518  1.10796174]\n",
      " [ 0.53394006  1.36033059]\n",
      " [ 0.94684777  0.88088365]\n",
      " [ 0.38368119  1.0253048 ]\n",
      " [ 1.26655323  0.81571209]\n",
      " [ 1.07972008  0.97975858]\n",
      " [ 1.37890079  0.93799596]\n",
      " [ 0.85412258  1.06268154]\n",
      " [ 1.69308847  1.27380044]\n",
      " [-0.02119593  1.26144744]\n",
      " [ 1.61311169  1.58774351]\n",
      " [ 0.95871246  1.1642394 ]\n",
      " [ 1.42740376  0.81864568]\n",
      " [ 0.26277218  0.8088104 ]\n",
      " [ 0.76107357  0.90483131]\n",
      " [ 0.35444086  0.91490389]\n",
      " [ 0.69203357  1.21569968]\n",
      " [ 0.59278325  0.9688581 ]\n",
      " [ 1.69554907  1.39775776]\n",
      " [ 0.73026694  1.01273222]\n",
      " [ 1.32022592  1.03130407]\n",
      " [ 1.32863428  1.00211706]\n",
      " [ 0.98171842  1.08820306]\n",
      " [ 1.47521192  1.12677704]\n",
      " [ 1.11453748  1.24353753]\n",
      " [ 1.06197897  1.15126501]\n",
      " [ 1.18525213  1.11163831]\n",
      " [ 1.45576027  0.50606967]\n",
      " [ 0.53075064  1.77744847]\n",
      " [ 1.54581274  0.72422033]\n",
      " [ 0.29764377  1.18037378]\n",
      " [ 0.99319183  1.15166069]\n",
      " [ 0.73908256  0.79152428]\n",
      " [ 1.2689179   1.16298473]\n",
      " [ 0.55824666  1.02086603]\n",
      " [ 1.30441509  1.04867001]\n",
      " [-0.0636689   1.24252781]\n",
      " [ 1.59530088  1.75835567]\n",
      " [ 0.98872711  1.17133275]\n",
      " [ 1.27592727  1.52073849]\n",
      " [ 1.34316957  1.45644075]\n",
      " [ 1.46093263  1.43184744]\n",
      " [ 1.03908999  1.23318147]\n",
      " [ 0.76053843  0.55364121]\n",
      " [ 0.58189865  1.48445812]\n",
      " [ 0.65550973  1.76402598]\n",
      " [ 1.60533123  1.22125283]\n",
      " [ 0.83455241  0.70101808]\n",
      " [ 0.36682464  1.24415175]\n",
      " [ 1.14833     1.05682472]\n",
      " [ 0.87635422  0.90661334]\n",
      " [ 1.34758539  1.11074876]\n",
      " [ 0.65168114  0.76846013]\n",
      " [ 0.79887332  1.96498147]\n",
      " [ 1.78236492  1.15603733]\n",
      " [ 1.20931066  0.93138147]\n",
      " [ 0.97534944  0.95707789]\n",
      " [ 1.25732579  0.37175064]\n",
      " [ 1.18626498  0.38550253]\n",
      " [ 0.89290659  0.54879547]\n",
      " [ 0.84604808  1.03774064]\n",
      " [ 0.22548808  1.07551144]\n",
      " [ 0.08455198  1.10059377]\n",
      " [ 1.31453118  0.81343236]\n",
      " [ 0.6222215   0.83598012]\n",
      " [ 0.73903657  0.84361865]\n",
      " [ 0.54926968  0.7077289 ]\n",
      " [ 1.22691611  0.91092996]\n",
      " [ 0.6746543   0.41343027]\n",
      " [ 1.29163622  1.05159316]\n",
      " [ 1.05761743  1.5817094 ]\n",
      " [ 0.9237386   0.84206019]\n",
      " [ 1.17050349  1.27076321]\n",
      " [ 1.11196984  0.96073984]\n",
      " [ 1.18296624  0.61415519]\n",
      " [ 0.47363704  0.81536616]\n",
      " [ 1.10980654  0.64363397]\n",
      " [ 0.5370579   0.8750831 ]\n",
      " [ 1.0666694   1.25401257]\n",
      " [ 1.58663149  1.34102078]\n",
      " [ 1.76917681  1.59220592]\n",
      " [ 0.94651938  1.43109752]\n",
      " [ 0.74876498  0.80758915]\n",
      " [ 1.08330999  1.39065561]\n",
      " [ 1.38003537  0.93945712]\n",
      " [ 1.44011374  1.51920879]\n",
      " [ 0.63213972  0.05717429]\n",
      " [ 0.72639564  1.66382032]\n",
      " [ 1.17754529  1.13346973]\n",
      " [ 1.37273935  1.13598599]\n",
      " [ 0.63487111  1.44680652]\n",
      " [ 0.88326505  0.69540312]\n",
      " [ 0.91723853  1.35207156]\n",
      " [ 0.89279865  1.32098256]\n",
      " [ 0.82593858  1.73970549]\n",
      " [ 1.45143763  1.19840038]\n",
      " [ 0.16215877  1.04948877]\n",
      " [ 1.16093666  0.72607596]\n",
      " [ 0.94795722  1.03758129]\n",
      " [ 1.37180204  1.23288984]\n",
      " [ 1.01830341  0.92512646]\n",
      " [ 0.72486496  0.51436904]\n",
      " [ 1.19749671  0.95355842]\n",
      " [ 1.14254656  1.28262927]\n",
      " [ 1.05678127  0.87226863]\n",
      " [ 0.50982579  1.33774519]\n",
      " [ 1.43986384  1.26210549]\n",
      " [ 1.59763163  0.91793669]\n",
      " [ 0.58802589  0.86002265]\n",
      " [ 0.86083514  1.06253959]\n",
      " [ 0.97270336  1.68533709]\n",
      " [ 0.43037564  0.80267205]\n",
      " [ 1.06260262  1.09287241]\n",
      " [ 0.96061899  0.73460869]\n",
      " [ 0.817787    1.00699166]\n",
      " [ 0.54101254  0.82487198]\n",
      " [ 0.96562769  1.07771718]\n",
      " [ 0.69434243  0.42488341]\n",
      " [ 0.79299238  0.60846806]\n",
      " [ 0.76147438  0.97897308]\n",
      " [ 1.95325791  1.37779179]\n",
      " [ 0.49888186  1.31099614]\n",
      " [ 1.47151183  0.92803007]\n",
      " [ 1.52765475  0.64703247]\n",
      " [ 0.92597853  0.6769406 ]\n",
      " [ 1.30856238  1.41177553]\n",
      " [ 0.61155817  1.12592688]\n",
      " [ 1.00420001  1.7143482 ]\n",
      " [ 0.95273438  0.72792872]\n",
      " [ 0.59991386  0.38209156]\n",
      " [ 0.61579825  0.68275305]\n",
      " [ 0.58057881  0.43199283]\n",
      " [ 0.71811989  1.37730429]\n",
      " [ 0.78285541  1.16642002]\n",
      " [ 0.32075767  1.15491219]\n",
      " [ 0.79567794  0.52774713]\n",
      " [ 0.93693319  1.9026894 ]\n",
      " [ 1.70562094  1.16006288]\n",
      " [ 0.617622    0.86160729]\n",
      " [ 1.2314086   1.13986178]\n",
      " [ 1.25605261  0.35321758]\n",
      " [ 1.2766155   1.27789966]\n",
      " [ 0.57814861  1.32809913]\n",
      " [ 0.71215824  0.6748028 ]\n",
      " [ 0.48285724  1.10682035]\n",
      " [ 0.40349696  1.17575668]\n",
      " [ 0.80813767  1.24814332]\n",
      " [ 1.36407156  1.12688729]\n",
      " [ 1.27750926  0.93617062]\n",
      " [ 0.74255264  0.11063874]\n",
      " [ 1.20955641  1.03536883]\n",
      " [ 1.02660689  1.12098876]\n",
      " [ 1.20842595  0.76968481]\n",
      " [ 0.47738926  1.66325227]\n",
      " [ 1.30666527  1.14251713]\n",
      " [ 1.23063633  0.9166805 ]\n",
      " [ 1.30871622  1.32940166]\n",
      " [ 1.01979799  1.19753471]\n",
      " [ 0.63708065  1.02077816]\n",
      " [ 0.81456161  1.19259259]\n",
      " [ 0.46629661  0.461313  ]\n",
      " [ 0.82432419  1.07253537]\n",
      " [ 0.70209807  0.66942458]\n",
      " [ 1.12522708  0.6583617 ]\n",
      " [ 1.32580793  1.02357024]\n",
      " [ 0.6448857   0.20768141]\n",
      " [ 1.15840269  0.5627754 ]\n",
      " [ 0.74627116  0.85490353]\n",
      " [ 0.98428687  0.5327626 ]\n",
      " [ 0.70976105  0.44665442]\n",
      " [ 0.85232726  0.90424833]]\n"
     ]
    }
   ],
   "source": [
    "#if u pass 1 instead of zero, then 0 clsuter points will be displayed\n",
    "noises=X[labels == 0]\n",
    "print(noises)"
   ]
  },
  {
   "cell_type": "code",
   "execution_count": null,
   "id": "0bd6a144",
   "metadata": {},
   "outputs": [],
   "source": []
  }
 ],
 "metadata": {
  "kernelspec": {
   "display_name": "Python 3 (ipykernel)",
   "language": "python",
   "name": "python3"
  },
  "language_info": {
   "codemirror_mode": {
    "name": "ipython",
    "version": 3
   },
   "file_extension": ".py",
   "mimetype": "text/x-python",
   "name": "python",
   "nbconvert_exporter": "python",
   "pygments_lexer": "ipython3",
   "version": "3.9.12"
  }
 },
 "nbformat": 4,
 "nbformat_minor": 5
}
