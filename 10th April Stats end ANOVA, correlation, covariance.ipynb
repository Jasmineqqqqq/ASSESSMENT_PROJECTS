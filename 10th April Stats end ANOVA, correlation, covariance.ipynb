{
 "cells": [
  {
   "cell_type": "code",
   "execution_count": null,
   "id": "a32d7c7f",
   "metadata": {},
   "outputs": [],
   "source": [
    "HYpothesis\n",
    "null hypothesis==\n",
    "alt hypothesis="
   ]
  },
  {
   "cell_type": "code",
   "execution_count": null,
   "id": "6db114c1",
   "metadata": {},
   "outputs": [],
   "source": [
    "#ANOVA=analyis of variance\n",
    "#we allow 5% error in normal circumstances, alpha level but if my data incresases I have \n",
    "#to give more window, referring to alpha=0.05.hence ANOVA test\n",
    "#used to measure means fro more than 12 groups. it does by looking at variance in data\n",
    "\n",
    "#f value=sample means of between groups / sample means of data within groups"
   ]
  },
  {
   "cell_type": "code",
   "execution_count": null,
   "id": "5cd79051",
   "metadata": {},
   "outputs": [],
   "source": [
    "#sales measure across, TV (high), billboard(medium), radio(low)\n",
    "#null hypo will assume sales in low=sales in medsales in high\n",
    "#Example We are trying to predict the product sales based on its promotion ,\n",
    "#where low radio newspaper ) middle billboards in public places ) and high level ( TV ads ) promotions \n",
    "#are categorical in nature Hypothesis construction The null hypothesis for ANOVA says that , \n",
    "#average of dependent variable are same for all the given groups .\n",
    "#Alternate Hypothesis says , mean of dependent variable are not same for the given group\n",
    "#-Ho : muA = muB = muc -Ha : not all are equal\n"
   ]
  },
  {
   "cell_type": "code",
   "execution_count": null,
   "id": "01ab9090",
   "metadata": {},
   "outputs": [],
   "source": [
    " #Step 1 Calculate the means of each semester \n",
    "    #Step 2 Calculate the grand mean (mean of all those semester)\n",
    "    #Step 3 Variations between , within \n",
    "    #Step 4 Calculate the mean squared variance of between and within\n",
    "    #Step 5 Calcualte F statistics and corrosponding p - value"
   ]
  },
  {
   "cell_type": "code",
   "execution_count": 1,
   "id": "99bac529",
   "metadata": {},
   "outputs": [
    {
     "data": {
      "text/html": [
       "<div>\n",
       "<style scoped>\n",
       "    .dataframe tbody tr th:only-of-type {\n",
       "        vertical-align: middle;\n",
       "    }\n",
       "\n",
       "    .dataframe tbody tr th {\n",
       "        vertical-align: top;\n",
       "    }\n",
       "\n",
       "    .dataframe thead th {\n",
       "        text-align: right;\n",
       "    }\n",
       "</style>\n",
       "<table border=\"1\" class=\"dataframe\">\n",
       "  <thead>\n",
       "    <tr style=\"text-align: right;\">\n",
       "      <th></th>\n",
       "      <th>Student_ID</th>\n",
       "      <th>Semester</th>\n",
       "      <th>Total_Marks</th>\n",
       "    </tr>\n",
       "  </thead>\n",
       "  <tbody>\n",
       "    <tr>\n",
       "      <th>0</th>\n",
       "      <td>1</td>\n",
       "      <td>1</td>\n",
       "      <td>365</td>\n",
       "    </tr>\n",
       "    <tr>\n",
       "      <th>1</th>\n",
       "      <td>2</td>\n",
       "      <td>3</td>\n",
       "      <td>376</td>\n",
       "    </tr>\n",
       "    <tr>\n",
       "      <th>2</th>\n",
       "      <td>3</td>\n",
       "      <td>1</td>\n",
       "      <td>411</td>\n",
       "    </tr>\n",
       "    <tr>\n",
       "      <th>3</th>\n",
       "      <td>4</td>\n",
       "      <td>3</td>\n",
       "      <td>436</td>\n",
       "    </tr>\n",
       "    <tr>\n",
       "      <th>4</th>\n",
       "      <td>5</td>\n",
       "      <td>2</td>\n",
       "      <td>366</td>\n",
       "    </tr>\n",
       "    <tr>\n",
       "      <th>...</th>\n",
       "      <td>...</td>\n",
       "      <td>...</td>\n",
       "      <td>...</td>\n",
       "    </tr>\n",
       "    <tr>\n",
       "      <th>195</th>\n",
       "      <td>196</td>\n",
       "      <td>1</td>\n",
       "      <td>431</td>\n",
       "    </tr>\n",
       "    <tr>\n",
       "      <th>196</th>\n",
       "      <td>197</td>\n",
       "      <td>3</td>\n",
       "      <td>330</td>\n",
       "    </tr>\n",
       "    <tr>\n",
       "      <th>197</th>\n",
       "      <td>198</td>\n",
       "      <td>1</td>\n",
       "      <td>311</td>\n",
       "    </tr>\n",
       "    <tr>\n",
       "      <th>198</th>\n",
       "      <td>199</td>\n",
       "      <td>1</td>\n",
       "      <td>358</td>\n",
       "    </tr>\n",
       "    <tr>\n",
       "      <th>199</th>\n",
       "      <td>200</td>\n",
       "      <td>2</td>\n",
       "      <td>468</td>\n",
       "    </tr>\n",
       "  </tbody>\n",
       "</table>\n",
       "<p>200 rows × 3 columns</p>\n",
       "</div>"
      ],
      "text/plain": [
       "     Student_ID  Semester  Total_Marks\n",
       "0             1         1          365\n",
       "1             2         3          376\n",
       "2             3         1          411\n",
       "3             4         3          436\n",
       "4             5         2          366\n",
       "..          ...       ...          ...\n",
       "195         196         1          431\n",
       "196         197         3          330\n",
       "197         198         1          311\n",
       "198         199         1          358\n",
       "199         200         2          468\n",
       "\n",
       "[200 rows x 3 columns]"
      ]
     },
     "execution_count": 1,
     "metadata": {},
     "output_type": "execute_result"
    }
   ],
   "source": [
    "import pandas as pd \n",
    "hyp = pd.read_csv ('https://raw.githubusercontent.com/training-ml/Files/main/Semester%20marks.csv') \n",
    "hyp\n"
   ]
  },
  {
   "cell_type": "code",
   "execution_count": null,
   "id": "6366cd1a",
   "metadata": {},
   "outputs": [],
   "source": [
    "#As per ANOVA we need to find continues data based on the categorical variable . \n",
    "#Total_Marks is continues variable and Semester is categorical variable . \n",
    "#Ho is Average marks of each semester are almost equal . \n",
    "#Ha is all are not equal "
   ]
  },
  {
   "cell_type": "code",
   "execution_count": 2,
   "id": "8d5dfbcb",
   "metadata": {},
   "outputs": [
    {
     "data": {
      "text/plain": [
       "<statsmodels.regression.linear_model.RegressionResultsWrapper at 0x24399c72850>"
      ]
     },
     "execution_count": 2,
     "metadata": {},
     "output_type": "execute_result"
    }
   ],
   "source": [
    "import numpy as np \n",
    "import statsmodels.formula.api as sm \n",
    "mod = sm.ols (' Total_Marks ~ Semester', data = hyp ) .fit( ) #OLS-odinary least square meethod\n",
    "mod #dependent variable is marks and independent is semester"
   ]
  },
  {
   "cell_type": "code",
   "execution_count": 3,
   "id": "c45d90ae",
   "metadata": {},
   "outputs": [
    {
     "data": {
      "text/html": [
       "<div>\n",
       "<style scoped>\n",
       "    .dataframe tbody tr th:only-of-type {\n",
       "        vertical-align: middle;\n",
       "    }\n",
       "\n",
       "    .dataframe tbody tr th {\n",
       "        vertical-align: top;\n",
       "    }\n",
       "\n",
       "    .dataframe thead th {\n",
       "        text-align: right;\n",
       "    }\n",
       "</style>\n",
       "<table border=\"1\" class=\"dataframe\">\n",
       "  <thead>\n",
       "    <tr style=\"text-align: right;\">\n",
       "      <th></th>\n",
       "      <th>df</th>\n",
       "      <th>sum_sq</th>\n",
       "      <th>mean_sq</th>\n",
       "      <th>F</th>\n",
       "      <th>PR(&gt;F)</th>\n",
       "    </tr>\n",
       "  </thead>\n",
       "  <tbody>\n",
       "    <tr>\n",
       "      <th>Semester</th>\n",
       "      <td>1.0</td>\n",
       "      <td>291.846746</td>\n",
       "      <td>291.846746</td>\n",
       "      <td>0.102572</td>\n",
       "      <td>0.749102</td>\n",
       "    </tr>\n",
       "    <tr>\n",
       "      <th>Residual</th>\n",
       "      <td>198.0</td>\n",
       "      <td>563366.873254</td>\n",
       "      <td>2845.287239</td>\n",
       "      <td>NaN</td>\n",
       "      <td>NaN</td>\n",
       "    </tr>\n",
       "  </tbody>\n",
       "</table>\n",
       "</div>"
      ],
      "text/plain": [
       "             df         sum_sq      mean_sq         F    PR(>F)\n",
       "Semester    1.0     291.846746   291.846746  0.102572  0.749102\n",
       "Residual  198.0  563366.873254  2845.287239       NaN       NaN"
      ]
     },
     "execution_count": 3,
     "metadata": {},
     "output_type": "execute_result"
    }
   ],
   "source": [
    "import statsmodels.api as k \n",
    "aov_table = k.stats.anova_lm(mod, typ = 1) \n",
    "aov_table   #the pvalue is greater than alpha 0.05. we can conclude all marks are similar"
   ]
  },
  {
   "cell_type": "code",
   "execution_count": 4,
   "id": "99800dfc",
   "metadata": {},
   "outputs": [
    {
     "name": "stdout",
     "output_type": "stream",
     "text": [
      "1st Sem avg marks = 403.0\n",
      "2nd Sem avg marks = 393.0\n",
      "3rd Sem avg marks =  406.0\n"
     ]
    }
   ],
   "source": [
    "#Let's see manually if the average marks of each semester are close to each other\n",
    "# Semester 1 Average marks\n",
    "print('1st Sem avg marks =', np.ceil(hyp['Total_Marks' ] [hyp['Semester'] == 1].mean())) \n",
    "# Semester 2 Average marks \n",
    "print('2nd Sem avg marks =', np.ceil(hyp['Total_Marks'] [hyp['Semester'] == 2].mean())) \n",
    "# Semester 3 Average marks \n",
    "print('3rd Sem avg marks = ', np.ceil (hyp['Total_Marks'] [hyp['Semester'] == 3].mean()))"
   ]
  },
  {
   "cell_type": "code",
   "execution_count": null,
   "id": "6f029439",
   "metadata": {},
   "outputs": [],
   "source": [
    "........Realtime research on human body . \n",
    "If different types of drinks ( Coffee , Water , Milk , Soda etc ) have the same effect ( reaction time in the morning ) on human body or not ? Null hypothesis - All the drinks average reaction time on humany body is same . \n",
    "Alternate hypothesis - All the drinks average reaction time on humany body is NOT same ......"
   ]
  },
  {
   "cell_type": "code",
   "execution_count": null,
   "id": "df58694c",
   "metadata": {},
   "outputs": [],
   "source": [
    "..........Covariance A systematic relationship between a pair of random variables wherein \n",
    "a change in one variable reciprocated by an equivalent change in another variable \n",
    "Covariance can take any value between -∞ to + ∞ , \n",
    "wherein the negative value is an indicator of negative relationship \n",
    "whereas a positive value represents the positive relationship and when the value is zero , \n",
    "it indicates no relationship.\n",
    "\n",
    "In addition to this when all the observations of the either variable are same , the covariance will be zero . \n",
    "When we change the unit of observation on any or both the two variables , \n",
    "then there no change in the strength of the relationship between two variables but the value of covariance is changed ....."
   ]
  },
  {
   "cell_type": "code",
   "execution_count": null,
   "id": "e4cfa714",
   "metadata": {},
   "outputs": [],
   "source": [
    "#cvariance=cov(x, y) =  Σ (x1-x_) ( y1-y_)/n-1 #if x1, x2, ...x6 are varaibles and y1, y2...y6 are independent variables\n",
    "#u can keep doing it tiill x2-x, x3-x, x4-x......y1-y, y3-y.......\n",
    "#if x_ is x bar ad y_ is y bar, and n is the number of times which is 6"
   ]
  },
  {
   "cell_type": "code",
   "execution_count": null,
   "id": "06d91833",
   "metadata": {},
   "outputs": [],
   "source": [
    "#corelation: determines one change in variable due to change in another vaiable\n",
    "#4 measure f correlation: scatter diagram, product-moment correlation, rank correlation coefficient,\n",
    "#coefficent of concurent deviations\n",
    "\n",
    "#correlationis a special case of covariance which can beobtained when data is standardised\n",
    "#corelation is better than covariance as it remains unaffected by chnge in location and scale"
   ]
  },
  {
   "cell_type": "code",
   "execution_count": null,
   "id": "40bea45e",
   "metadata": {},
   "outputs": [],
   "source": []
  },
  {
   "cell_type": "code",
   "execution_count": null,
   "id": "707f62a3",
   "metadata": {},
   "outputs": [],
   "source": []
  }
 ],
 "metadata": {
  "kernelspec": {
   "display_name": "Python 3 (ipykernel)",
   "language": "python",
   "name": "python3"
  },
  "language_info": {
   "codemirror_mode": {
    "name": "ipython",
    "version": 3
   },
   "file_extension": ".py",
   "mimetype": "text/x-python",
   "name": "python",
   "nbconvert_exporter": "python",
   "pygments_lexer": "ipython3",
   "version": "3.9.12"
  }
 },
 "nbformat": 4,
 "nbformat_minor": 5
}
