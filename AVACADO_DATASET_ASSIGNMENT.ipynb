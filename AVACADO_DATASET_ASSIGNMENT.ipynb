{
 "cells": [
  {
   "cell_type": "code",
   "execution_count": null,
   "id": "cef0e790",
   "metadata": {},
   "outputs": [],
   "source": [
    "import pandas as pd\n",
    "import matplotlib.pyplot as plt\n",
    "import numpy as np\n",
    "import seaborn as sns\n",
    "%matplotlib inline\n",
    "\n",
    "\n",
    "import os\n",
    "from matplotlib import pyplot\n",
    "from sklearn import metrics\n",
    "from sklearn.preprocessing import StandardScaler\n",
    "from sklearn.preprocessing import LabelEncoder\n",
    "from scipy.stats import zscore\n",
    "\n",
    "\n",
    "import warnings                                                                 \n",
    "warnings.filterwarnings('ignore') \n",
    "\n",
    "# allow plots to appear directly in the notebook\n",
    "%matplotlib inline\n",
    "\n",
    "from subprocess import check_output\n",
    "from sklearn.metrics import accuracy_score\n",
    "from sklearn.metrics import confusion_matrix\n",
    "from sklearn.model_selection import train_test_split, GridSearchCV, cross_val_score\n",
    "from sklearn.metrics import classification_report, roc_auc_score, roc_curve\n",
    "\n",
    "from sklearn.linear_model import LogisticRegression\n",
    "from sklearn.linear_model import LinearRegression\n",
    "\n",
    "from sklearn.ensemble import RandomForestClassifier\n",
    "from sklearn.ensemble import RandomForestRegressor\n",
    "from sklearn.ensemble import AdaBoostClassifier\n",
    "from sklearn.ensemble import GradientBoostingClassifier\n",
    "from sklearn.tree import DecisionTreeClassifier\n",
    "from sklearn.svm import SVC\n",
    "from sklearn.neighbors import KNeighborsClassifier\n",
    "from sklearn.decomposition import PCA\n",
    "from sklearn.neighbors import KernelDensity"
   ]
  },
  {
   "cell_type": "code",
   "execution_count": null,
   "id": "ef6398cf",
   "metadata": {},
   "outputs": [],
   "source": [
    "df = pd.read_csv(\"avocado.csv\")\n",
    "df.head()"
   ]
  },
  {
   "cell_type": "code",
   "execution_count": null,
   "id": "94d81edb",
   "metadata": {},
   "outputs": [],
   "source": [
    "df.tail()"
   ]
  },
  {
   "cell_type": "code",
   "execution_count": null,
   "id": "c07be1c7",
   "metadata": {},
   "outputs": [],
   "source": [
    "df.isnull().sum().sum() #checking for null\n",
    "#since there are no nulls , we are good to go"
   ]
  },
  {
   "cell_type": "code",
   "execution_count": null,
   "id": "72710a5e",
   "metadata": {},
   "outputs": [],
   "source": [
    "#re-checking for nulls\n",
    "df.describe()\n",
    "#since the count for all rows=18249.00, we cna conclude, none of the values are missing in the dataset "
   ]
  },
  {
   "cell_type": "code",
   "execution_count": null,
   "id": "ea6f0746",
   "metadata": {},
   "outputs": [],
   "source": [
    "df.columns "
   ]
  },
  {
   "cell_type": "code",
   "execution_count": null,
   "id": "bbba674f",
   "metadata": {},
   "outputs": [],
   "source": [
    "#since 'Unnamed: 0' is jut part o the index, we can remove it. \n",
    "df.drop('Unnamed: 0', axis=1, inplace=True)\n",
    "df.head()"
   ]
  },
  {
   "cell_type": "code",
   "execution_count": null,
   "id": "38eea654",
   "metadata": {},
   "outputs": [],
   "source": [
    "df.info() #date, type and region is object"
   ]
  },
  {
   "cell_type": "code",
   "execution_count": null,
   "id": "2b2c965a",
   "metadata": {},
   "outputs": [],
   "source": [
    "#Above in info, it is observed that Date is Object type not the date type. We have to change its type to date type.\n",
    "df['Date']=pd.to_datetime(df['Date'])\n",
    "df['Month']=df['Date'].apply(lambda x:x.month)\n",
    "df['Day']=df['Date'].apply(lambda x:x.day)"
   ]
  },
  {
   "cell_type": "code",
   "execution_count": null,
   "id": "f5ac9ad3",
   "metadata": {},
   "outputs": [],
   "source": [
    "df.head()"
   ]
  },
  {
   "cell_type": "code",
   "execution_count": null,
   "id": "a9b2f62c",
   "metadata": {},
   "outputs": [],
   "source": [
    "df.info()"
   ]
  },
  {
   "cell_type": "code",
   "execution_count": null,
   "id": "9eaaa37f",
   "metadata": {},
   "outputs": [],
   "source": [
    "region_list=list(df.region.unique())\n",
    "average_price=[]\n",
    "\n",
    "for i in region_list:\n",
    "    x=df[df.region==i]\n",
    "    region_average=sum(x.AveragePrice)/len(x)\n",
    "    average_price.append(region_average)\n",
    "\n",
    "df1=pd.DataFrame({'region_list':region_list,'average_price':average_price})\n",
    "new_index=df1.average_price.sort_values(ascending=False).index.values\n",
    "sorted_data=df1.reindex(new_index)\n",
    "\n",
    "plt.figure(figsize=(24,10))\n",
    "ax=sns.barplot(x=sorted_data.region_list,y=sorted_data.average_price)\n",
    "\n",
    "plt.xticks(rotation=90)\n",
    "plt.xlabel('Region')\n",
    "plt.ylabel('Average Price')\n",
    "plt.title('Average Price of Avocado According to Region')\n",
    "#Following places have the hightst proce: HartfordSpringfield, SanFrancisco, NewYork\n",
    "#Philadelphia and Sacramento"
   ]
  },
  {
   "cell_type": "code",
   "execution_count": null,
   "id": "74ec5806",
   "metadata": {},
   "outputs": [],
   "source": [
    "df_visualization_nominal=df[[\"region\", \"type\"]].copy() #plotting nominal data"
   ]
  },
  {
   "cell_type": "code",
   "execution_count": null,
   "id": "a8a41e7e",
   "metadata": {},
   "outputs": [],
   "source": [
    "df_visualization_nominal.columns"
   ]
  },
  {
   "cell_type": "code",
   "execution_count": null,
   "id": "9ca6eb33",
   "metadata": {},
   "outputs": [],
   "source": [
    "import seaborn as sns\n",
    "nominal_1=sns.countplot(x=\"type\", data=df_visualization_nominal)\n",
    "print(df_visualization_nominal[\"type\"].value_counts())"
   ]
  },
  {
   "cell_type": "code",
   "execution_count": null,
   "id": "4e442b8a",
   "metadata": {},
   "outputs": [],
   "source": [
    "import seaborn as sns\n",
    "nominal_1=sns.countplot(x=\"region\", data=df_visualization_nominal)\n",
    "print(df_visualization_nominal[\"region\"].value_counts())"
   ]
  },
  {
   "cell_type": "code",
   "execution_count": null,
   "id": "67720457",
   "metadata": {},
   "outputs": [],
   "source": [
    "#visualising continious columns\n",
    "df_visualization_continous=df[['Date', 'AveragePrice', 'Total Volume', '4046', '4225', '4770', 'Total Bags', 'Small Bags', 'Large Bags', 'XLarge Bags', 'year', 'Month', 'Day']].copy() #plotting nominal data"
   ]
  },
  {
   "cell_type": "code",
   "execution_count": null,
   "id": "618a7c15",
   "metadata": {},
   "outputs": [],
   "source": [
    "df_visualization_continous.columns"
   ]
  },
  {
   "cell_type": "code",
   "execution_count": null,
   "id": "bc8a4d97",
   "metadata": {},
   "outputs": [],
   "source": [
    "df['region'].nunique() #there are 54 regions. it will be difficult to encode"
   ]
  },
  {
   "cell_type": "code",
   "execution_count": null,
   "id": "c554bc46",
   "metadata": {},
   "outputs": [],
   "source": [
    "#However, since the data is big with 18249, have decided to keep the region column , which will just be 54 types\n",
    "df.shape"
   ]
  },
  {
   "cell_type": "code",
   "execution_count": null,
   "id": "5ede972e",
   "metadata": {},
   "outputs": [],
   "source": [
    "#plotting average price-target variable as continous columns\n",
    "import seaborn as sns\n",
    "sns.distplot(df_visualization_continous[\"AveragePrice\"], kde=True)\n"
   ]
  },
  {
   "cell_type": "code",
   "execution_count": null,
   "id": "bd3c98a8",
   "metadata": {},
   "outputs": [],
   "source": [
    "#plotting total volume feature as continous columns\n",
    "import seaborn as sns\n",
    "sns.distplot(df_visualization_continous[\"Total Volume\"], kde=True)"
   ]
  },
  {
   "cell_type": "code",
   "execution_count": null,
   "id": "15b71ad7",
   "metadata": {},
   "outputs": [],
   "source": [
    "#plotting small bags variable as continous columns\n",
    "import seaborn as sns\n",
    "sns.distplot(df_visualization_continous[\"Total Bags\"], kde=True)"
   ]
  },
  {
   "cell_type": "code",
   "execution_count": null,
   "id": "95e141c5",
   "metadata": {},
   "outputs": [],
   "source": [
    "#plotting average price-target variable as continous columns\n",
    "import seaborn as sns\n",
    "sns.distplot(df_visualization_continous[\"4225\"], kde=True)"
   ]
  },
  {
   "cell_type": "code",
   "execution_count": null,
   "id": "02b70de3",
   "metadata": {},
   "outputs": [],
   "source": [
    "#plotting average price-target variable as continous columns\n",
    "import seaborn as sns\n",
    "sns.distplot(df_visualization_continous[\"4046\"], kde=True)"
   ]
  },
  {
   "cell_type": "code",
   "execution_count": null,
   "id": "18d4539f",
   "metadata": {},
   "outputs": [],
   "source": [
    "#Encoding of DataFrame:\n",
    "from sklearn.preprocessing import OrdinalEncoder\n",
    "enc=OrdinalEncoder()"
   ]
  },
  {
   "cell_type": "code",
   "execution_count": null,
   "id": "e8981462",
   "metadata": {},
   "outputs": [],
   "source": [
    "for i in df.columns:\n",
    "    if df[i].dtypes == \"object\":\n",
    "        df[i]=enc.fit_transform(df[i].values.reshape(-1,1))"
   ]
  },
  {
   "cell_type": "code",
   "execution_count": null,
   "id": "156dd0ed",
   "metadata": {},
   "outputs": [],
   "source": [
    "df"
   ]
  },
  {
   "cell_type": "code",
   "execution_count": null,
   "id": "206e4524",
   "metadata": {},
   "outputs": [],
   "source": [
    "df.isnull().sum().sum()"
   ]
  },
  {
   "cell_type": "code",
   "execution_count": null,
   "id": "bb4ada8d",
   "metadata": {},
   "outputs": [],
   "source": [
    "import matplotlib.pyplot as plt\n",
    "plt.figure(figsize=(22,7))\n",
    "sns.heatmap(df.describe(),annot=True,linewidths=0.1,linecolor=\"black\",fmt=\"0.2f\")"
   ]
  },
  {
   "cell_type": "code",
   "execution_count": null,
   "id": "ca60c68a",
   "metadata": {},
   "outputs": [],
   "source": [
    "df.corr()"
   ]
  },
  {
   "cell_type": "code",
   "execution_count": null,
   "id": "d8b46936",
   "metadata": {},
   "outputs": [],
   "source": [
    "plt.figure(figsize=(22,7))\n",
    "sns.heatmap(df.corr(),annot=True,linewidths=0.1,linecolor=\"black\",fmt=\"0.2f\")"
   ]
  },
  {
   "cell_type": "code",
   "execution_count": null,
   "id": "9de9db02",
   "metadata": {},
   "outputs": [],
   "source": [
    "#Checking the columns which are positively and negative correlated with the target column of AVERAGE PRICE - regression\n",
    "plt.figure(figsize=(22,7))\n",
    "df.corr()['AveragePrice'].sort_values(ascending=False).drop([\"AveragePrice\"]).plot(kind=\"bar\",color=\"c\")\n",
    "plt.xlabel(\"Feature\",fontsize=14)\n",
    "plt.ylabel('column with target names',fontsize=14)\n",
    "plt.title('correlation', fontsize=18)\n",
    "plt.show()"
   ]
  },
  {
   "cell_type": "code",
   "execution_count": null,
   "id": "21432f23",
   "metadata": {},
   "outputs": [],
   "source": [
    "#Checking the columns which are positively and negative correlated with the target column of REGION - Logistic regression-xlassification\n",
    "plt.figure(figsize=(22,7))\n",
    "df.corr()['region'].sort_values(ascending=False).drop([\"region\"]).plot(kind=\"bar\",color=\"c\")\n",
    "plt.xlabel(\"Feature\",fontsize=14)\n",
    "plt.ylabel('column with target names',fontsize=14)\n",
    "plt.title('correlation', fontsize=18)\n",
    "plt.show()"
   ]
  },
  {
   "cell_type": "code",
   "execution_count": null,
   "id": "3a481830",
   "metadata": {},
   "outputs": [],
   "source": [
    "df.skew()"
   ]
  },
  {
   "cell_type": "code",
   "execution_count": null,
   "id": "32de9d69",
   "metadata": {},
   "outputs": [],
   "source": [
    "#Following are the skewed data\n",
    "#total volume, 4046, 4225, 4770, all bags, - Total Bags, Small Bags, Large Bags, XLarge Bags\n",
    "#checking for outliers in these fetures"
   ]
  },
  {
   "cell_type": "code",
   "execution_count": null,
   "id": "bab42e37",
   "metadata": {},
   "outputs": [],
   "source": [
    "#Checking the outliers on the int and float type of columns.\n",
    "df['Total Volume'].plot.box()"
   ]
  },
  {
   "cell_type": "code",
   "execution_count": null,
   "id": "460ea564",
   "metadata": {},
   "outputs": [],
   "source": [
    "df['4046'].plot.box()"
   ]
  },
  {
   "cell_type": "code",
   "execution_count": null,
   "id": "a23f0b8c",
   "metadata": {},
   "outputs": [],
   "source": [
    "df['4225'].plot.box()"
   ]
  },
  {
   "cell_type": "code",
   "execution_count": null,
   "id": "901319cb",
   "metadata": {},
   "outputs": [],
   "source": [
    "df['4770'].plot.box()"
   ]
  },
  {
   "cell_type": "code",
   "execution_count": null,
   "id": "a2fcfd8b",
   "metadata": {},
   "outputs": [],
   "source": [
    "df['Total Bags'].plot.box()"
   ]
  },
  {
   "cell_type": "code",
   "execution_count": null,
   "id": "f7c1bde1",
   "metadata": {},
   "outputs": [],
   "source": [
    "df['Small Bags'].plot.box()"
   ]
  },
  {
   "cell_type": "code",
   "execution_count": null,
   "id": "8ae6d1ed",
   "metadata": {},
   "outputs": [],
   "source": [
    "df['Large Bags'].plot.box() "
   ]
  },
  {
   "cell_type": "code",
   "execution_count": null,
   "id": "3f4714d5",
   "metadata": {},
   "outputs": [],
   "source": [
    "df['XLarge Bags'].plot.box() "
   ]
  },
  {
   "cell_type": "code",
   "execution_count": null,
   "id": "ad3650b1",
   "metadata": {},
   "outputs": [],
   "source": [
    "#PREDICTING AVERAGE PRICE OF AVACADO"
   ]
  },
  {
   "cell_type": "code",
   "execution_count": null,
   "id": "7827e970",
   "metadata": {},
   "outputs": [],
   "source": [
    "#Shall be removing the region column as it is categorical data and has 54 types-it will be difficult to calculate the z score\n",
    "#, which will be difficult and tedious to encode\n",
    "#Shall also be dropping the date column as day, year and month are already given "
   ]
  },
  {
   "cell_type": "code",
   "execution_count": null,
   "id": "31a4b7c2",
   "metadata": {},
   "outputs": [],
   "source": [
    "#Removing Date as month and day are aleady present\n",
    "df.drop('Date', axis=1, inplace=True)\n",
    "df.head()"
   ]
  },
  {
   "cell_type": "code",
   "execution_count": null,
   "id": "d5dc1411",
   "metadata": {},
   "outputs": [],
   "source": [
    "df"
   ]
  },
  {
   "cell_type": "code",
   "execution_count": null,
   "id": "fe0d5b8d",
   "metadata": {},
   "outputs": [],
   "source": [
    "#Shall be using zscore to remove outliers"
   ]
  },
  {
   "cell_type": "code",
   "execution_count": 1,
   "id": "f94bceb4",
   "metadata": {},
   "outputs": [
    {
     "name": "stdout",
     "output_type": "stream",
     "text": [
      "Collecting zscore\n",
      "  Downloading zscore-0.1.tar.gz (1.5 kB)\n",
      "  Preparing metadata (setup.py): started\n",
      "  Preparing metadata (setup.py): finished with status 'done'\n",
      "Requirement already satisfied: pandas in c:\\anaconda 2022\\lib\\site-packages (from zscore) (1.4.2)\n",
      "Requirement already satisfied: numpy in c:\\anaconda 2022\\lib\\site-packages (from zscore) (1.21.5)\n",
      "Collecting statistics\n",
      "  Downloading statistics-1.0.3.5.tar.gz (8.3 kB)\n",
      "  Preparing metadata (setup.py): started\n",
      "  Preparing metadata (setup.py): finished with status 'done'\n",
      "Requirement already satisfied: pytz>=2020.1 in c:\\anaconda 2022\\lib\\site-packages (from pandas->zscore) (2021.3)\n",
      "Requirement already satisfied: python-dateutil>=2.8.1 in c:\\anaconda 2022\\lib\\site-packages (from pandas->zscore) (2.8.2)\n",
      "Requirement already satisfied: docutils>=0.3 in c:\\anaconda 2022\\lib\\site-packages (from statistics->zscore) (0.17.1)\n",
      "Requirement already satisfied: six>=1.5 in c:\\anaconda 2022\\lib\\site-packages (from python-dateutil>=2.8.1->pandas->zscore) (1.16.0)\n",
      "Building wheels for collected packages: zscore, statistics\n",
      "  Building wheel for zscore (setup.py): started\n",
      "  Building wheel for zscore (setup.py): finished with status 'done'\n",
      "  Created wheel for zscore: filename=zscore-0.1-py3-none-any.whl size=1666 sha256=6a0a60caa23995de4646159edc76e3e28a6cb3735abd6df2d60334565d207ada\n",
      "  Stored in directory: c:\\users\\dell\\appdata\\local\\pip\\cache\\wheels\\81\\fc\\f5\\963f82253fd63e8eef6b4a1d2b3b2fd90799088ccab9834d61\n",
      "  Building wheel for statistics (setup.py): started\n",
      "  Building wheel for statistics (setup.py): finished with status 'done'\n",
      "  Created wheel for statistics: filename=statistics-1.0.3.5-py3-none-any.whl size=7454 sha256=3f749af012d1fb245f8b0f4a12b482f3ce93b6a6e5e06dfc901e0784ed7e7645\n",
      "  Stored in directory: c:\\users\\dell\\appdata\\local\\pip\\cache\\wheels\\26\\3c\\70\\9467407f3aa90862061eadcd286627b23a8bab6789b667776f\n",
      "Successfully built zscore statistics\n",
      "Installing collected packages: statistics, zscore\n",
      "Successfully installed statistics-1.0.3.5 zscore-0.1\n",
      "\n",
      "[notice] A new release of pip available: 22.1.2 -> 22.2.2\n",
      "[notice] To update, run: python.exe -m pip install --upgrade pip\n"
     ]
    },
    {
     "name": "stderr",
     "output_type": "stream",
     "text": [
      "WARNING: Ignoring invalid distribution -cikit-learn (c:\\anaconda 2022\\lib\\site-packages)\n",
      "WARNING: Ignoring invalid distribution -cikit-learn (c:\\anaconda 2022\\lib\\site-packages)\n",
      "WARNING: Ignoring invalid distribution -cikit-learn (c:\\anaconda 2022\\lib\\site-packages)\n",
      "WARNING: Ignoring invalid distribution -cikit-learn (c:\\anaconda 2022\\lib\\site-packages)\n",
      "WARNING: Ignoring invalid distribution -cikit-learn (c:\\anaconda 2022\\lib\\site-packages)\n",
      "WARNING: Ignoring invalid distribution -cikit-learn (c:\\anaconda 2022\\lib\\site-packages)\n",
      "WARNING: Ignoring invalid distribution -cikit-learn (c:\\anaconda 2022\\lib\\site-packages)\n",
      "WARNING: Ignoring invalid distribution -cikit-learn (c:\\anaconda 2022\\lib\\site-packages)\n"
     ]
    }
   ],
   "source": [
    "!pip install zscore"
   ]
  },
  {
   "cell_type": "code",
   "execution_count": null,
   "id": "6b49c65f",
   "metadata": {},
   "outputs": [],
   "source": [
    "from scipy.stats import zscore\n",
    "import numpy as np\n",
    "z=np.abs(zscore(df))\n",
    "threshld=3\n",
    "np.where(z>3)\n"
   ]
  },
  {
   "cell_type": "code",
   "execution_count": null,
   "id": "45617a3e",
   "metadata": {},
   "outputs": [],
   "source": [
    "df_new_z=df[(z<3).all(axis=1)]\n",
    "df_new_z"
   ]
  },
  {
   "cell_type": "code",
   "execution_count": null,
   "id": "d39ffce0",
   "metadata": {},
   "outputs": [],
   "source": [
    "df_new_z.shape"
   ]
  },
  {
   "cell_type": "code",
   "execution_count": null,
   "id": "4e193617",
   "metadata": {},
   "outputs": [],
   "source": [
    "#separating features and taret column\n",
    "X=df_new_z.drop(\"AveragePrice\", axis=1)\n",
    "y=df_new_z[\"AveragePrice\"]\n"
   ]
  },
  {
   "cell_type": "code",
   "execution_count": null,
   "id": "e4cc9c9e",
   "metadata": {},
   "outputs": [],
   "source": [
    "#using lonear regression\n",
    "from sklearn import metrics\n",
    "from sklearn.linear_model import LinearRegression"
   ]
  },
  {
   "cell_type": "code",
   "execution_count": null,
   "id": "0307195b",
   "metadata": {},
   "outputs": [],
   "source": [
    "from sklearn.model_selection import train_test_split\n",
    "lr=LinearRegression()"
   ]
  },
  {
   "cell_type": "code",
   "execution_count": null,
   "id": "7c730014",
   "metadata": {},
   "outputs": [],
   "source": [
    "from sklearn.metrics import r2_score\n",
    "for i in range(0,100):\n",
    "    X_train, X_test, y_train, y_test=train_test_split(X,y,test_size=0.25,random_state=99)\n",
    "    lr.fit(X_train,y_train)\n",
    "    pred_train=lr.predict(X_train)\n",
    "    pred_test=lr.predict(X_test)\n",
    "    print(f\"At random state {i},the training accuracy is:- {r2_score(y_train, pred_train)}\")\n",
    "    print(f\"At random state {i},the testing accuracy is:- {r2_score(y_test,pred_test)}\")\n",
    "    print(\"\\n\")"
   ]
  },
  {
   "cell_type": "code",
   "execution_count": null,
   "id": "ee7bc344",
   "metadata": {},
   "outputs": [],
   "source": [
    "lr=LinearRegression()\n",
    "lr.fit(X_train,y_train)\n",
    "pred=lr.predict(X_test)"
   ]
  },
  {
   "cell_type": "code",
   "execution_count": null,
   "id": "eb80c4b3",
   "metadata": {},
   "outputs": [],
   "source": [
    "print('MAE:', metrics.mean_absolute_error(y_test, pred))\n",
    "print('MSE:', metrics.mean_squared_error(y_test, pred))\n",
    "print('RMSE:', np.sqrt(metrics.mean_squared_error(y_test, pred)))"
   ]
  },
  {
   "cell_type": "code",
   "execution_count": null,
   "id": "be052a3e",
   "metadata": {},
   "outputs": [],
   "source": [
    "#With descision tree\n",
    "from sklearn.tree import DecisionTreeRegressor\n",
    "dt=DecisionTreeRegressor()\n",
    "dt.fit(X_train,y_train)\n",
    "pred=dt.predict(X_test)"
   ]
  },
  {
   "cell_type": "code",
   "execution_count": null,
   "id": "b39a1854",
   "metadata": {},
   "outputs": [],
   "source": [
    "print('MAE:', metrics.mean_absolute_error(y_test, pred))\n",
    "print('MSE:', metrics.mean_squared_error(y_test, pred))\n",
    "print('RMSE:', np.sqrt(metrics.mean_squared_error(y_test, pred)))"
   ]
  },
  {
   "cell_type": "code",
   "execution_count": null,
   "id": "399aba08",
   "metadata": {},
   "outputs": [],
   "source": [
    "#With random forest\n",
    "from sklearn.ensemble import RandomForestRegressor\n",
    "rfr = RandomForestRegressor()\n",
    "rfr.fit(X_train,y_train)\n",
    "pred=rfr.predict(X_test)"
   ]
  },
  {
   "cell_type": "code",
   "execution_count": null,
   "id": "b802ee76",
   "metadata": {},
   "outputs": [],
   "source": [
    "print('MAE:', metrics.mean_absolute_error(y_test, pred))\n",
    "print('MSE:', metrics.mean_squared_error(y_test, pred))\n",
    "print('RMSE:', np.sqrt(metrics.mean_squared_error(y_test, pred)))"
   ]
  },
  {
   "cell_type": "code",
   "execution_count": null,
   "id": "f55c8940",
   "metadata": {},
   "outputs": [],
   "source": [
    "data = pd.DataFrame({'Y Test':y_test , 'Pred':pred},columns=['Y Test','Pred'])\n",
    "sns.lmplot(x='Y Test',y='Pred',data=data,palette='rainbow')\n",
    "data.head()"
   ]
  },
  {
   "cell_type": "code",
   "execution_count": null,
   "id": "b1962440",
   "metadata": {},
   "outputs": [],
   "source": [
    "#FINDING THE REGION"
   ]
  },
  {
   "cell_type": "code",
   "execution_count": null,
   "id": "e5ed4184",
   "metadata": {},
   "outputs": [],
   "source": [
    "import pandas as pd\n",
    "import matplotlib.pyplot as plt\n",
    "import numpy as np\n",
    "import seaborn as sns\n",
    "%matplotlib inline\n",
    "\n",
    "\n",
    "import os\n",
    "from matplotlib import pyplot\n",
    "from sklearn import metrics\n",
    "from sklearn.preprocessing import StandardScaler\n",
    "from sklearn.preprocessing import LabelEncoder\n",
    "from scipy.stats import zscore\n",
    "\n",
    "\n",
    "import warnings                                                                 \n",
    "warnings.filterwarnings('ignore') \n",
    "\n",
    "# allow plots to appear directly in the notebook\n",
    "%matplotlib inline\n",
    "\n",
    "from subprocess import check_output\n",
    "from sklearn.metrics import accuracy_score\n",
    "from sklearn.metrics import confusion_matrix\n",
    "from sklearn.model_selection import train_test_split, GridSearchCV, cross_val_score\n",
    "from sklearn.metrics import classification_report, roc_auc_score, roc_curve\n",
    "\n",
    "from sklearn.linear_model import LogisticRegression\n",
    "from sklearn.linear_model import LinearRegression\n",
    "\n",
    "from sklearn.ensemble import RandomForestClassifier\n",
    "from sklearn.ensemble import RandomForestRegressor\n",
    "from sklearn.ensemble import AdaBoostClassifier\n",
    "from sklearn.ensemble import GradientBoostingClassifier\n",
    "from sklearn.tree import DecisionTreeClassifier\n",
    "from sklearn.svm import SVC\n",
    "from sklearn.neighbors import KNeighborsClassifier\n",
    "from sklearn.decomposition import PCA\n",
    "from sklearn.neighbors import KernelDensity"
   ]
  },
  {
   "cell_type": "code",
   "execution_count": null,
   "id": "0d825d15",
   "metadata": {},
   "outputs": [],
   "source": [
    "df_new_z #this is the data after calculating the zscore as above and removing date as a column."
   ]
  },
  {
   "cell_type": "code",
   "execution_count": null,
   "id": "bfb73531",
   "metadata": {},
   "outputs": [],
   "source": [
    "X=df_new_z.drop(\"region\", axis=1)\n",
    "Y=df_new_z[\"region\"]"
   ]
  },
  {
   "cell_type": "code",
   "execution_count": null,
   "id": "4fc98cbb",
   "metadata": {},
   "outputs": [],
   "source": [
    "#Transforming data to remove skewness:\n",
    "from sklearn.preprocessing import power_transform"
   ]
  },
  {
   "cell_type": "code",
   "execution_count": null,
   "id": "fbc56ccf",
   "metadata": {},
   "outputs": [],
   "source": [
    "X=power_transform(X,method=\"yeo-johnson\")"
   ]
  },
  {
   "cell_type": "code",
   "execution_count": null,
   "id": "577cb86a",
   "metadata": {},
   "outputs": [],
   "source": [
    "X"
   ]
  },
  {
   "cell_type": "code",
   "execution_count": null,
   "id": "72f045dc",
   "metadata": {},
   "outputs": [],
   "source": [
    "from sklearn.preprocessing import StandardScaler\n",
    "sc = StandardScaler()\n",
    "Scaled_X=sc.fit_transform(X)\n",
    "Scaled_X"
   ]
  },
  {
   "cell_type": "code",
   "execution_count": null,
   "id": "b689ce4e",
   "metadata": {},
   "outputs": [],
   "source": [
    "from sklearn.model_selection import train_test_split\n",
    "LR=LogisticRegression()"
   ]
  },
  {
   "cell_type": "code",
   "execution_count": null,
   "id": "9e604c68",
   "metadata": {},
   "outputs": [],
   "source": [
    "#Splitting the dataframe:\n",
    "for i in range(0,400):\n",
    "    X_train,X_test,Y_train,Y_test=train_test_split(Scaled_X,Y,random_state=i,test_size=0.25)\n",
    "    LR.fit(X_train, Y_train)\n",
    "    pred_train=LR.predict(X_train)\n",
    "    pred_test=LR.predict(X_test)\n",
    "    if round(accuracy_score(Y_train, pred_train)*100,1)==round(accuracy_score(Y_test,pred_test)*100,1):\n",
    "        print(\"At random_state state\",i,\"The model performs very well\")\n",
    "        print(\"At random_state state:-\",i)\n",
    "        print(\"Training accuracy_score is:-\", round(accuracy_score(Y_train,pred_train)*100,1))\n",
    "        print(\"Testing accuracy_score is:-\", round(accuracy_score(Y_test,pred_test)*100,1), '\\n\\n')"
   ]
  },
  {
   "cell_type": "code",
   "execution_count": null,
   "id": "479fba22",
   "metadata": {},
   "outputs": [],
   "source": [
    "X_train,_X_test,Y_train,Y_test=train_test_split(Scaled_X,Y,test_size=0.25, random_state=378)\n"
   ]
  },
  {
   "cell_type": "code",
   "execution_count": null,
   "id": "e669554e",
   "metadata": {},
   "outputs": [],
   "source": [
    "from sklearn.metrics import classification_report\n",
    "print(classification_report(Y_test,pred_test))"
   ]
  },
  {
   "cell_type": "code",
   "execution_count": null,
   "id": "20640c9d",
   "metadata": {},
   "outputs": [],
   "source": [
    "pred_LR=LR.predict(X_test)\n",
    "from sklearn.model_selection import cross_val_score\n",
    "lss=accuracy_score(Y_test,pred_LR)\n"
   ]
  },
  {
   "cell_type": "code",
   "execution_count": null,
   "id": "df3ecb49",
   "metadata": {},
   "outputs": [],
   "source": [
    "for j in range(2,10):\n",
    "    lsscore=cross_val_score(LR,Scaled_X,Y,cv=j)\n",
    "    lsc=lsscore.mean()\n",
    "    print(\"At cv:-\",)\n",
    "    print(\"Cross validation score is:-\", lsc*100)\n",
    "    print(\"accuracy_score is:-\",lss*100)\n",
    "    print(\"\\n\")"
   ]
  },
  {
   "cell_type": "code",
   "execution_count": null,
   "id": "6df64650",
   "metadata": {},
   "outputs": [],
   "source": [
    "lsscore_selected=cross_val_score(LR,Scaled_X,Y,cv=7).mean()\n",
    "print(\"The cv score is :\", lsscore_selected, \"\\nThe accuracy score is: \",lss)"
   ]
  },
  {
   "cell_type": "code",
   "execution_count": null,
   "id": "f93a9362",
   "metadata": {},
   "outputs": [],
   "source": [
    "#using xgboost to increae accuracy"
   ]
  },
  {
   "cell_type": "code",
   "execution_count": null,
   "id": "ddf675a7",
   "metadata": {},
   "outputs": [],
   "source": [
    "!pip install xgboost"
   ]
  },
  {
   "cell_type": "code",
   "execution_count": null,
   "id": "eb8daa25",
   "metadata": {},
   "outputs": [],
   "source": [
    "#xgb\n",
    "import xgboost as xgb\n",
    "xgb=xgb.XGBRegressor()"
   ]
  },
  {
   "cell_type": "code",
   "execution_count": null,
   "id": "85e49896",
   "metadata": {},
   "outputs": [],
   "source": [
    "X_train, X_test,Y_train,Y_test=train_test_split(Scaled_X,Y,test_size=0.25, random_state=196)"
   ]
  },
  {
   "cell_type": "code",
   "execution_count": null,
   "id": "45f24cbd",
   "metadata": {},
   "outputs": [],
   "source": [
    "xgb.fit(X_train, Y_train) "
   ]
  },
  {
   "cell_type": "code",
   "execution_count": null,
   "id": "aa9c5fa7",
   "metadata": {},
   "outputs": [],
   "source": [
    "Y_pred=xgb.predict(X_test)"
   ]
  },
  {
   "cell_type": "code",
   "execution_count": null,
   "id": "ec38c4b4",
   "metadata": {},
   "outputs": [],
   "source": [
    "r2_score(Y_test,Y_pred)"
   ]
  },
  {
   "cell_type": "code",
   "execution_count": null,
   "id": "528c55a9",
   "metadata": {},
   "outputs": [],
   "source": [
    "#USing KNeighbors\n",
    "from sklearn.neighbors import KNeighborsClassifier  \n",
    "from time import time\n",
    "knn = KNeighborsClassifier()\n",
    "start=time()\n",
    "knn.fit(X_train, Y_train)\n",
    "print(\"knn training time:\", (time()-start))\n",
    "start=time()\n",
    "Y_pred1=knn.predict(X_test)\n",
    "print(\"knn training time:\", (time()-start))"
   ]
  },
  {
   "cell_type": "code",
   "execution_count": null,
   "id": "3f0a2593",
   "metadata": {},
   "outputs": [],
   "source": [
    "cfm=confusion_matrix(Y_test,Y_pred1)\n",
    "cfm"
   ]
  },
  {
   "cell_type": "code",
   "execution_count": null,
   "id": "f92f4f06",
   "metadata": {},
   "outputs": [],
   "source": [
    "from sklearn.metrics import classification_report\n",
    "print (classification_report(Y_test,Y_pred1, digits=2))\n"
   ]
  },
  {
   "cell_type": "code",
   "execution_count": null,
   "id": "2cb3ecf1",
   "metadata": {},
   "outputs": [],
   "source": [
    "#using GridSearchCV\n",
    "from sklearn.model_selection import GridSearchCV\n",
    "param_grid = { 'algorithm': ['kd_tree', 'brute'], #it will compare KD_tree leaf size 3 with 3, 5, 7, 9, 11, 13 n_neighbours respectively\n",
    "'leaf_size': [3,5,6,7,8],\n",
    "'n_neighbors': [3,5,7,9,11,13]\n",
    "              }"
   ]
  },
  {
   "cell_type": "code",
   "execution_count": null,
   "id": "ae3da3d1",
   "metadata": {},
   "outputs": [],
   "source": [
    "gridsearch = GridSearchCV(estimator=knn, param_grid=param_grid)"
   ]
  },
  {
   "cell_type": "code",
   "execution_count": null,
   "id": "d998bbef",
   "metadata": {},
   "outputs": [],
   "source": [
    "gridsearch.fit(X_train,Y_train)"
   ]
  },
  {
   "cell_type": "code",
   "execution_count": null,
   "id": "29989544",
   "metadata": {},
   "outputs": [],
   "source": [
    "gridsearch.best_params_"
   ]
  },
  {
   "cell_type": "code",
   "execution_count": null,
   "id": "a3089fc6",
   "metadata": {},
   "outputs": [],
   "source": [
    "# we will use the best parameters in our k-NN algorithm and check if accuracy is increasing.\n",
    "knn=KNeighborsClassifier(algorithm = 'kd_tree', leaf_size=3, n_neighbors=5)"
   ]
  },
  {
   "cell_type": "code",
   "execution_count": null,
   "id": "b2fcb53c",
   "metadata": {},
   "outputs": [],
   "source": [
    "knn.fit(X_train,Y_train)"
   ]
  },
  {
   "cell_type": "code",
   "execution_count": null,
   "id": "765fa410",
   "metadata": {},
   "outputs": [],
   "source": [
    "Y_pred1 = knn.predict(X_test)"
   ]
  },
  {
   "cell_type": "code",
   "execution_count": null,
   "id": "6d3cb657",
   "metadata": {},
   "outputs": [],
   "source": [
    "cfm = confusion_matrix(Y_test,Y_pred1)\n",
    "cfm"
   ]
  },
  {
   "cell_type": "code",
   "execution_count": null,
   "id": "2e29b6df",
   "metadata": {
    "scrolled": true
   },
   "outputs": [],
   "source": [
    "print(classification_report(Y_test,Y_pred1, digits=2))"
   ]
  },
  {
   "cell_type": "code",
   "execution_count": null,
   "id": "710c64a7",
   "metadata": {},
   "outputs": [],
   "source": [
    "#GradientBoostingClassifier and #gradient boosting tree\n",
    "from sklearn.ensemble import GradientBoostingClassifier\n",
    "from sklearn.metrics import accuracy_score, confusion_matrix, classification_report"
   ]
  },
  {
   "cell_type": "code",
   "execution_count": null,
   "id": "b1ffdd54",
   "metadata": {},
   "outputs": [],
   "source": [
    "grid = GridSearchCV(GradientBoostingClassifier(), param_grid=grid_param)\n",
    "grid.fit(X_train,Y_train)"
   ]
  },
  {
   "cell_type": "code",
   "execution_count": null,
   "id": "9d25a9bd",
   "metadata": {},
   "outputs": [],
   "source": [
    "grid.best_params_"
   ]
  },
  {
   "cell_type": "code",
   "execution_count": null,
   "id": "2d570fe1",
   "metadata": {},
   "outputs": [],
   "source": [
    "gbdt_clf=GradientBoostingClassifier(\n",
    "    max_depth=4, min_samples_split=2, learning_rate=0.1)\n",
    "gbdt_clf.fit(X_train, Y_train)\n",
    "pred=gbdt_clf.predict(X_train)\n",
    "gbdt_c1f_report=pd.DataFrame(\n",
    "    classification_report(Y_train, pred, output_dict=True))\n",
    "print(\"\\n================Train Result======================\")\n",
    "print (f\"Accuracy Score: {accuracy_score(y_train, pred)*100:.2f}%\")\n",
    "print(\"____________________________________________________\")\n",
    "print (f\"CLASSIFICATION REPORT:\\n{gbdt_clf_report}\")\n",
    "print(\"____________________________________________________\")\n",
    "print(f\"Confusion Matrix: \\n {confusion_matrix(y_train, pred)} \\n\")\n",
    "\n",
    "#***********************Test score******************************************\n",
    "pred=gbdt_clf.predict(X_test)\n",
    "clf_report = pd.DataFrame(\n",
    "    classification_report(Y_test, pred, output_dict=True))\n",
    "print(\"\\n=================Test Result ==========================\")\n",
    "print (f\"Accuracy Score: {accuracy_score(Y_test, pred)* 100:.2f}%\")\n",
    "print(\"____________________________________________________\")\n",
    "print (f\"CLASSIFICATION REPORT: \\n{clf_report}\")\n",
    "print(\"____________________________________________________\")\n",
    "print (f\"Confusion Matrix: \\n {confusion_matrix(Y_test, pred)}\\n\")\n"
   ]
  },
  {
   "cell_type": "code",
   "execution_count": null,
   "id": "a151997f",
   "metadata": {},
   "outputs": [],
   "source": [
    "import numpy as np\n",
    "a=np.array(Y_test)\n",
    "predicted=np.array(xgb.predict(X_test))\n",
    "df_com=pd.DataFrame({\"original\":a,\"predicted\":predicted}, index=range(len(a)))\n",
    "df_com\n"
   ]
  },
  {
   "cell_type": "code",
   "execution_count": null,
   "id": "c6fd4a1d",
   "metadata": {},
   "outputs": [],
   "source": [
    "import pickle\n",
    "filename='avocado.pikl'\n",
    "pickle.dump(lr, open(filename, 'wb'))"
   ]
  },
  {
   "cell_type": "code",
   "execution_count": null,
   "id": "36ff93f0",
   "metadata": {},
   "outputs": [],
   "source": [
    "import numpy as np"
   ]
  },
  {
   "cell_type": "code",
   "execution_count": null,
   "id": "837989f7",
   "metadata": {},
   "outputs": [],
   "source": []
  },
  {
   "cell_type": "code",
   "execution_count": null,
   "id": "c21557b3",
   "metadata": {},
   "outputs": [],
   "source": []
  },
  {
   "cell_type": "code",
   "execution_count": null,
   "id": "177a927b",
   "metadata": {},
   "outputs": [],
   "source": []
  },
  {
   "cell_type": "code",
   "execution_count": null,
   "id": "fb131f5f",
   "metadata": {},
   "outputs": [],
   "source": []
  },
  {
   "cell_type": "code",
   "execution_count": null,
   "id": "2cd6bbd9",
   "metadata": {},
   "outputs": [],
   "source": []
  },
  {
   "cell_type": "code",
   "execution_count": null,
   "id": "53edaaa1",
   "metadata": {},
   "outputs": [],
   "source": []
  }
 ],
 "metadata": {
  "kernelspec": {
   "display_name": "Python 3 (ipykernel)",
   "language": "python",
   "name": "python3"
  },
  "language_info": {
   "codemirror_mode": {
    "name": "ipython",
    "version": 3
   },
   "file_extension": ".py",
   "mimetype": "text/x-python",
   "name": "python",
   "nbconvert_exporter": "python",
   "pygments_lexer": "ipython3",
   "version": "3.9.13"
  }
 },
 "nbformat": 4,
 "nbformat_minor": 5
}
