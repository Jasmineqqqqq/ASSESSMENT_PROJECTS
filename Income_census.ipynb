{
 "cells": [
  {
   "cell_type": "code",
   "execution_count": 388,
   "id": "812a80e8",
   "metadata": {},
   "outputs": [],
   "source": [
    "import pandas as pd\n",
    "import matplotlib.pyplot as plt\n",
    "import numpy as np\n",
    "import seaborn as sns\n",
    "%matplotlib inline\n",
    "\n",
    "\n",
    "import os\n",
    "from matplotlib import pyplot\n",
    "from sklearn import metrics\n",
    "from sklearn.preprocessing import StandardScaler\n",
    "from sklearn.preprocessing import LabelEncoder\n",
    "from scipy.stats import zscore\n",
    "\n",
    "\n",
    "import warnings                                                                 \n",
    "warnings.filterwarnings('ignore') \n",
    "\n",
    "# allow plots to appear directly in the notebook\n",
    "%matplotlib inline\n",
    "\n",
    "from subprocess import check_output\n",
    "from sklearn.metrics import accuracy_score\n",
    "from sklearn.metrics import confusion_matrix\n",
    "from sklearn.model_selection import train_test_split, GridSearchCV, cross_val_score\n",
    "from sklearn.metrics import classification_report, roc_auc_score, roc_curve\n",
    "\n",
    "from sklearn.linear_model import LogisticRegression\n",
    "from sklearn.linear_model import LinearRegression\n",
    "\n",
    "from sklearn.ensemble import RandomForestClassifier\n",
    "from sklearn.ensemble import RandomForestRegressor\n",
    "from sklearn.ensemble import AdaBoostClassifier\n",
    "from sklearn.ensemble import GradientBoostingClassifier\n",
    "from sklearn.tree import DecisionTreeClassifier\n",
    "from sklearn.svm import SVC\n",
    "from sklearn.neighbors import KNeighborsClassifier\n",
    "from sklearn.decomposition import PCA\n",
    "from sklearn.neighbors import KernelDensity\n",
    "\n",
    "from pandas import read_csv, DataFrame\n",
    "import pandas as pd\n",
    "import sys"
   ]
  },
  {
   "cell_type": "code",
   "execution_count": 389,
   "id": "e4b30492",
   "metadata": {},
   "outputs": [
    {
     "data": {
      "text/html": [
       "<div>\n",
       "<style scoped>\n",
       "    .dataframe tbody tr th:only-of-type {\n",
       "        vertical-align: middle;\n",
       "    }\n",
       "\n",
       "    .dataframe tbody tr th {\n",
       "        vertical-align: top;\n",
       "    }\n",
       "\n",
       "    .dataframe thead th {\n",
       "        text-align: right;\n",
       "    }\n",
       "</style>\n",
       "<table border=\"1\" class=\"dataframe\">\n",
       "  <thead>\n",
       "    <tr style=\"text-align: right;\">\n",
       "      <th></th>\n",
       "      <th>Age</th>\n",
       "      <th>Workclass</th>\n",
       "      <th>Fnlwgt</th>\n",
       "      <th>Education</th>\n",
       "      <th>Education_num</th>\n",
       "      <th>Marital_status</th>\n",
       "      <th>Occupation</th>\n",
       "      <th>Relationship</th>\n",
       "      <th>Race</th>\n",
       "      <th>Sex</th>\n",
       "      <th>Capital_gain</th>\n",
       "      <th>Capital_loss</th>\n",
       "      <th>Hours_per_week</th>\n",
       "      <th>Native_country</th>\n",
       "      <th>Income</th>\n",
       "    </tr>\n",
       "  </thead>\n",
       "  <tbody>\n",
       "    <tr>\n",
       "      <th>0</th>\n",
       "      <td>50</td>\n",
       "      <td>Self-emp-not-inc</td>\n",
       "      <td>83311</td>\n",
       "      <td>Bachelors</td>\n",
       "      <td>13</td>\n",
       "      <td>Married-civ-spouse</td>\n",
       "      <td>Exec-managerial</td>\n",
       "      <td>Husband</td>\n",
       "      <td>White</td>\n",
       "      <td>Male</td>\n",
       "      <td>0</td>\n",
       "      <td>0</td>\n",
       "      <td>13</td>\n",
       "      <td>United-States</td>\n",
       "      <td>&lt;=50K</td>\n",
       "    </tr>\n",
       "    <tr>\n",
       "      <th>1</th>\n",
       "      <td>38</td>\n",
       "      <td>Private</td>\n",
       "      <td>215646</td>\n",
       "      <td>HS-grad</td>\n",
       "      <td>9</td>\n",
       "      <td>Divorced</td>\n",
       "      <td>Handlers-cleaners</td>\n",
       "      <td>Not-in-family</td>\n",
       "      <td>White</td>\n",
       "      <td>Male</td>\n",
       "      <td>0</td>\n",
       "      <td>0</td>\n",
       "      <td>40</td>\n",
       "      <td>United-States</td>\n",
       "      <td>&lt;=50K</td>\n",
       "    </tr>\n",
       "    <tr>\n",
       "      <th>2</th>\n",
       "      <td>53</td>\n",
       "      <td>Private</td>\n",
       "      <td>234721</td>\n",
       "      <td>11th</td>\n",
       "      <td>7</td>\n",
       "      <td>Married-civ-spouse</td>\n",
       "      <td>Handlers-cleaners</td>\n",
       "      <td>Husband</td>\n",
       "      <td>Black</td>\n",
       "      <td>Male</td>\n",
       "      <td>0</td>\n",
       "      <td>0</td>\n",
       "      <td>40</td>\n",
       "      <td>United-States</td>\n",
       "      <td>&lt;=50K</td>\n",
       "    </tr>\n",
       "    <tr>\n",
       "      <th>3</th>\n",
       "      <td>28</td>\n",
       "      <td>Private</td>\n",
       "      <td>338409</td>\n",
       "      <td>Bachelors</td>\n",
       "      <td>13</td>\n",
       "      <td>Married-civ-spouse</td>\n",
       "      <td>Prof-specialty</td>\n",
       "      <td>Wife</td>\n",
       "      <td>Black</td>\n",
       "      <td>Female</td>\n",
       "      <td>0</td>\n",
       "      <td>0</td>\n",
       "      <td>40</td>\n",
       "      <td>Cuba</td>\n",
       "      <td>&lt;=50K</td>\n",
       "    </tr>\n",
       "    <tr>\n",
       "      <th>4</th>\n",
       "      <td>37</td>\n",
       "      <td>Private</td>\n",
       "      <td>284582</td>\n",
       "      <td>Masters</td>\n",
       "      <td>14</td>\n",
       "      <td>Married-civ-spouse</td>\n",
       "      <td>Exec-managerial</td>\n",
       "      <td>Wife</td>\n",
       "      <td>White</td>\n",
       "      <td>Female</td>\n",
       "      <td>0</td>\n",
       "      <td>0</td>\n",
       "      <td>40</td>\n",
       "      <td>United-States</td>\n",
       "      <td>&lt;=50K</td>\n",
       "    </tr>\n",
       "  </tbody>\n",
       "</table>\n",
       "</div>"
      ],
      "text/plain": [
       "   Age          Workclass  Fnlwgt   Education  Education_num  \\\n",
       "0   50   Self-emp-not-inc   83311   Bachelors             13   \n",
       "1   38            Private  215646     HS-grad              9   \n",
       "2   53            Private  234721        11th              7   \n",
       "3   28            Private  338409   Bachelors             13   \n",
       "4   37            Private  284582     Masters             14   \n",
       "\n",
       "        Marital_status          Occupation    Relationship    Race      Sex  \\\n",
       "0   Married-civ-spouse     Exec-managerial         Husband   White     Male   \n",
       "1             Divorced   Handlers-cleaners   Not-in-family   White     Male   \n",
       "2   Married-civ-spouse   Handlers-cleaners         Husband   Black     Male   \n",
       "3   Married-civ-spouse      Prof-specialty            Wife   Black   Female   \n",
       "4   Married-civ-spouse     Exec-managerial            Wife   White   Female   \n",
       "\n",
       "   Capital_gain  Capital_loss  Hours_per_week  Native_country  Income  \n",
       "0             0             0              13   United-States   <=50K  \n",
       "1             0             0              40   United-States   <=50K  \n",
       "2             0             0              40   United-States   <=50K  \n",
       "3             0             0              40            Cuba   <=50K  \n",
       "4             0             0              40   United-States   <=50K  "
      ]
     },
     "execution_count": 389,
     "metadata": {},
     "output_type": "execute_result"
    }
   ],
   "source": [
    "# Get the CSV data here and print head\n",
    "df = pd.read_csv('https://raw.githubusercontent.com/dsrscientist/dataset1/master/census_income.csv')\n",
    "df.head()"
   ]
  },
  {
   "cell_type": "code",
   "execution_count": 390,
   "id": "7f48943e",
   "metadata": {},
   "outputs": [
    {
     "ename": "SyntaxError",
     "evalue": "unexpected EOF while parsing (3953013733.py, line 1)",
     "output_type": "error",
     "traceback": [
      "\u001b[1;36m  Input \u001b[1;32mIn [390]\u001b[1;36m\u001b[0m\n\u001b[1;33m    dataframe = read_csv(filename,\u001b[0m\n\u001b[1;37m                                   ^\u001b[0m\n\u001b[1;31mSyntaxError\u001b[0m\u001b[1;31m:\u001b[0m unexpected EOF while parsing\n"
     ]
    }
   ],
   "source": [
    "dataframe = read_csv(filename, "
   ]
  },
  {
   "cell_type": "code",
   "execution_count": null,
   "id": "20bf2ad0",
   "metadata": {},
   "outputs": [],
   "source": [
    "df.tail()"
   ]
  },
  {
   "cell_type": "code",
   "execution_count": null,
   "id": "d3604c59",
   "metadata": {},
   "outputs": [],
   "source": [
    "#print summary\n",
    "print ('Shape ------>', df.shape)\n",
    "print ('Each Column and data type and its count', '\\n')\n",
    "print(df.info())"
   ]
  },
  {
   "cell_type": "code",
   "execution_count": 391,
   "id": "183dacdf",
   "metadata": {},
   "outputs": [
    {
     "data": {
      "text/plain": [
       "Age               0\n",
       "Workclass         0\n",
       "Fnlwgt            0\n",
       "Education         0\n",
       "Education_num     0\n",
       "Marital_status    0\n",
       "Occupation        0\n",
       "Relationship      0\n",
       "Race              0\n",
       "Sex               0\n",
       "Capital_gain      0\n",
       "Capital_loss      0\n",
       "Hours_per_week    0\n",
       "Native_country    0\n",
       "Income            0\n",
       "dtype: int64"
      ]
     },
     "execution_count": 391,
     "metadata": {},
     "output_type": "execute_result"
    }
   ],
   "source": [
    "df.isnull().sum()"
   ]
  },
  {
   "cell_type": "code",
   "execution_count": 392,
   "id": "b1d09ffd",
   "metadata": {},
   "outputs": [
    {
     "data": {
      "text/plain": [
       "<bound method NDFrame.describe of        Age          Workclass  Fnlwgt    Education  Education_num  \\\n",
       "0       50   Self-emp-not-inc   83311    Bachelors             13   \n",
       "1       38            Private  215646      HS-grad              9   \n",
       "2       53            Private  234721         11th              7   \n",
       "3       28            Private  338409    Bachelors             13   \n",
       "4       37            Private  284582      Masters             14   \n",
       "...    ...                ...     ...          ...            ...   \n",
       "32555   27            Private  257302   Assoc-acdm             12   \n",
       "32556   40            Private  154374      HS-grad              9   \n",
       "32557   58            Private  151910      HS-grad              9   \n",
       "32558   22            Private  201490      HS-grad              9   \n",
       "32559   52       Self-emp-inc  287927      HS-grad              9   \n",
       "\n",
       "            Marital_status          Occupation    Relationship    Race  \\\n",
       "0       Married-civ-spouse     Exec-managerial         Husband   White   \n",
       "1                 Divorced   Handlers-cleaners   Not-in-family   White   \n",
       "2       Married-civ-spouse   Handlers-cleaners         Husband   Black   \n",
       "3       Married-civ-spouse      Prof-specialty            Wife   Black   \n",
       "4       Married-civ-spouse     Exec-managerial            Wife   White   \n",
       "...                    ...                 ...             ...     ...   \n",
       "32555   Married-civ-spouse        Tech-support            Wife   White   \n",
       "32556   Married-civ-spouse   Machine-op-inspct         Husband   White   \n",
       "32557              Widowed        Adm-clerical       Unmarried   White   \n",
       "32558        Never-married        Adm-clerical       Own-child   White   \n",
       "32559   Married-civ-spouse     Exec-managerial            Wife   White   \n",
       "\n",
       "           Sex  Capital_gain  Capital_loss  Hours_per_week  Native_country  \\\n",
       "0         Male             0             0              13   United-States   \n",
       "1         Male             0             0              40   United-States   \n",
       "2         Male             0             0              40   United-States   \n",
       "3       Female             0             0              40            Cuba   \n",
       "4       Female             0             0              40   United-States   \n",
       "...        ...           ...           ...             ...             ...   \n",
       "32555   Female             0             0              38   United-States   \n",
       "32556     Male             0             0              40   United-States   \n",
       "32557   Female             0             0              40   United-States   \n",
       "32558     Male             0             0              20   United-States   \n",
       "32559   Female         15024             0              40   United-States   \n",
       "\n",
       "       Income  \n",
       "0       <=50K  \n",
       "1       <=50K  \n",
       "2       <=50K  \n",
       "3       <=50K  \n",
       "4       <=50K  \n",
       "...       ...  \n",
       "32555   <=50K  \n",
       "32556    >50K  \n",
       "32557   <=50K  \n",
       "32558   <=50K  \n",
       "32559    >50K  \n",
       "\n",
       "[32560 rows x 15 columns]>"
      ]
     },
     "execution_count": 392,
     "metadata": {},
     "output_type": "execute_result"
    }
   ],
   "source": [
    "df.describe"
   ]
  },
  {
   "cell_type": "code",
   "execution_count": 393,
   "id": "24e50b39",
   "metadata": {},
   "outputs": [
    {
     "name": "stdout",
     "output_type": "stream",
     "text": [
      " Private             22696\n",
      " Self-emp-not-inc     2541\n",
      " Local-gov            2093\n",
      " ?                    1836\n",
      " State-gov            1297\n",
      " Self-emp-inc         1116\n",
      " Federal-gov           960\n",
      " Without-pay            14\n",
      " Never-worked            7\n",
      "Name: Workclass, dtype: int64\n"
     ]
    },
    {
     "data": {
      "image/png": "[encoded data removed]",
      "text/plain": [
       "<Figure size 432x288 with 1 Axes>"
      ]
     },
     "metadata": {
      "needs_background": "light"
     },
     "output_type": "display_data"
    }
   ],
   "source": [
    "import seaborn as sns #checking for null\n",
    "Workclass=sns.countplot(x=\"Workclass\", data=df)\n",
    "print(df[\"Workclass\"].value_counts())\n",
    "#AS U CAN SEE there is '?' in the data. We have to remove this"
   ]
  },
  {
   "cell_type": "code",
   "execution_count": 394,
   "id": "1d8f2a45",
   "metadata": {},
   "outputs": [
    {
     "data": {
      "text/html": [
       "<div>\n",
       "<style scoped>\n",
       "    .dataframe tbody tr th:only-of-type {\n",
       "        vertical-align: middle;\n",
       "    }\n",
       "\n",
       "    .dataframe tbody tr th {\n",
       "        vertical-align: top;\n",
       "    }\n",
       "\n",
       "    .dataframe thead th {\n",
       "        text-align: right;\n",
       "    }\n",
       "</style>\n",
       "<table border=\"1\" class=\"dataframe\">\n",
       "  <thead>\n",
       "    <tr style=\"text-align: right;\">\n",
       "      <th></th>\n",
       "      <th>Age</th>\n",
       "      <th>Workclass</th>\n",
       "      <th>Fnlwgt</th>\n",
       "      <th>Education</th>\n",
       "      <th>Education_num</th>\n",
       "      <th>Marital_status</th>\n",
       "      <th>Occupation</th>\n",
       "      <th>Relationship</th>\n",
       "      <th>Race</th>\n",
       "      <th>Sex</th>\n",
       "      <th>Capital_gain</th>\n",
       "      <th>Capital_loss</th>\n",
       "      <th>Hours_per_week</th>\n",
       "      <th>Native_country</th>\n",
       "      <th>Income</th>\n",
       "    </tr>\n",
       "  </thead>\n",
       "  <tbody>\n",
       "    <tr>\n",
       "      <th>26</th>\n",
       "      <td>54</td>\n",
       "      <td>?</td>\n",
       "      <td>180211</td>\n",
       "      <td>Some-college</td>\n",
       "      <td>10</td>\n",
       "      <td>Married-civ-spouse</td>\n",
       "      <td>?</td>\n",
       "      <td>Husband</td>\n",
       "      <td>Asian-Pac-Islander</td>\n",
       "      <td>Male</td>\n",
       "      <td>0</td>\n",
       "      <td>0</td>\n",
       "      <td>60</td>\n",
       "      <td>South</td>\n",
       "      <td>&gt;50K</td>\n",
       "    </tr>\n",
       "    <tr>\n",
       "      <th>60</th>\n",
       "      <td>32</td>\n",
       "      <td>?</td>\n",
       "      <td>293936</td>\n",
       "      <td>7th-8th</td>\n",
       "      <td>4</td>\n",
       "      <td>Married-spouse-absent</td>\n",
       "      <td>?</td>\n",
       "      <td>Not-in-family</td>\n",
       "      <td>White</td>\n",
       "      <td>Male</td>\n",
       "      <td>0</td>\n",
       "      <td>0</td>\n",
       "      <td>40</td>\n",
       "      <td>?</td>\n",
       "      <td>&lt;=50K</td>\n",
       "    </tr>\n",
       "    <tr>\n",
       "      <th>68</th>\n",
       "      <td>25</td>\n",
       "      <td>?</td>\n",
       "      <td>200681</td>\n",
       "      <td>Some-college</td>\n",
       "      <td>10</td>\n",
       "      <td>Never-married</td>\n",
       "      <td>?</td>\n",
       "      <td>Own-child</td>\n",
       "      <td>White</td>\n",
       "      <td>Male</td>\n",
       "      <td>0</td>\n",
       "      <td>0</td>\n",
       "      <td>40</td>\n",
       "      <td>United-States</td>\n",
       "      <td>&lt;=50K</td>\n",
       "    </tr>\n",
       "    <tr>\n",
       "      <th>76</th>\n",
       "      <td>67</td>\n",
       "      <td>?</td>\n",
       "      <td>212759</td>\n",
       "      <td>10th</td>\n",
       "      <td>6</td>\n",
       "      <td>Married-civ-spouse</td>\n",
       "      <td>?</td>\n",
       "      <td>Husband</td>\n",
       "      <td>White</td>\n",
       "      <td>Male</td>\n",
       "      <td>0</td>\n",
       "      <td>0</td>\n",
       "      <td>2</td>\n",
       "      <td>United-States</td>\n",
       "      <td>&lt;=50K</td>\n",
       "    </tr>\n",
       "    <tr>\n",
       "      <th>105</th>\n",
       "      <td>17</td>\n",
       "      <td>?</td>\n",
       "      <td>304873</td>\n",
       "      <td>10th</td>\n",
       "      <td>6</td>\n",
       "      <td>Never-married</td>\n",
       "      <td>?</td>\n",
       "      <td>Own-child</td>\n",
       "      <td>White</td>\n",
       "      <td>Female</td>\n",
       "      <td>34095</td>\n",
       "      <td>0</td>\n",
       "      <td>32</td>\n",
       "      <td>United-States</td>\n",
       "      <td>&lt;=50K</td>\n",
       "    </tr>\n",
       "    <tr>\n",
       "      <th>...</th>\n",
       "      <td>...</td>\n",
       "      <td>...</td>\n",
       "      <td>...</td>\n",
       "      <td>...</td>\n",
       "      <td>...</td>\n",
       "      <td>...</td>\n",
       "      <td>...</td>\n",
       "      <td>...</td>\n",
       "      <td>...</td>\n",
       "      <td>...</td>\n",
       "      <td>...</td>\n",
       "      <td>...</td>\n",
       "      <td>...</td>\n",
       "      <td>...</td>\n",
       "      <td>...</td>\n",
       "    </tr>\n",
       "    <tr>\n",
       "      <th>32529</th>\n",
       "      <td>35</td>\n",
       "      <td>?</td>\n",
       "      <td>320084</td>\n",
       "      <td>Bachelors</td>\n",
       "      <td>13</td>\n",
       "      <td>Married-civ-spouse</td>\n",
       "      <td>?</td>\n",
       "      <td>Wife</td>\n",
       "      <td>White</td>\n",
       "      <td>Female</td>\n",
       "      <td>0</td>\n",
       "      <td>0</td>\n",
       "      <td>55</td>\n",
       "      <td>United-States</td>\n",
       "      <td>&gt;50K</td>\n",
       "    </tr>\n",
       "    <tr>\n",
       "      <th>32530</th>\n",
       "      <td>30</td>\n",
       "      <td>?</td>\n",
       "      <td>33811</td>\n",
       "      <td>Bachelors</td>\n",
       "      <td>13</td>\n",
       "      <td>Never-married</td>\n",
       "      <td>?</td>\n",
       "      <td>Not-in-family</td>\n",
       "      <td>Asian-Pac-Islander</td>\n",
       "      <td>Female</td>\n",
       "      <td>0</td>\n",
       "      <td>0</td>\n",
       "      <td>99</td>\n",
       "      <td>United-States</td>\n",
       "      <td>&lt;=50K</td>\n",
       "    </tr>\n",
       "    <tr>\n",
       "      <th>32538</th>\n",
       "      <td>71</td>\n",
       "      <td>?</td>\n",
       "      <td>287372</td>\n",
       "      <td>Doctorate</td>\n",
       "      <td>16</td>\n",
       "      <td>Married-civ-spouse</td>\n",
       "      <td>?</td>\n",
       "      <td>Husband</td>\n",
       "      <td>White</td>\n",
       "      <td>Male</td>\n",
       "      <td>0</td>\n",
       "      <td>0</td>\n",
       "      <td>10</td>\n",
       "      <td>United-States</td>\n",
       "      <td>&gt;50K</td>\n",
       "    </tr>\n",
       "    <tr>\n",
       "      <th>32540</th>\n",
       "      <td>41</td>\n",
       "      <td>?</td>\n",
       "      <td>202822</td>\n",
       "      <td>HS-grad</td>\n",
       "      <td>9</td>\n",
       "      <td>Separated</td>\n",
       "      <td>?</td>\n",
       "      <td>Not-in-family</td>\n",
       "      <td>Black</td>\n",
       "      <td>Female</td>\n",
       "      <td>0</td>\n",
       "      <td>0</td>\n",
       "      <td>32</td>\n",
       "      <td>United-States</td>\n",
       "      <td>&lt;=50K</td>\n",
       "    </tr>\n",
       "    <tr>\n",
       "      <th>32541</th>\n",
       "      <td>72</td>\n",
       "      <td>?</td>\n",
       "      <td>129912</td>\n",
       "      <td>HS-grad</td>\n",
       "      <td>9</td>\n",
       "      <td>Married-civ-spouse</td>\n",
       "      <td>?</td>\n",
       "      <td>Husband</td>\n",
       "      <td>White</td>\n",
       "      <td>Male</td>\n",
       "      <td>0</td>\n",
       "      <td>0</td>\n",
       "      <td>25</td>\n",
       "      <td>United-States</td>\n",
       "      <td>&lt;=50K</td>\n",
       "    </tr>\n",
       "  </tbody>\n",
       "</table>\n",
       "<p>1836 rows × 15 columns</p>\n",
       "</div>"
      ],
      "text/plain": [
       "       Age Workclass  Fnlwgt      Education  Education_num  \\\n",
       "26      54         ?  180211   Some-college             10   \n",
       "60      32         ?  293936        7th-8th              4   \n",
       "68      25         ?  200681   Some-college             10   \n",
       "76      67         ?  212759           10th              6   \n",
       "105     17         ?  304873           10th              6   \n",
       "...    ...       ...     ...            ...            ...   \n",
       "32529   35         ?  320084      Bachelors             13   \n",
       "32530   30         ?   33811      Bachelors             13   \n",
       "32538   71         ?  287372      Doctorate             16   \n",
       "32540   41         ?  202822        HS-grad              9   \n",
       "32541   72         ?  129912        HS-grad              9   \n",
       "\n",
       "               Marital_status Occupation    Relationship                 Race  \\\n",
       "26         Married-civ-spouse          ?         Husband   Asian-Pac-Islander   \n",
       "60      Married-spouse-absent          ?   Not-in-family                White   \n",
       "68              Never-married          ?       Own-child                White   \n",
       "76         Married-civ-spouse          ?         Husband                White   \n",
       "105             Never-married          ?       Own-child                White   \n",
       "...                       ...        ...             ...                  ...   \n",
       "32529      Married-civ-spouse          ?            Wife                White   \n",
       "32530           Never-married          ?   Not-in-family   Asian-Pac-Islander   \n",
       "32538      Married-civ-spouse          ?         Husband                White   \n",
       "32540               Separated          ?   Not-in-family                Black   \n",
       "32541      Married-civ-spouse          ?         Husband                White   \n",
       "\n",
       "           Sex  Capital_gain  Capital_loss  Hours_per_week  Native_country  \\\n",
       "26        Male             0             0              60           South   \n",
       "60        Male             0             0              40               ?   \n",
       "68        Male             0             0              40   United-States   \n",
       "76        Male             0             0               2   United-States   \n",
       "105     Female         34095             0              32   United-States   \n",
       "...        ...           ...           ...             ...             ...   \n",
       "32529   Female             0             0              55   United-States   \n",
       "32530   Female             0             0              99   United-States   \n",
       "32538     Male             0             0              10   United-States   \n",
       "32540   Female             0             0              32   United-States   \n",
       "32541     Male             0             0              25   United-States   \n",
       "\n",
       "       Income  \n",
       "26       >50K  \n",
       "60      <=50K  \n",
       "68      <=50K  \n",
       "76      <=50K  \n",
       "105     <=50K  \n",
       "...       ...  \n",
       "32529    >50K  \n",
       "32530   <=50K  \n",
       "32538    >50K  \n",
       "32540   <=50K  \n",
       "32541   <=50K  \n",
       "\n",
       "[1836 rows x 15 columns]"
      ]
     },
     "execution_count": 394,
     "metadata": {},
     "output_type": "execute_result"
    }
   ],
   "source": [
    "df.loc[df.Workclass==' ?']"
   ]
  },
  {
   "cell_type": "code",
   "execution_count": 395,
   "id": "cff87057",
   "metadata": {},
   "outputs": [
    {
     "name": "stdout",
     "output_type": "stream",
     "text": [
      "164190    13\n",
      "203488    13\n",
      "123011    13\n",
      "148995    12\n",
      "126675    12\n",
      "          ..\n",
      "325573     1\n",
      "140176     1\n",
      "318264     1\n",
      "329205     1\n",
      "257302     1\n",
      "Name: Fnlwgt, Length: 21647, dtype: int64\n"
     ]
    },
    {
     "data": {
      "image/png": "[encoded data removed]",
      "text/plain": [
       "<Figure size 432x288 with 1 Axes>"
      ]
     },
     "metadata": {
      "needs_background": "light"
     },
     "output_type": "display_data"
    }
   ],
   "source": [
    "import seaborn as sns #checking for null\n",
    "Fnlwgt=sns.countplot(x=\"Fnlwgt\", data=df)\n",
    "print(df[\"Fnlwgt\"].value_counts())"
   ]
  },
  {
   "cell_type": "code",
   "execution_count": 396,
   "id": "9d6f8a39",
   "metadata": {},
   "outputs": [
    {
     "name": "stdout",
     "output_type": "stream",
     "text": [
      " HS-grad         10501\n",
      " Some-college     7291\n",
      " Bachelors        5354\n",
      " Masters          1723\n",
      " Assoc-voc        1382\n",
      " 11th             1175\n",
      " Assoc-acdm       1067\n",
      " 10th              933\n",
      " 7th-8th           646\n",
      " Prof-school       576\n",
      " 9th               514\n",
      " 12th              433\n",
      " Doctorate         413\n",
      " 5th-6th           333\n",
      " 1st-4th           168\n",
      " Preschool          51\n",
      "Name: Education, dtype: int64\n"
     ]
    },
    {
     "data": {
      "image/png": "[encoded data removed]",
      "text/plain": [
       "<Figure size 432x288 with 1 Axes>"
      ]
     },
     "metadata": {
      "needs_background": "light"
     },
     "output_type": "display_data"
    }
   ],
   "source": [
    "import seaborn as sns #checking for null\n",
    "Education=sns.countplot(x=\"Education\", data=df)\n",
    "print(df[\"Education\"].value_counts())"
   ]
  },
  {
   "cell_type": "code",
   "execution_count": 397,
   "id": "e03e3825",
   "metadata": {},
   "outputs": [
    {
     "name": "stdout",
     "output_type": "stream",
     "text": [
      "9     10501\n",
      "10     7291\n",
      "13     5354\n",
      "14     1723\n",
      "11     1382\n",
      "7      1175\n",
      "12     1067\n",
      "6       933\n",
      "4       646\n",
      "15      576\n",
      "5       514\n",
      "8       433\n",
      "16      413\n",
      "3       333\n",
      "2       168\n",
      "1        51\n",
      "Name: Education_num, dtype: int64\n"
     ]
    },
    {
     "data": {
      "image/png": "[encoded data removed]",
      "text/plain": [
       "<Figure size 432x288 with 1 Axes>"
      ]
     },
     "metadata": {
      "needs_background": "light"
     },
     "output_type": "display_data"
    }
   ],
   "source": [
    "import seaborn as sns #checking for null\n",
    "Education_num=sns.countplot(x=\"Education_num\", data=df)\n",
    "print(df[\"Education_num\"].value_counts())"
   ]
  },
  {
   "cell_type": "code",
   "execution_count": 398,
   "id": "92056420",
   "metadata": {},
   "outputs": [
    {
     "name": "stdout",
     "output_type": "stream",
     "text": [
      " Married-civ-spouse       14976\n",
      " Never-married            10682\n",
      " Divorced                  4443\n",
      " Separated                 1025\n",
      " Widowed                    993\n",
      " Married-spouse-absent      418\n",
      " Married-AF-spouse           23\n",
      "Name: Marital_status, dtype: int64\n"
     ]
    },
    {
     "data": {
      "image/png": "[encoded data removed]",
      "text/plain": [
       "<Figure size 432x288 with 1 Axes>"
      ]
     },
     "metadata": {
      "needs_background": "light"
     },
     "output_type": "display_data"
    }
   ],
   "source": [
    "import seaborn as sns #checking for null\n",
    "Marital_status=sns.countplot(x=\"Marital_status\", data=df)\n",
    "print(df[\"Marital_status\"].value_counts())"
   ]
  },
  {
   "cell_type": "code",
   "execution_count": 399,
   "id": "24f5f216",
   "metadata": {},
   "outputs": [
    {
     "name": "stdout",
     "output_type": "stream",
     "text": [
      " Prof-specialty       4140\n",
      " Craft-repair         4099\n",
      " Exec-managerial      4066\n",
      " Adm-clerical         3769\n",
      " Sales                3650\n",
      " Other-service        3295\n",
      " Machine-op-inspct    2002\n",
      " ?                    1843\n",
      " Transport-moving     1597\n",
      " Handlers-cleaners    1370\n",
      " Farming-fishing       994\n",
      " Tech-support          928\n",
      " Protective-serv       649\n",
      " Priv-house-serv       149\n",
      " Armed-Forces            9\n",
      "Name: Occupation, dtype: int64\n"
     ]
    },
    {
     "data": {
      "image/png": "[encoded data removed]",
      "text/plain": [
       "<Figure size 432x288 with 1 Axes>"
      ]
     },
     "metadata": {
      "needs_background": "light"
     },
     "output_type": "display_data"
    }
   ],
   "source": [
    "import seaborn as sns #checking for null\n",
    "Occupation=sns.countplot(x=\"Occupation\", data=df)\n",
    "print(df[\"Occupation\"].value_counts())"
   ]
  },
  {
   "cell_type": "code",
   "execution_count": 400,
   "id": "2fbd13c5",
   "metadata": {},
   "outputs": [
    {
     "data": {
      "text/html": [
       "<div>\n",
       "<style scoped>\n",
       "    .dataframe tbody tr th:only-of-type {\n",
       "        vertical-align: middle;\n",
       "    }\n",
       "\n",
       "    .dataframe tbody tr th {\n",
       "        vertical-align: top;\n",
       "    }\n",
       "\n",
       "    .dataframe thead th {\n",
       "        text-align: right;\n",
       "    }\n",
       "</style>\n",
       "<table border=\"1\" class=\"dataframe\">\n",
       "  <thead>\n",
       "    <tr style=\"text-align: right;\">\n",
       "      <th></th>\n",
       "      <th>Age</th>\n",
       "      <th>Workclass</th>\n",
       "      <th>Fnlwgt</th>\n",
       "      <th>Education</th>\n",
       "      <th>Education_num</th>\n",
       "      <th>Marital_status</th>\n",
       "      <th>Occupation</th>\n",
       "      <th>Relationship</th>\n",
       "      <th>Race</th>\n",
       "      <th>Sex</th>\n",
       "      <th>Capital_gain</th>\n",
       "      <th>Capital_loss</th>\n",
       "      <th>Hours_per_week</th>\n",
       "      <th>Native_country</th>\n",
       "      <th>Income</th>\n",
       "    </tr>\n",
       "  </thead>\n",
       "  <tbody>\n",
       "    <tr>\n",
       "      <th>26</th>\n",
       "      <td>54</td>\n",
       "      <td>?</td>\n",
       "      <td>180211</td>\n",
       "      <td>Some-college</td>\n",
       "      <td>10</td>\n",
       "      <td>Married-civ-spouse</td>\n",
       "      <td>?</td>\n",
       "      <td>Husband</td>\n",
       "      <td>Asian-Pac-Islander</td>\n",
       "      <td>Male</td>\n",
       "      <td>0</td>\n",
       "      <td>0</td>\n",
       "      <td>60</td>\n",
       "      <td>South</td>\n",
       "      <td>&gt;50K</td>\n",
       "    </tr>\n",
       "    <tr>\n",
       "      <th>60</th>\n",
       "      <td>32</td>\n",
       "      <td>?</td>\n",
       "      <td>293936</td>\n",
       "      <td>7th-8th</td>\n",
       "      <td>4</td>\n",
       "      <td>Married-spouse-absent</td>\n",
       "      <td>?</td>\n",
       "      <td>Not-in-family</td>\n",
       "      <td>White</td>\n",
       "      <td>Male</td>\n",
       "      <td>0</td>\n",
       "      <td>0</td>\n",
       "      <td>40</td>\n",
       "      <td>?</td>\n",
       "      <td>&lt;=50K</td>\n",
       "    </tr>\n",
       "    <tr>\n",
       "      <th>68</th>\n",
       "      <td>25</td>\n",
       "      <td>?</td>\n",
       "      <td>200681</td>\n",
       "      <td>Some-college</td>\n",
       "      <td>10</td>\n",
       "      <td>Never-married</td>\n",
       "      <td>?</td>\n",
       "      <td>Own-child</td>\n",
       "      <td>White</td>\n",
       "      <td>Male</td>\n",
       "      <td>0</td>\n",
       "      <td>0</td>\n",
       "      <td>40</td>\n",
       "      <td>United-States</td>\n",
       "      <td>&lt;=50K</td>\n",
       "    </tr>\n",
       "    <tr>\n",
       "      <th>76</th>\n",
       "      <td>67</td>\n",
       "      <td>?</td>\n",
       "      <td>212759</td>\n",
       "      <td>10th</td>\n",
       "      <td>6</td>\n",
       "      <td>Married-civ-spouse</td>\n",
       "      <td>?</td>\n",
       "      <td>Husband</td>\n",
       "      <td>White</td>\n",
       "      <td>Male</td>\n",
       "      <td>0</td>\n",
       "      <td>0</td>\n",
       "      <td>2</td>\n",
       "      <td>United-States</td>\n",
       "      <td>&lt;=50K</td>\n",
       "    </tr>\n",
       "    <tr>\n",
       "      <th>105</th>\n",
       "      <td>17</td>\n",
       "      <td>?</td>\n",
       "      <td>304873</td>\n",
       "      <td>10th</td>\n",
       "      <td>6</td>\n",
       "      <td>Never-married</td>\n",
       "      <td>?</td>\n",
       "      <td>Own-child</td>\n",
       "      <td>White</td>\n",
       "      <td>Female</td>\n",
       "      <td>34095</td>\n",
       "      <td>0</td>\n",
       "      <td>32</td>\n",
       "      <td>United-States</td>\n",
       "      <td>&lt;=50K</td>\n",
       "    </tr>\n",
       "    <tr>\n",
       "      <th>...</th>\n",
       "      <td>...</td>\n",
       "      <td>...</td>\n",
       "      <td>...</td>\n",
       "      <td>...</td>\n",
       "      <td>...</td>\n",
       "      <td>...</td>\n",
       "      <td>...</td>\n",
       "      <td>...</td>\n",
       "      <td>...</td>\n",
       "      <td>...</td>\n",
       "      <td>...</td>\n",
       "      <td>...</td>\n",
       "      <td>...</td>\n",
       "      <td>...</td>\n",
       "      <td>...</td>\n",
       "    </tr>\n",
       "    <tr>\n",
       "      <th>32529</th>\n",
       "      <td>35</td>\n",
       "      <td>?</td>\n",
       "      <td>320084</td>\n",
       "      <td>Bachelors</td>\n",
       "      <td>13</td>\n",
       "      <td>Married-civ-spouse</td>\n",
       "      <td>?</td>\n",
       "      <td>Wife</td>\n",
       "      <td>White</td>\n",
       "      <td>Female</td>\n",
       "      <td>0</td>\n",
       "      <td>0</td>\n",
       "      <td>55</td>\n",
       "      <td>United-States</td>\n",
       "      <td>&gt;50K</td>\n",
       "    </tr>\n",
       "    <tr>\n",
       "      <th>32530</th>\n",
       "      <td>30</td>\n",
       "      <td>?</td>\n",
       "      <td>33811</td>\n",
       "      <td>Bachelors</td>\n",
       "      <td>13</td>\n",
       "      <td>Never-married</td>\n",
       "      <td>?</td>\n",
       "      <td>Not-in-family</td>\n",
       "      <td>Asian-Pac-Islander</td>\n",
       "      <td>Female</td>\n",
       "      <td>0</td>\n",
       "      <td>0</td>\n",
       "      <td>99</td>\n",
       "      <td>United-States</td>\n",
       "      <td>&lt;=50K</td>\n",
       "    </tr>\n",
       "    <tr>\n",
       "      <th>32538</th>\n",
       "      <td>71</td>\n",
       "      <td>?</td>\n",
       "      <td>287372</td>\n",
       "      <td>Doctorate</td>\n",
       "      <td>16</td>\n",
       "      <td>Married-civ-spouse</td>\n",
       "      <td>?</td>\n",
       "      <td>Husband</td>\n",
       "      <td>White</td>\n",
       "      <td>Male</td>\n",
       "      <td>0</td>\n",
       "      <td>0</td>\n",
       "      <td>10</td>\n",
       "      <td>United-States</td>\n",
       "      <td>&gt;50K</td>\n",
       "    </tr>\n",
       "    <tr>\n",
       "      <th>32540</th>\n",
       "      <td>41</td>\n",
       "      <td>?</td>\n",
       "      <td>202822</td>\n",
       "      <td>HS-grad</td>\n",
       "      <td>9</td>\n",
       "      <td>Separated</td>\n",
       "      <td>?</td>\n",
       "      <td>Not-in-family</td>\n",
       "      <td>Black</td>\n",
       "      <td>Female</td>\n",
       "      <td>0</td>\n",
       "      <td>0</td>\n",
       "      <td>32</td>\n",
       "      <td>United-States</td>\n",
       "      <td>&lt;=50K</td>\n",
       "    </tr>\n",
       "    <tr>\n",
       "      <th>32541</th>\n",
       "      <td>72</td>\n",
       "      <td>?</td>\n",
       "      <td>129912</td>\n",
       "      <td>HS-grad</td>\n",
       "      <td>9</td>\n",
       "      <td>Married-civ-spouse</td>\n",
       "      <td>?</td>\n",
       "      <td>Husband</td>\n",
       "      <td>White</td>\n",
       "      <td>Male</td>\n",
       "      <td>0</td>\n",
       "      <td>0</td>\n",
       "      <td>25</td>\n",
       "      <td>United-States</td>\n",
       "      <td>&lt;=50K</td>\n",
       "    </tr>\n",
       "  </tbody>\n",
       "</table>\n",
       "<p>1843 rows × 15 columns</p>\n",
       "</div>"
      ],
      "text/plain": [
       "       Age Workclass  Fnlwgt      Education  Education_num  \\\n",
       "26      54         ?  180211   Some-college             10   \n",
       "60      32         ?  293936        7th-8th              4   \n",
       "68      25         ?  200681   Some-college             10   \n",
       "76      67         ?  212759           10th              6   \n",
       "105     17         ?  304873           10th              6   \n",
       "...    ...       ...     ...            ...            ...   \n",
       "32529   35         ?  320084      Bachelors             13   \n",
       "32530   30         ?   33811      Bachelors             13   \n",
       "32538   71         ?  287372      Doctorate             16   \n",
       "32540   41         ?  202822        HS-grad              9   \n",
       "32541   72         ?  129912        HS-grad              9   \n",
       "\n",
       "               Marital_status Occupation    Relationship                 Race  \\\n",
       "26         Married-civ-spouse          ?         Husband   Asian-Pac-Islander   \n",
       "60      Married-spouse-absent          ?   Not-in-family                White   \n",
       "68              Never-married          ?       Own-child                White   \n",
       "76         Married-civ-spouse          ?         Husband                White   \n",
       "105             Never-married          ?       Own-child                White   \n",
       "...                       ...        ...             ...                  ...   \n",
       "32529      Married-civ-spouse          ?            Wife                White   \n",
       "32530           Never-married          ?   Not-in-family   Asian-Pac-Islander   \n",
       "32538      Married-civ-spouse          ?         Husband                White   \n",
       "32540               Separated          ?   Not-in-family                Black   \n",
       "32541      Married-civ-spouse          ?         Husband                White   \n",
       "\n",
       "           Sex  Capital_gain  Capital_loss  Hours_per_week  Native_country  \\\n",
       "26        Male             0             0              60           South   \n",
       "60        Male             0             0              40               ?   \n",
       "68        Male             0             0              40   United-States   \n",
       "76        Male             0             0               2   United-States   \n",
       "105     Female         34095             0              32   United-States   \n",
       "...        ...           ...           ...             ...             ...   \n",
       "32529   Female             0             0              55   United-States   \n",
       "32530   Female             0             0              99   United-States   \n",
       "32538     Male             0             0              10   United-States   \n",
       "32540   Female             0             0              32   United-States   \n",
       "32541     Male             0             0              25   United-States   \n",
       "\n",
       "       Income  \n",
       "26       >50K  \n",
       "60      <=50K  \n",
       "68      <=50K  \n",
       "76      <=50K  \n",
       "105     <=50K  \n",
       "...       ...  \n",
       "32529    >50K  \n",
       "32530   <=50K  \n",
       "32538    >50K  \n",
       "32540   <=50K  \n",
       "32541   <=50K  \n",
       "\n",
       "[1843 rows x 15 columns]"
      ]
     },
     "execution_count": 400,
     "metadata": {},
     "output_type": "execute_result"
    }
   ],
   "source": [
    "# since there is '?' in the data, we have to replace it\n",
    "df.loc[df.Occupation==' ?']"
   ]
  },
  {
   "cell_type": "code",
   "execution_count": 401,
   "id": "2c61c5d7",
   "metadata": {},
   "outputs": [
    {
     "name": "stdout",
     "output_type": "stream",
     "text": [
      " Husband           13193\n",
      " Not-in-family      8304\n",
      " Own-child          5068\n",
      " Unmarried          3446\n",
      " Wife               1568\n",
      " Other-relative      981\n",
      "Name: Relationship, dtype: int64\n"
     ]
    },
    {
     "data": {
      "image/png": "[encoded data removed]",
      "text/plain": [
       "<Figure size 432x288 with 1 Axes>"
      ]
     },
     "metadata": {
      "needs_background": "light"
     },
     "output_type": "display_data"
    }
   ],
   "source": [
    "import seaborn as sns #checking for null\n",
    "Education=sns.countplot(x=\"Relationship\", data=df)\n",
    "print(df[\"Relationship\"].value_counts())"
   ]
  },
  {
   "cell_type": "code",
   "execution_count": 402,
   "id": "ccb689e6",
   "metadata": {},
   "outputs": [
    {
     "name": "stdout",
     "output_type": "stream",
     "text": [
      " White                 27815\n",
      " Black                  3124\n",
      " Asian-Pac-Islander     1039\n",
      " Amer-Indian-Eskimo      311\n",
      " Other                   271\n",
      "Name: Race, dtype: int64\n"
     ]
    },
    {
     "data": {
      "image/png": "[encoded data removed]",
      "text/plain": [
       "<Figure size 432x288 with 1 Axes>"
      ]
     },
     "metadata": {
      "needs_background": "light"
     },
     "output_type": "display_data"
    }
   ],
   "source": [
    "import seaborn as sns #checking for null\n",
    "Race=sns.countplot(x=\"Race\", data=df)\n",
    "print(df[\"Race\"].value_counts())"
   ]
  },
  {
   "cell_type": "code",
   "execution_count": 403,
   "id": "c8b09c62",
   "metadata": {},
   "outputs": [
    {
     "name": "stdout",
     "output_type": "stream",
     "text": [
      " Male      21789\n",
      " Female    10771\n",
      "Name: Sex, dtype: int64\n"
     ]
    },
    {
     "data": {
      "image/png": "[encoded data removed]",
      "text/plain": [
       "<Figure size 432x288 with 1 Axes>"
      ]
     },
     "metadata": {
      "needs_background": "light"
     },
     "output_type": "display_data"
    }
   ],
   "source": [
    "import seaborn as sns #checking for null\n",
    "Sex=sns.countplot(x=\"Sex\", data=df)\n",
    "print(df[\"Sex\"].value_counts())"
   ]
  },
  {
   "cell_type": "code",
   "execution_count": 404,
   "id": "b4bd16e0",
   "metadata": {},
   "outputs": [
    {
     "name": "stdout",
     "output_type": "stream",
     "text": [
      "0       31041\n",
      "1902      202\n",
      "1977      168\n",
      "1887      159\n",
      "1848       51\n",
      "        ...  \n",
      "2080        1\n",
      "1539        1\n",
      "1844        1\n",
      "2489        1\n",
      "1411        1\n",
      "Name: Capital_loss, Length: 92, dtype: int64\n"
     ]
    },
    {
     "data": {
      "image/png": "[encoded data removed]",
      "text/plain": [
       "<Figure size 432x288 with 1 Axes>"
      ]
     },
     "metadata": {
      "needs_background": "light"
     },
     "output_type": "display_data"
    }
   ],
   "source": [
    "import seaborn as sns #checking for null\n",
    "Capital_loss=sns.countplot(x=\"Capital_loss\", data=df)\n",
    "print(df[\"Capital_loss\"].value_counts())"
   ]
  },
  {
   "cell_type": "code",
   "execution_count": 405,
   "id": "811b74d0",
   "metadata": {},
   "outputs": [
    {
     "name": "stdout",
     "output_type": "stream",
     "text": [
      "40    15216\n",
      "50     2819\n",
      "45     1824\n",
      "60     1475\n",
      "35     1297\n",
      "      ...  \n",
      "82        1\n",
      "94        1\n",
      "92        1\n",
      "74        1\n",
      "87        1\n",
      "Name: Hours_per_week, Length: 94, dtype: int64\n"
     ]
    },
    {
     "data": {
      "image/png": "[encoded data removed]",
      "text/plain": [
       "<Figure size 432x288 with 1 Axes>"
      ]
     },
     "metadata": {
      "needs_background": "light"
     },
     "output_type": "display_data"
    }
   ],
   "source": [
    "import seaborn as sns \n",
    "Hours_per_week=sns.countplot(x=\"Hours_per_week\", data=df)\n",
    "print(df[\"Hours_per_week\"].value_counts())"
   ]
  },
  {
   "cell_type": "code",
   "execution_count": 64,
   "id": "0cd51fd2",
   "metadata": {},
   "outputs": [
    {
     "name": "stdout",
     "output_type": "stream",
     "text": [
      " United-States                 29169\n",
      " Mexico                          643\n",
      " ?                               583\n",
      " Philippines                     198\n",
      " Germany                         137\n",
      " Canada                          121\n",
      " Puerto-Rico                     114\n",
      " El-Salvador                     106\n",
      " India                           100\n",
      " Cuba                             95\n",
      " England                          90\n",
      " Jamaica                          81\n",
      " South                            80\n",
      " China                            75\n",
      " Italy                            73\n",
      " Dominican-Republic               70\n",
      " Vietnam                          67\n",
      " Guatemala                        64\n",
      " Japan                            62\n",
      " Poland                           60\n",
      " Columbia                         59\n",
      " Taiwan                           51\n",
      " Haiti                            44\n",
      " Iran                             43\n",
      " Portugal                         37\n",
      " Nicaragua                        34\n",
      " Peru                             31\n",
      " France                           29\n",
      " Greece                           29\n",
      " Ecuador                          28\n",
      " Ireland                          24\n",
      " Hong                             20\n",
      " Cambodia                         19\n",
      " Trinadad&Tobago                  19\n",
      " Laos                             18\n",
      " Thailand                         18\n",
      " Yugoslavia                       16\n",
      " Outlying-US(Guam-USVI-etc)       14\n",
      " Honduras                         13\n",
      " Hungary                          13\n",
      " Scotland                         12\n",
      " Holand-Netherlands                1\n",
      "Name: Native_country, dtype: int64\n"
     ]
    },
    {
     "data": {
      "image/png": "[encoded data removed]",
      "text/plain": [
       "<Figure size 432x288 with 1 Axes>"
      ]
     },
     "metadata": {
      "needs_background": "light"
     },
     "output_type": "display_data"
    }
   ],
   "source": [
    "import seaborn as sns #checking for null\n",
    "Native_country=sns.countplot(x=\"Native_country\", data=df)\n",
    "print(df[\"Native_country\"].value_counts())"
   ]
  },
  {
   "cell_type": "code",
   "execution_count": 226,
   "id": "f47a3fd5",
   "metadata": {},
   "outputs": [
    {
     "name": "stdout",
     "output_type": "stream",
     "text": [
      "0        29849\n",
      "15024      347\n",
      "7688       284\n",
      "7298       246\n",
      "99999      159\n",
      "         ...  \n",
      "1111         1\n",
      "2538         1\n",
      "22040        1\n",
      "4931         1\n",
      "5060         1\n",
      "Name: Capital_gain, Length: 119, dtype: int64\n"
     ]
    },
    {
     "data": {
      "image/png": "[encoded data removed]",
      "text/plain": [
       "<Figure size 432x288 with 1 Axes>"
      ]
     },
     "metadata": {
      "needs_background": "light"
     },
     "output_type": "display_data"
    }
   ],
   "source": [
    "import seaborn as sns #checking for null\n",
    "Capital_gain=sns.countplot(x=\"Capital_gain\", data=df)\n",
    "print(df[\"Capital_gain\"].value_counts())"
   ]
  },
  {
   "cell_type": "code",
   "execution_count": 227,
   "id": "41c94d61",
   "metadata": {},
   "outputs": [
    {
     "name": "stdout",
     "output_type": "stream",
     "text": [
      "<=50K    24719\n",
      ">50K      7841\n",
      "Name: Income, dtype: int64\n"
     ]
    },
    {
     "data": {
      "image/png": "[encoded data removed]",
      "text/plain": [
       "<Figure size 432x288 with 1 Axes>"
      ]
     },
     "metadata": {
      "needs_background": "light"
     },
     "output_type": "display_data"
    }
   ],
   "source": [
    "import seaborn as sns #checking for null\n",
    "Capital_loss=sns.countplot(x=\"Income\", data=df)\n",
    "print(df[\"Income\"].value_counts())\n",
    "#this seems to be imbalanced"
   ]
  },
  {
   "cell_type": "code",
   "execution_count": 228,
   "id": "f7c52a59",
   "metadata": {},
   "outputs": [
    {
     "data": {
      "text/plain": [
       "Private             22696\n",
       "Self-emp-not-inc     2541\n",
       "Local-gov            2093\n",
       "?                    1836\n",
       "State-gov            1297\n",
       "Self-emp-inc         1116\n",
       "Federal-gov           960\n",
       "Without-pay            14\n",
       "Never-worked            7\n",
       "Name: Workclass, dtype: int64"
      ]
     },
     "execution_count": 228,
     "metadata": {},
     "output_type": "execute_result"
    }
   ],
   "source": [
    "df.Workclass.value_counts()"
   ]
  },
  {
   "cell_type": "code",
   "execution_count": 229,
   "id": "36863cf5",
   "metadata": {},
   "outputs": [
    {
     "name": "stdout",
     "output_type": "stream",
     "text": [
      "<class 'pandas.core.frame.DataFrame'>\n",
      "RangeIndex: 32560 entries, 0 to 32559\n",
      "Data columns (total 15 columns):\n",
      " #   Column          Non-Null Count  Dtype \n",
      "---  ------          --------------  ----- \n",
      " 0   Age             32560 non-null  int64 \n",
      " 1   Workclass       32560 non-null  object\n",
      " 2   Fnlwgt          32560 non-null  int64 \n",
      " 3   Education       32560 non-null  object\n",
      " 4   Education_num   32560 non-null  int64 \n",
      " 5   Marital_status  32560 non-null  object\n",
      " 6   Occupation      32560 non-null  object\n",
      " 7   Relationship    32560 non-null  object\n",
      " 8   Race            32560 non-null  object\n",
      " 9   Sex             32560 non-null  object\n",
      " 10  Capital_gain    32560 non-null  int64 \n",
      " 11  Capital_loss    32560 non-null  int64 \n",
      " 12  Hours_per_week  32560 non-null  int64 \n",
      " 13  Native_country  32560 non-null  object\n",
      " 14  Income          32560 non-null  object\n",
      "dtypes: int64(6), object(9)\n",
      "memory usage: 3.7+ MB\n"
     ]
    }
   ],
   "source": [
    "df.info()"
   ]
  },
  {
   "cell_type": "code",
   "execution_count": 411,
   "id": "7ec34197",
   "metadata": {},
   "outputs": [],
   "source": [
    "# discard spaces from entries\n",
    "columns = ['Workclass', 'Marital_status', 'Occupation', 'Relationship', 'Race', 'Sex', 'Native_country', 'Income']\n",
    "for column in columns:\n",
    "    df[column] = df[column].str.strip()"
   ]
  },
  {
   "cell_type": "code",
   "execution_count": 412,
   "id": "5e033ec7",
   "metadata": {},
   "outputs": [
    {
     "data": {
      "text/html": [
       "<div>\n",
       "<style scoped>\n",
       "    .dataframe tbody tr th:only-of-type {\n",
       "        vertical-align: middle;\n",
       "    }\n",
       "\n",
       "    .dataframe tbody tr th {\n",
       "        vertical-align: top;\n",
       "    }\n",
       "\n",
       "    .dataframe thead th {\n",
       "        text-align: right;\n",
       "    }\n",
       "</style>\n",
       "<table border=\"1\" class=\"dataframe\">\n",
       "  <thead>\n",
       "    <tr style=\"text-align: right;\">\n",
       "      <th></th>\n",
       "      <th>Age</th>\n",
       "      <th>Workclass</th>\n",
       "      <th>Fnlwgt</th>\n",
       "      <th>Education</th>\n",
       "      <th>Education_num</th>\n",
       "      <th>Marital_status</th>\n",
       "      <th>Occupation</th>\n",
       "      <th>Relationship</th>\n",
       "      <th>Race</th>\n",
       "      <th>Sex</th>\n",
       "      <th>Capital_gain</th>\n",
       "      <th>Capital_loss</th>\n",
       "      <th>Hours_per_week</th>\n",
       "      <th>Native_country</th>\n",
       "      <th>Income</th>\n",
       "    </tr>\n",
       "  </thead>\n",
       "  <tbody>\n",
       "    <tr>\n",
       "      <th>0</th>\n",
       "      <td>50</td>\n",
       "      <td>Self-emp-not-inc</td>\n",
       "      <td>83311</td>\n",
       "      <td>Bachelors</td>\n",
       "      <td>13</td>\n",
       "      <td>Married-civ-spouse</td>\n",
       "      <td>Exec-managerial</td>\n",
       "      <td>Husband</td>\n",
       "      <td>White</td>\n",
       "      <td>Male</td>\n",
       "      <td>0</td>\n",
       "      <td>0</td>\n",
       "      <td>13</td>\n",
       "      <td>United-States</td>\n",
       "      <td>&lt;=50K</td>\n",
       "    </tr>\n",
       "    <tr>\n",
       "      <th>1</th>\n",
       "      <td>38</td>\n",
       "      <td>Private</td>\n",
       "      <td>215646</td>\n",
       "      <td>HS-grad</td>\n",
       "      <td>9</td>\n",
       "      <td>Divorced</td>\n",
       "      <td>Handlers-cleaners</td>\n",
       "      <td>Not-in-family</td>\n",
       "      <td>White</td>\n",
       "      <td>Male</td>\n",
       "      <td>0</td>\n",
       "      <td>0</td>\n",
       "      <td>40</td>\n",
       "      <td>United-States</td>\n",
       "      <td>&lt;=50K</td>\n",
       "    </tr>\n",
       "    <tr>\n",
       "      <th>2</th>\n",
       "      <td>53</td>\n",
       "      <td>Private</td>\n",
       "      <td>234721</td>\n",
       "      <td>11th</td>\n",
       "      <td>7</td>\n",
       "      <td>Married-civ-spouse</td>\n",
       "      <td>Handlers-cleaners</td>\n",
       "      <td>Husband</td>\n",
       "      <td>Black</td>\n",
       "      <td>Male</td>\n",
       "      <td>0</td>\n",
       "      <td>0</td>\n",
       "      <td>40</td>\n",
       "      <td>United-States</td>\n",
       "      <td>&lt;=50K</td>\n",
       "    </tr>\n",
       "    <tr>\n",
       "      <th>3</th>\n",
       "      <td>28</td>\n",
       "      <td>Private</td>\n",
       "      <td>338409</td>\n",
       "      <td>Bachelors</td>\n",
       "      <td>13</td>\n",
       "      <td>Married-civ-spouse</td>\n",
       "      <td>Prof-specialty</td>\n",
       "      <td>Wife</td>\n",
       "      <td>Black</td>\n",
       "      <td>Female</td>\n",
       "      <td>0</td>\n",
       "      <td>0</td>\n",
       "      <td>40</td>\n",
       "      <td>Cuba</td>\n",
       "      <td>&lt;=50K</td>\n",
       "    </tr>\n",
       "    <tr>\n",
       "      <th>4</th>\n",
       "      <td>37</td>\n",
       "      <td>Private</td>\n",
       "      <td>284582</td>\n",
       "      <td>Masters</td>\n",
       "      <td>14</td>\n",
       "      <td>Married-civ-spouse</td>\n",
       "      <td>Exec-managerial</td>\n",
       "      <td>Wife</td>\n",
       "      <td>White</td>\n",
       "      <td>Female</td>\n",
       "      <td>0</td>\n",
       "      <td>0</td>\n",
       "      <td>40</td>\n",
       "      <td>United-States</td>\n",
       "      <td>&lt;=50K</td>\n",
       "    </tr>\n",
       "    <tr>\n",
       "      <th>...</th>\n",
       "      <td>...</td>\n",
       "      <td>...</td>\n",
       "      <td>...</td>\n",
       "      <td>...</td>\n",
       "      <td>...</td>\n",
       "      <td>...</td>\n",
       "      <td>...</td>\n",
       "      <td>...</td>\n",
       "      <td>...</td>\n",
       "      <td>...</td>\n",
       "      <td>...</td>\n",
       "      <td>...</td>\n",
       "      <td>...</td>\n",
       "      <td>...</td>\n",
       "      <td>...</td>\n",
       "    </tr>\n",
       "    <tr>\n",
       "      <th>32555</th>\n",
       "      <td>27</td>\n",
       "      <td>Private</td>\n",
       "      <td>257302</td>\n",
       "      <td>Assoc-acdm</td>\n",
       "      <td>12</td>\n",
       "      <td>Married-civ-spouse</td>\n",
       "      <td>Tech-support</td>\n",
       "      <td>Wife</td>\n",
       "      <td>White</td>\n",
       "      <td>Female</td>\n",
       "      <td>0</td>\n",
       "      <td>0</td>\n",
       "      <td>38</td>\n",
       "      <td>United-States</td>\n",
       "      <td>&lt;=50K</td>\n",
       "    </tr>\n",
       "    <tr>\n",
       "      <th>32556</th>\n",
       "      <td>40</td>\n",
       "      <td>Private</td>\n",
       "      <td>154374</td>\n",
       "      <td>HS-grad</td>\n",
       "      <td>9</td>\n",
       "      <td>Married-civ-spouse</td>\n",
       "      <td>Machine-op-inspct</td>\n",
       "      <td>Husband</td>\n",
       "      <td>White</td>\n",
       "      <td>Male</td>\n",
       "      <td>0</td>\n",
       "      <td>0</td>\n",
       "      <td>40</td>\n",
       "      <td>United-States</td>\n",
       "      <td>&gt;50K</td>\n",
       "    </tr>\n",
       "    <tr>\n",
       "      <th>32557</th>\n",
       "      <td>58</td>\n",
       "      <td>Private</td>\n",
       "      <td>151910</td>\n",
       "      <td>HS-grad</td>\n",
       "      <td>9</td>\n",
       "      <td>Widowed</td>\n",
       "      <td>Adm-clerical</td>\n",
       "      <td>Unmarried</td>\n",
       "      <td>White</td>\n",
       "      <td>Female</td>\n",
       "      <td>0</td>\n",
       "      <td>0</td>\n",
       "      <td>40</td>\n",
       "      <td>United-States</td>\n",
       "      <td>&lt;=50K</td>\n",
       "    </tr>\n",
       "    <tr>\n",
       "      <th>32558</th>\n",
       "      <td>22</td>\n",
       "      <td>Private</td>\n",
       "      <td>201490</td>\n",
       "      <td>HS-grad</td>\n",
       "      <td>9</td>\n",
       "      <td>Never-married</td>\n",
       "      <td>Adm-clerical</td>\n",
       "      <td>Own-child</td>\n",
       "      <td>White</td>\n",
       "      <td>Male</td>\n",
       "      <td>0</td>\n",
       "      <td>0</td>\n",
       "      <td>20</td>\n",
       "      <td>United-States</td>\n",
       "      <td>&lt;=50K</td>\n",
       "    </tr>\n",
       "    <tr>\n",
       "      <th>32559</th>\n",
       "      <td>52</td>\n",
       "      <td>Self-emp-inc</td>\n",
       "      <td>287927</td>\n",
       "      <td>HS-grad</td>\n",
       "      <td>9</td>\n",
       "      <td>Married-civ-spouse</td>\n",
       "      <td>Exec-managerial</td>\n",
       "      <td>Wife</td>\n",
       "      <td>White</td>\n",
       "      <td>Female</td>\n",
       "      <td>15024</td>\n",
       "      <td>0</td>\n",
       "      <td>40</td>\n",
       "      <td>United-States</td>\n",
       "      <td>&gt;50K</td>\n",
       "    </tr>\n",
       "  </tbody>\n",
       "</table>\n",
       "<p>32560 rows × 15 columns</p>\n",
       "</div>"
      ],
      "text/plain": [
       "       Age         Workclass  Fnlwgt    Education  Education_num  \\\n",
       "0       50  Self-emp-not-inc   83311    Bachelors             13   \n",
       "1       38           Private  215646      HS-grad              9   \n",
       "2       53           Private  234721         11th              7   \n",
       "3       28           Private  338409    Bachelors             13   \n",
       "4       37           Private  284582      Masters             14   \n",
       "...    ...               ...     ...          ...            ...   \n",
       "32555   27           Private  257302   Assoc-acdm             12   \n",
       "32556   40           Private  154374      HS-grad              9   \n",
       "32557   58           Private  151910      HS-grad              9   \n",
       "32558   22           Private  201490      HS-grad              9   \n",
       "32559   52      Self-emp-inc  287927      HS-grad              9   \n",
       "\n",
       "           Marital_status         Occupation   Relationship   Race     Sex  \\\n",
       "0      Married-civ-spouse    Exec-managerial        Husband  White    Male   \n",
       "1                Divorced  Handlers-cleaners  Not-in-family  White    Male   \n",
       "2      Married-civ-spouse  Handlers-cleaners        Husband  Black    Male   \n",
       "3      Married-civ-spouse     Prof-specialty           Wife  Black  Female   \n",
       "4      Married-civ-spouse    Exec-managerial           Wife  White  Female   \n",
       "...                   ...                ...            ...    ...     ...   \n",
       "32555  Married-civ-spouse       Tech-support           Wife  White  Female   \n",
       "32556  Married-civ-spouse  Machine-op-inspct        Husband  White    Male   \n",
       "32557             Widowed       Adm-clerical      Unmarried  White  Female   \n",
       "32558       Never-married       Adm-clerical      Own-child  White    Male   \n",
       "32559  Married-civ-spouse    Exec-managerial           Wife  White  Female   \n",
       "\n",
       "       Capital_gain  Capital_loss  Hours_per_week Native_country Income  \n",
       "0                 0             0              13  United-States  <=50K  \n",
       "1                 0             0              40  United-States  <=50K  \n",
       "2                 0             0              40  United-States  <=50K  \n",
       "3                 0             0              40           Cuba  <=50K  \n",
       "4                 0             0              40  United-States  <=50K  \n",
       "...             ...           ...             ...            ...    ...  \n",
       "32555             0             0              38  United-States  <=50K  \n",
       "32556             0             0              40  United-States   >50K  \n",
       "32557             0             0              40  United-States  <=50K  \n",
       "32558             0             0              20  United-States  <=50K  \n",
       "32559         15024             0              40  United-States   >50K  \n",
       "\n",
       "[32560 rows x 15 columns]"
      ]
     },
     "execution_count": 412,
     "metadata": {},
     "output_type": "execute_result"
    }
   ],
   "source": [
    "df= df.replace('?', np.NaN)\n",
    "df"
   ]
  },
  {
   "cell_type": "code",
   "execution_count": 413,
   "id": "2dd115e5",
   "metadata": {},
   "outputs": [
    {
     "data": {
      "text/plain": [
       "United-States                 29169\n",
       "Mexico                          643\n",
       "Philippines                     198\n",
       "Germany                         137\n",
       "Canada                          121\n",
       "Puerto-Rico                     114\n",
       "El-Salvador                     106\n",
       "India                           100\n",
       "Cuba                             95\n",
       "England                          90\n",
       "Jamaica                          81\n",
       "South                            80\n",
       "China                            75\n",
       "Italy                            73\n",
       "Dominican-Republic               70\n",
       "Vietnam                          67\n",
       "Guatemala                        64\n",
       "Japan                            62\n",
       "Poland                           60\n",
       "Columbia                         59\n",
       "Taiwan                           51\n",
       "Haiti                            44\n",
       "Iran                             43\n",
       "Portugal                         37\n",
       "Nicaragua                        34\n",
       "Peru                             31\n",
       "France                           29\n",
       "Greece                           29\n",
       "Ecuador                          28\n",
       "Ireland                          24\n",
       "Hong                             20\n",
       "Cambodia                         19\n",
       "Trinadad&Tobago                  19\n",
       "Laos                             18\n",
       "Thailand                         18\n",
       "Yugoslavia                       16\n",
       "Outlying-US(Guam-USVI-etc)       14\n",
       "Honduras                         13\n",
       "Hungary                          13\n",
       "Scotland                         12\n",
       "Holand-Netherlands                1\n",
       "Name: Native_country, dtype: int64"
      ]
     },
     "execution_count": 413,
     "metadata": {},
     "output_type": "execute_result"
    }
   ],
   "source": [
    "df.Native_country.value_counts()"
   ]
  },
  {
   "cell_type": "code",
   "execution_count": 414,
   "id": "290f398f",
   "metadata": {},
   "outputs": [
    {
     "data": {
      "text/plain": [
       "Prof-specialty       4140\n",
       "Craft-repair         4099\n",
       "Exec-managerial      4066\n",
       "Adm-clerical         3769\n",
       "Sales                3650\n",
       "Other-service        3295\n",
       "Machine-op-inspct    2002\n",
       "Transport-moving     1597\n",
       "Handlers-cleaners    1370\n",
       "Farming-fishing       994\n",
       "Tech-support          928\n",
       "Protective-serv       649\n",
       "Priv-house-serv       149\n",
       "Armed-Forces            9\n",
       "Name: Occupation, dtype: int64"
      ]
     },
     "execution_count": 414,
     "metadata": {},
     "output_type": "execute_result"
    }
   ],
   "source": [
    "df.Occupation.value_counts()"
   ]
  },
  {
   "cell_type": "code",
   "execution_count": 415,
   "id": "eaa0310b",
   "metadata": {},
   "outputs": [
    {
     "name": "stdout",
     "output_type": "stream",
     "text": [
      "<class 'pandas.core.frame.DataFrame'>\n",
      "RangeIndex: 32560 entries, 0 to 32559\n",
      "Data columns (total 15 columns):\n",
      " #   Column          Non-Null Count  Dtype \n",
      "---  ------          --------------  ----- \n",
      " 0   Age             32560 non-null  int64 \n",
      " 1   Workclass       30724 non-null  object\n",
      " 2   Fnlwgt          32560 non-null  int64 \n",
      " 3   Education       32560 non-null  object\n",
      " 4   Education_num   32560 non-null  int64 \n",
      " 5   Marital_status  32560 non-null  object\n",
      " 6   Occupation      30717 non-null  object\n",
      " 7   Relationship    32560 non-null  object\n",
      " 8   Race            32560 non-null  object\n",
      " 9   Sex             32560 non-null  object\n",
      " 10  Capital_gain    32560 non-null  int64 \n",
      " 11  Capital_loss    32560 non-null  int64 \n",
      " 12  Hours_per_week  32560 non-null  int64 \n",
      " 13  Native_country  31977 non-null  object\n",
      " 14  Income          32560 non-null  object\n",
      "dtypes: int64(6), object(9)\n",
      "memory usage: 3.7+ MB\n"
     ]
    }
   ],
   "source": [
    "df.info()"
   ]
  },
  {
   "cell_type": "code",
   "execution_count": 416,
   "id": "8e5d55a4",
   "metadata": {},
   "outputs": [],
   "source": [
    "df = new_df.dropna()"
   ]
  },
  {
   "cell_type": "code",
   "execution_count": 417,
   "id": "953023ad",
   "metadata": {},
   "outputs": [
    {
     "name": "stdout",
     "output_type": "stream",
     "text": [
      "<class 'pandas.core.frame.DataFrame'>\n",
      "RangeIndex: 32560 entries, 0 to 32559\n",
      "Data columns (total 15 columns):\n",
      " #   Column          Non-Null Count  Dtype \n",
      "---  ------          --------------  ----- \n",
      " 0   Age             32560 non-null  int64 \n",
      " 1   Workclass       32560 non-null  object\n",
      " 2   Fnlwgt          32560 non-null  int64 \n",
      " 3   Education       32560 non-null  object\n",
      " 4   Education_num   32560 non-null  int64 \n",
      " 5   Marital_status  32560 non-null  object\n",
      " 6   Occupation      32560 non-null  object\n",
      " 7   Relationship    32560 non-null  object\n",
      " 8   Race            32560 non-null  object\n",
      " 9   Sex             32560 non-null  object\n",
      " 10  Capital_gain    32560 non-null  int64 \n",
      " 11  Capital_loss    32560 non-null  int64 \n",
      " 12  Hours_per_week  32560 non-null  int64 \n",
      " 13  Native_country  32560 non-null  object\n",
      " 14  Income          32560 non-null  object\n",
      "dtypes: int64(6), object(9)\n",
      "memory usage: 3.7+ MB\n"
     ]
    }
   ],
   "source": [
    "df.info()"
   ]
  },
  {
   "cell_type": "code",
   "execution_count": 420,
   "id": "c05123d3",
   "metadata": {},
   "outputs": [],
   "source": [
    "#ropping the education column as education_num column is already present\n",
    "df = df.drop(['Education'], axis=1)"
   ]
  },
  {
   "cell_type": "code",
   "execution_count": 421,
   "id": "873a6088",
   "metadata": {},
   "outputs": [
    {
     "data": {
      "text/html": [
       "<div>\n",
       "<style scoped>\n",
       "    .dataframe tbody tr th:only-of-type {\n",
       "        vertical-align: middle;\n",
       "    }\n",
       "\n",
       "    .dataframe tbody tr th {\n",
       "        vertical-align: top;\n",
       "    }\n",
       "\n",
       "    .dataframe thead th {\n",
       "        text-align: right;\n",
       "    }\n",
       "</style>\n",
       "<table border=\"1\" class=\"dataframe\">\n",
       "  <thead>\n",
       "    <tr style=\"text-align: right;\">\n",
       "      <th></th>\n",
       "      <th>Age</th>\n",
       "      <th>Fnlwgt</th>\n",
       "      <th>Education_num</th>\n",
       "      <th>Capital_gain</th>\n",
       "      <th>Capital_loss</th>\n",
       "      <th>Hours_per_week</th>\n",
       "    </tr>\n",
       "  </thead>\n",
       "  <tbody>\n",
       "    <tr>\n",
       "      <th>Age</th>\n",
       "      <td>1.000000</td>\n",
       "      <td>-0.076646</td>\n",
       "      <td>0.036527</td>\n",
       "      <td>0.077674</td>\n",
       "      <td>0.057775</td>\n",
       "      <td>0.068756</td>\n",
       "    </tr>\n",
       "    <tr>\n",
       "      <th>Fnlwgt</th>\n",
       "      <td>-0.076646</td>\n",
       "      <td>1.000000</td>\n",
       "      <td>-0.043159</td>\n",
       "      <td>0.000437</td>\n",
       "      <td>-0.010259</td>\n",
       "      <td>-0.018770</td>\n",
       "    </tr>\n",
       "    <tr>\n",
       "      <th>Education_num</th>\n",
       "      <td>0.036527</td>\n",
       "      <td>-0.043159</td>\n",
       "      <td>1.000000</td>\n",
       "      <td>0.122627</td>\n",
       "      <td>0.079932</td>\n",
       "      <td>0.148127</td>\n",
       "    </tr>\n",
       "    <tr>\n",
       "      <th>Capital_gain</th>\n",
       "      <td>0.077674</td>\n",
       "      <td>0.000437</td>\n",
       "      <td>0.122627</td>\n",
       "      <td>1.000000</td>\n",
       "      <td>-0.031614</td>\n",
       "      <td>0.078409</td>\n",
       "    </tr>\n",
       "    <tr>\n",
       "      <th>Capital_loss</th>\n",
       "      <td>0.057775</td>\n",
       "      <td>-0.010259</td>\n",
       "      <td>0.079932</td>\n",
       "      <td>-0.031614</td>\n",
       "      <td>1.000000</td>\n",
       "      <td>0.054256</td>\n",
       "    </tr>\n",
       "    <tr>\n",
       "      <th>Hours_per_week</th>\n",
       "      <td>0.068756</td>\n",
       "      <td>-0.018770</td>\n",
       "      <td>0.148127</td>\n",
       "      <td>0.078409</td>\n",
       "      <td>0.054256</td>\n",
       "      <td>1.000000</td>\n",
       "    </tr>\n",
       "  </tbody>\n",
       "</table>\n",
       "</div>"
      ],
      "text/plain": [
       "                     Age    Fnlwgt  Education_num  Capital_gain  Capital_loss  \\\n",
       "Age             1.000000 -0.076646       0.036527      0.077674      0.057775   \n",
       "Fnlwgt         -0.076646  1.000000      -0.043159      0.000437     -0.010259   \n",
       "Education_num   0.036527 -0.043159       1.000000      0.122627      0.079932   \n",
       "Capital_gain    0.077674  0.000437       0.122627      1.000000     -0.031614   \n",
       "Capital_loss    0.057775 -0.010259       0.079932     -0.031614      1.000000   \n",
       "Hours_per_week  0.068756 -0.018770       0.148127      0.078409      0.054256   \n",
       "\n",
       "                Hours_per_week  \n",
       "Age                   0.068756  \n",
       "Fnlwgt               -0.018770  \n",
       "Education_num         0.148127  \n",
       "Capital_gain          0.078409  \n",
       "Capital_loss          0.054256  \n",
       "Hours_per_week        1.000000  "
      ]
     },
     "execution_count": 421,
     "metadata": {},
     "output_type": "execute_result"
    }
   ],
   "source": [
    "df.corr()"
   ]
  },
  {
   "cell_type": "code",
   "execution_count": 423,
   "id": "6a811ff2",
   "metadata": {},
   "outputs": [
    {
     "data": {
      "text/plain": [
       "<AxesSubplot:>"
      ]
     },
     "execution_count": 423,
     "metadata": {},
     "output_type": "execute_result"
    },
    {
     "data": {
      "image/png": "[encoded data removed]",
      "text/plain": [
       "<Figure size 1584x504 with 2 Axes>"
      ]
     },
     "metadata": {
      "needs_background": "light"
     },
     "output_type": "display_data"
    }
   ],
   "source": [
    "plt.figure(figsize=(22,7))\n",
    "sns.heatmap(df.corr(),annot=True,linewidths=0.1,linecolor=\"black\",fmt=\"0.2f\")"
   ]
  },
  {
   "cell_type": "code",
   "execution_count": 424,
   "id": "1cc00850",
   "metadata": {},
   "outputs": [
    {
     "data": {
      "text/plain": [
       "Capital_gain      11.953690\n",
       "Capital_loss       4.594549\n",
       "Fnlwgt             1.446972\n",
       "Age                0.558738\n",
       "Hours_per_week     0.227636\n",
       "Education_num     -0.311630\n",
       "dtype: float64"
      ]
     },
     "execution_count": 424,
     "metadata": {},
     "output_type": "execute_result"
    }
   ],
   "source": [
    "df.skew().sort_values(ascending=False)"
   ]
  },
  {
   "cell_type": "code",
   "execution_count": 425,
   "id": "d9f15c82",
   "metadata": {},
   "outputs": [],
   "source": [
    "from sklearn.preprocessing import LabelEncoder\n",
    "for col in new_df.columns:\n",
    "    if df[col].dtypes == 'object':\n",
    "        encoder = LabelEncoder()\n",
    "        df[col] = encoder.fit_transform(new_df[col])"
   ]
  },
  {
   "cell_type": "code",
   "execution_count": 426,
   "id": "aca41f1f",
   "metadata": {},
   "outputs": [
    {
     "data": {
      "text/html": [
       "<div>\n",
       "<style scoped>\n",
       "    .dataframe tbody tr th:only-of-type {\n",
       "        vertical-align: middle;\n",
       "    }\n",
       "\n",
       "    .dataframe tbody tr th {\n",
       "        vertical-align: top;\n",
       "    }\n",
       "\n",
       "    .dataframe thead th {\n",
       "        text-align: right;\n",
       "    }\n",
       "</style>\n",
       "<table border=\"1\" class=\"dataframe\">\n",
       "  <thead>\n",
       "    <tr style=\"text-align: right;\">\n",
       "      <th></th>\n",
       "      <th>Age</th>\n",
       "      <th>Workclass</th>\n",
       "      <th>Fnlwgt</th>\n",
       "      <th>Education_num</th>\n",
       "      <th>Marital_status</th>\n",
       "      <th>Occupation</th>\n",
       "      <th>Relationship</th>\n",
       "      <th>Race</th>\n",
       "      <th>Sex</th>\n",
       "      <th>Capital_gain</th>\n",
       "      <th>Capital_loss</th>\n",
       "      <th>Hours_per_week</th>\n",
       "      <th>Native_country</th>\n",
       "      <th>Income</th>\n",
       "    </tr>\n",
       "  </thead>\n",
       "  <tbody>\n",
       "    <tr>\n",
       "      <th>0</th>\n",
       "      <td>50</td>\n",
       "      <td>6</td>\n",
       "      <td>83311</td>\n",
       "      <td>13</td>\n",
       "      <td>2</td>\n",
       "      <td>4</td>\n",
       "      <td>0</td>\n",
       "      <td>4</td>\n",
       "      <td>1</td>\n",
       "      <td>0</td>\n",
       "      <td>0</td>\n",
       "      <td>13</td>\n",
       "      <td>39</td>\n",
       "      <td>0</td>\n",
       "    </tr>\n",
       "    <tr>\n",
       "      <th>1</th>\n",
       "      <td>38</td>\n",
       "      <td>4</td>\n",
       "      <td>215646</td>\n",
       "      <td>9</td>\n",
       "      <td>0</td>\n",
       "      <td>6</td>\n",
       "      <td>1</td>\n",
       "      <td>4</td>\n",
       "      <td>1</td>\n",
       "      <td>0</td>\n",
       "      <td>0</td>\n",
       "      <td>40</td>\n",
       "      <td>39</td>\n",
       "      <td>0</td>\n",
       "    </tr>\n",
       "    <tr>\n",
       "      <th>2</th>\n",
       "      <td>53</td>\n",
       "      <td>4</td>\n",
       "      <td>234721</td>\n",
       "      <td>7</td>\n",
       "      <td>2</td>\n",
       "      <td>6</td>\n",
       "      <td>0</td>\n",
       "      <td>2</td>\n",
       "      <td>1</td>\n",
       "      <td>0</td>\n",
       "      <td>0</td>\n",
       "      <td>40</td>\n",
       "      <td>39</td>\n",
       "      <td>0</td>\n",
       "    </tr>\n",
       "    <tr>\n",
       "      <th>3</th>\n",
       "      <td>28</td>\n",
       "      <td>4</td>\n",
       "      <td>338409</td>\n",
       "      <td>13</td>\n",
       "      <td>2</td>\n",
       "      <td>10</td>\n",
       "      <td>5</td>\n",
       "      <td>2</td>\n",
       "      <td>0</td>\n",
       "      <td>0</td>\n",
       "      <td>0</td>\n",
       "      <td>40</td>\n",
       "      <td>5</td>\n",
       "      <td>0</td>\n",
       "    </tr>\n",
       "    <tr>\n",
       "      <th>4</th>\n",
       "      <td>37</td>\n",
       "      <td>4</td>\n",
       "      <td>284582</td>\n",
       "      <td>14</td>\n",
       "      <td>2</td>\n",
       "      <td>4</td>\n",
       "      <td>5</td>\n",
       "      <td>4</td>\n",
       "      <td>0</td>\n",
       "      <td>0</td>\n",
       "      <td>0</td>\n",
       "      <td>40</td>\n",
       "      <td>39</td>\n",
       "      <td>0</td>\n",
       "    </tr>\n",
       "  </tbody>\n",
       "</table>\n",
       "</div>"
      ],
      "text/plain": [
       "   Age  Workclass  Fnlwgt  Education_num  Marital_status  Occupation  \\\n",
       "0   50          6   83311             13               2           4   \n",
       "1   38          4  215646              9               0           6   \n",
       "2   53          4  234721              7               2           6   \n",
       "3   28          4  338409             13               2          10   \n",
       "4   37          4  284582             14               2           4   \n",
       "\n",
       "   Relationship  Race  Sex  Capital_gain  Capital_loss  Hours_per_week  \\\n",
       "0             0     4    1             0             0              13   \n",
       "1             1     4    1             0             0              40   \n",
       "2             0     2    1             0             0              40   \n",
       "3             5     2    0             0             0              40   \n",
       "4             5     4    0             0             0              40   \n",
       "\n",
       "   Native_country  Income  \n",
       "0              39       0  \n",
       "1              39       0  \n",
       "2              39       0  \n",
       "3               5       0  \n",
       "4              39       0  "
      ]
     },
     "execution_count": 426,
     "metadata": {},
     "output_type": "execute_result"
    }
   ],
   "source": [
    "df.head()"
   ]
  },
  {
   "cell_type": "code",
   "execution_count": 427,
   "id": "06b7cb2b",
   "metadata": {},
   "outputs": [
    {
     "name": "stdout",
     "output_type": "stream",
     "text": [
      "<class 'pandas.core.frame.DataFrame'>\n",
      "RangeIndex: 32560 entries, 0 to 32559\n",
      "Data columns (total 14 columns):\n",
      " #   Column          Non-Null Count  Dtype\n",
      "---  ------          --------------  -----\n",
      " 0   Age             32560 non-null  int64\n",
      " 1   Workclass       32560 non-null  int32\n",
      " 2   Fnlwgt          32560 non-null  int64\n",
      " 3   Education_num   32560 non-null  int64\n",
      " 4   Marital_status  32560 non-null  int32\n",
      " 5   Occupation      32560 non-null  int32\n",
      " 6   Relationship    32560 non-null  int32\n",
      " 7   Race            32560 non-null  int32\n",
      " 8   Sex             32560 non-null  int32\n",
      " 9   Capital_gain    32560 non-null  int64\n",
      " 10  Capital_loss    32560 non-null  int64\n",
      " 11  Hours_per_week  32560 non-null  int64\n",
      " 12  Native_country  32560 non-null  int32\n",
      " 13  Income          32560 non-null  int32\n",
      "dtypes: int32(8), int64(6)\n",
      "memory usage: 2.5 MB\n"
     ]
    }
   ],
   "source": [
    "df.info()"
   ]
  },
  {
   "cell_type": "code",
   "execution_count": 428,
   "id": "7e095c0c",
   "metadata": {},
   "outputs": [
    {
     "data": {
      "text/plain": [
       "<AxesSubplot:>"
      ]
     },
     "execution_count": 428,
     "metadata": {},
     "output_type": "execute_result"
    },
    {
     "data": {
      "image/png": "[encoded data removed]",
      "text/plain": [
       "<Figure size 1584x504 with 2 Axes>"
      ]
     },
     "metadata": {
      "needs_background": "light"
     },
     "output_type": "display_data"
    }
   ],
   "source": [
    "import matplotlib.pyplot as plt\n",
    "plt.figure(figsize=(22,7))\n",
    "sns.heatmap(df.describe(),annot=True,linewidths=0.1,linecolor=\"black\",fmt=\"0.2f\")"
   ]
  },
  {
   "cell_type": "code",
   "execution_count": 429,
   "id": "489f3927",
   "metadata": {},
   "outputs": [
    {
     "data": {
      "text/html": [
       "<div>\n",
       "<style scoped>\n",
       "    .dataframe tbody tr th:only-of-type {\n",
       "        vertical-align: middle;\n",
       "    }\n",
       "\n",
       "    .dataframe tbody tr th {\n",
       "        vertical-align: top;\n",
       "    }\n",
       "\n",
       "    .dataframe thead th {\n",
       "        text-align: right;\n",
       "    }\n",
       "</style>\n",
       "<table border=\"1\" class=\"dataframe\">\n",
       "  <thead>\n",
       "    <tr style=\"text-align: right;\">\n",
       "      <th></th>\n",
       "      <th>Age</th>\n",
       "      <th>Workclass</th>\n",
       "      <th>Fnlwgt</th>\n",
       "      <th>Education_num</th>\n",
       "      <th>Marital_status</th>\n",
       "      <th>Occupation</th>\n",
       "      <th>Relationship</th>\n",
       "      <th>Race</th>\n",
       "      <th>Sex</th>\n",
       "      <th>Capital_gain</th>\n",
       "      <th>Capital_loss</th>\n",
       "      <th>Hours_per_week</th>\n",
       "      <th>Native_country</th>\n",
       "      <th>Income</th>\n",
       "    </tr>\n",
       "  </thead>\n",
       "  <tbody>\n",
       "    <tr>\n",
       "      <th>Age</th>\n",
       "      <td>1.000000</td>\n",
       "      <td>0.003786</td>\n",
       "      <td>-0.076646</td>\n",
       "      <td>0.036527</td>\n",
       "      <td>-0.266292</td>\n",
       "      <td>-0.020946</td>\n",
       "      <td>-0.263698</td>\n",
       "      <td>0.028718</td>\n",
       "      <td>0.088832</td>\n",
       "      <td>0.077674</td>\n",
       "      <td>0.057775</td>\n",
       "      <td>0.068756</td>\n",
       "      <td>-0.001151</td>\n",
       "      <td>0.234039</td>\n",
       "    </tr>\n",
       "    <tr>\n",
       "      <th>Workclass</th>\n",
       "      <td>0.003786</td>\n",
       "      <td>1.000000</td>\n",
       "      <td>-0.016587</td>\n",
       "      <td>0.052015</td>\n",
       "      <td>-0.064798</td>\n",
       "      <td>0.255004</td>\n",
       "      <td>-0.090449</td>\n",
       "      <td>0.049720</td>\n",
       "      <td>0.095942</td>\n",
       "      <td>0.033828</td>\n",
       "      <td>0.012231</td>\n",
       "      <td>0.138974</td>\n",
       "      <td>-0.007710</td>\n",
       "      <td>0.051645</td>\n",
       "    </tr>\n",
       "    <tr>\n",
       "      <th>Fnlwgt</th>\n",
       "      <td>-0.076646</td>\n",
       "      <td>-0.016587</td>\n",
       "      <td>1.000000</td>\n",
       "      <td>-0.043159</td>\n",
       "      <td>0.028184</td>\n",
       "      <td>0.001554</td>\n",
       "      <td>0.008922</td>\n",
       "      <td>-0.021278</td>\n",
       "      <td>0.026882</td>\n",
       "      <td>0.000437</td>\n",
       "      <td>-0.010259</td>\n",
       "      <td>-0.018770</td>\n",
       "      <td>-0.051957</td>\n",
       "      <td>-0.009481</td>\n",
       "    </tr>\n",
       "    <tr>\n",
       "      <th>Education_num</th>\n",
       "      <td>0.036527</td>\n",
       "      <td>0.052015</td>\n",
       "      <td>-0.043159</td>\n",
       "      <td>1.000000</td>\n",
       "      <td>-0.069338</td>\n",
       "      <td>0.109748</td>\n",
       "      <td>-0.094145</td>\n",
       "      <td>0.031825</td>\n",
       "      <td>0.012256</td>\n",
       "      <td>0.122627</td>\n",
       "      <td>0.079932</td>\n",
       "      <td>0.148127</td>\n",
       "      <td>0.050831</td>\n",
       "      <td>0.335182</td>\n",
       "    </tr>\n",
       "    <tr>\n",
       "      <th>Marital_status</th>\n",
       "      <td>-0.266292</td>\n",
       "      <td>-0.064798</td>\n",
       "      <td>0.028184</td>\n",
       "      <td>-0.069338</td>\n",
       "      <td>1.000000</td>\n",
       "      <td>-0.009617</td>\n",
       "      <td>0.185461</td>\n",
       "      <td>-0.068025</td>\n",
       "      <td>-0.129337</td>\n",
       "      <td>-0.043398</td>\n",
       "      <td>-0.034182</td>\n",
       "      <td>-0.190521</td>\n",
       "      <td>-0.023827</td>\n",
       "      <td>-0.199295</td>\n",
       "    </tr>\n",
       "    <tr>\n",
       "      <th>Occupation</th>\n",
       "      <td>-0.020946</td>\n",
       "      <td>0.255004</td>\n",
       "      <td>0.001554</td>\n",
       "      <td>0.109748</td>\n",
       "      <td>-0.009617</td>\n",
       "      <td>1.000000</td>\n",
       "      <td>-0.075620</td>\n",
       "      <td>0.006779</td>\n",
       "      <td>0.080328</td>\n",
       "      <td>0.025511</td>\n",
       "      <td>0.017979</td>\n",
       "      <td>0.080384</td>\n",
       "      <td>-0.012532</td>\n",
       "      <td>0.075448</td>\n",
       "    </tr>\n",
       "    <tr>\n",
       "      <th>Relationship</th>\n",
       "      <td>-0.263698</td>\n",
       "      <td>-0.090449</td>\n",
       "      <td>0.008922</td>\n",
       "      <td>-0.094145</td>\n",
       "      <td>0.185461</td>\n",
       "      <td>-0.075620</td>\n",
       "      <td>1.000000</td>\n",
       "      <td>-0.116052</td>\n",
       "      <td>-0.582453</td>\n",
       "      <td>-0.057918</td>\n",
       "      <td>-0.061064</td>\n",
       "      <td>-0.248975</td>\n",
       "      <td>-0.005504</td>\n",
       "      <td>-0.250924</td>\n",
       "    </tr>\n",
       "    <tr>\n",
       "      <th>Race</th>\n",
       "      <td>0.028718</td>\n",
       "      <td>0.049720</td>\n",
       "      <td>-0.021278</td>\n",
       "      <td>0.031825</td>\n",
       "      <td>-0.068025</td>\n",
       "      <td>0.006779</td>\n",
       "      <td>-0.116052</td>\n",
       "      <td>1.000000</td>\n",
       "      <td>0.087197</td>\n",
       "      <td>0.011143</td>\n",
       "      <td>0.018902</td>\n",
       "      <td>0.041910</td>\n",
       "      <td>0.137849</td>\n",
       "      <td>0.071853</td>\n",
       "    </tr>\n",
       "    <tr>\n",
       "      <th>Sex</th>\n",
       "      <td>0.088832</td>\n",
       "      <td>0.095942</td>\n",
       "      <td>0.026882</td>\n",
       "      <td>0.012256</td>\n",
       "      <td>-0.129337</td>\n",
       "      <td>0.080328</td>\n",
       "      <td>-0.582453</td>\n",
       "      <td>0.087197</td>\n",
       "      <td>1.000000</td>\n",
       "      <td>0.048477</td>\n",
       "      <td>0.045572</td>\n",
       "      <td>0.229312</td>\n",
       "      <td>-0.008125</td>\n",
       "      <td>0.215995</td>\n",
       "    </tr>\n",
       "    <tr>\n",
       "      <th>Capital_gain</th>\n",
       "      <td>0.077674</td>\n",
       "      <td>0.033828</td>\n",
       "      <td>0.000437</td>\n",
       "      <td>0.122627</td>\n",
       "      <td>-0.043398</td>\n",
       "      <td>0.025511</td>\n",
       "      <td>-0.057918</td>\n",
       "      <td>0.011143</td>\n",
       "      <td>0.048477</td>\n",
       "      <td>1.000000</td>\n",
       "      <td>-0.031614</td>\n",
       "      <td>0.078409</td>\n",
       "      <td>-0.001984</td>\n",
       "      <td>0.223333</td>\n",
       "    </tr>\n",
       "    <tr>\n",
       "      <th>Capital_loss</th>\n",
       "      <td>0.057775</td>\n",
       "      <td>0.012231</td>\n",
       "      <td>-0.010259</td>\n",
       "      <td>0.079932</td>\n",
       "      <td>-0.034182</td>\n",
       "      <td>0.017979</td>\n",
       "      <td>-0.061064</td>\n",
       "      <td>0.018902</td>\n",
       "      <td>0.045572</td>\n",
       "      <td>-0.031614</td>\n",
       "      <td>1.000000</td>\n",
       "      <td>0.054256</td>\n",
       "      <td>0.000420</td>\n",
       "      <td>0.150523</td>\n",
       "    </tr>\n",
       "    <tr>\n",
       "      <th>Hours_per_week</th>\n",
       "      <td>0.068756</td>\n",
       "      <td>0.138974</td>\n",
       "      <td>-0.018770</td>\n",
       "      <td>0.148127</td>\n",
       "      <td>-0.190521</td>\n",
       "      <td>0.080384</td>\n",
       "      <td>-0.248975</td>\n",
       "      <td>0.041910</td>\n",
       "      <td>0.229312</td>\n",
       "      <td>0.078409</td>\n",
       "      <td>0.054256</td>\n",
       "      <td>1.000000</td>\n",
       "      <td>-0.002671</td>\n",
       "      <td>0.229690</td>\n",
       "    </tr>\n",
       "    <tr>\n",
       "      <th>Native_country</th>\n",
       "      <td>-0.001151</td>\n",
       "      <td>-0.007710</td>\n",
       "      <td>-0.051957</td>\n",
       "      <td>0.050831</td>\n",
       "      <td>-0.023827</td>\n",
       "      <td>-0.012532</td>\n",
       "      <td>-0.005504</td>\n",
       "      <td>0.137849</td>\n",
       "      <td>-0.008125</td>\n",
       "      <td>-0.001984</td>\n",
       "      <td>0.000420</td>\n",
       "      <td>-0.002671</td>\n",
       "      <td>1.000000</td>\n",
       "      <td>0.015845</td>\n",
       "    </tr>\n",
       "    <tr>\n",
       "      <th>Income</th>\n",
       "      <td>0.234039</td>\n",
       "      <td>0.051645</td>\n",
       "      <td>-0.009481</td>\n",
       "      <td>0.335182</td>\n",
       "      <td>-0.199295</td>\n",
       "      <td>0.075448</td>\n",
       "      <td>-0.250924</td>\n",
       "      <td>0.071853</td>\n",
       "      <td>0.215995</td>\n",
       "      <td>0.223333</td>\n",
       "      <td>0.150523</td>\n",
       "      <td>0.229690</td>\n",
       "      <td>0.015845</td>\n",
       "      <td>1.000000</td>\n",
       "    </tr>\n",
       "  </tbody>\n",
       "</table>\n",
       "</div>"
      ],
      "text/plain": [
       "                     Age  Workclass    Fnlwgt  Education_num  Marital_status  \\\n",
       "Age             1.000000   0.003786 -0.076646       0.036527       -0.266292   \n",
       "Workclass       0.003786   1.000000 -0.016587       0.052015       -0.064798   \n",
       "Fnlwgt         -0.076646  -0.016587  1.000000      -0.043159        0.028184   \n",
       "Education_num   0.036527   0.052015 -0.043159       1.000000       -0.069338   \n",
       "Marital_status -0.266292  -0.064798  0.028184      -0.069338        1.000000   \n",
       "Occupation     -0.020946   0.255004  0.001554       0.109748       -0.009617   \n",
       "Relationship   -0.263698  -0.090449  0.008922      -0.094145        0.185461   \n",
       "Race            0.028718   0.049720 -0.021278       0.031825       -0.068025   \n",
       "Sex             0.088832   0.095942  0.026882       0.012256       -0.129337   \n",
       "Capital_gain    0.077674   0.033828  0.000437       0.122627       -0.043398   \n",
       "Capital_loss    0.057775   0.012231 -0.010259       0.079932       -0.034182   \n",
       "Hours_per_week  0.068756   0.138974 -0.018770       0.148127       -0.190521   \n",
       "Native_country -0.001151  -0.007710 -0.051957       0.050831       -0.023827   \n",
       "Income          0.234039   0.051645 -0.009481       0.335182       -0.199295   \n",
       "\n",
       "                Occupation  Relationship      Race       Sex  Capital_gain  \\\n",
       "Age              -0.020946     -0.263698  0.028718  0.088832      0.077674   \n",
       "Workclass         0.255004     -0.090449  0.049720  0.095942      0.033828   \n",
       "Fnlwgt            0.001554      0.008922 -0.021278  0.026882      0.000437   \n",
       "Education_num     0.109748     -0.094145  0.031825  0.012256      0.122627   \n",
       "Marital_status   -0.009617      0.185461 -0.068025 -0.129337     -0.043398   \n",
       "Occupation        1.000000     -0.075620  0.006779  0.080328      0.025511   \n",
       "Relationship     -0.075620      1.000000 -0.116052 -0.582453     -0.057918   \n",
       "Race              0.006779     -0.116052  1.000000  0.087197      0.011143   \n",
       "Sex               0.080328     -0.582453  0.087197  1.000000      0.048477   \n",
       "Capital_gain      0.025511     -0.057918  0.011143  0.048477      1.000000   \n",
       "Capital_loss      0.017979     -0.061064  0.018902  0.045572     -0.031614   \n",
       "Hours_per_week    0.080384     -0.248975  0.041910  0.229312      0.078409   \n",
       "Native_country   -0.012532     -0.005504  0.137849 -0.008125     -0.001984   \n",
       "Income            0.075448     -0.250924  0.071853  0.215995      0.223333   \n",
       "\n",
       "                Capital_loss  Hours_per_week  Native_country    Income  \n",
       "Age                 0.057775        0.068756       -0.001151  0.234039  \n",
       "Workclass           0.012231        0.138974       -0.007710  0.051645  \n",
       "Fnlwgt             -0.010259       -0.018770       -0.051957 -0.009481  \n",
       "Education_num       0.079932        0.148127        0.050831  0.335182  \n",
       "Marital_status     -0.034182       -0.190521       -0.023827 -0.199295  \n",
       "Occupation          0.017979        0.080384       -0.012532  0.075448  \n",
       "Relationship       -0.061064       -0.248975       -0.005504 -0.250924  \n",
       "Race                0.018902        0.041910        0.137849  0.071853  \n",
       "Sex                 0.045572        0.229312       -0.008125  0.215995  \n",
       "Capital_gain       -0.031614        0.078409       -0.001984  0.223333  \n",
       "Capital_loss        1.000000        0.054256        0.000420  0.150523  \n",
       "Hours_per_week      0.054256        1.000000       -0.002671  0.229690  \n",
       "Native_country      0.000420       -0.002671        1.000000  0.015845  \n",
       "Income              0.150523        0.229690        0.015845  1.000000  "
      ]
     },
     "execution_count": 429,
     "metadata": {},
     "output_type": "execute_result"
    }
   ],
   "source": [
    "df.corr()"
   ]
  },
  {
   "cell_type": "code",
   "execution_count": 430,
   "id": "26159fb2",
   "metadata": {},
   "outputs": [
    {
     "data": {
      "text/plain": [
       "<AxesSubplot:>"
      ]
     },
     "execution_count": 430,
     "metadata": {},
     "output_type": "execute_result"
    },
    {
     "data": {
      "image/png": "[encoded data removed]",
      "text/plain": [
       "<Figure size 1584x504 with 2 Axes>"
      ]
     },
     "metadata": {
      "needs_background": "light"
     },
     "output_type": "display_data"
    }
   ],
   "source": [
    "plt.figure(figsize=(22,7))\n",
    "sns.heatmap(df.corr(),annot=True,linewidths=0.1,linecolor=\"black\",fmt=\"0.2f\")"
   ]
  },
  {
   "cell_type": "code",
   "execution_count": 431,
   "id": "54e9c715",
   "metadata": {},
   "outputs": [
    {
     "data": {
      "image/png": "[encoded data removed]",
      "text/plain": [
       "<Figure size 1584x504 with 1 Axes>"
      ]
     },
     "metadata": {
      "needs_background": "light"
     },
     "output_type": "display_data"
    }
   ],
   "source": [
    "plt.figure(figsize=(22,7))\n",
    "df.corr()['Income'].sort_values(ascending=False).drop([\"Income\"]).plot(kind=\"bar\",color=\"c\")\n",
    "plt.xlabel(\"Feature\",fontsize=14)\n",
    "plt.ylabel('column with target names',fontsize=14)\n",
    "plt.title('correlation', fontsize=18)\n",
    "plt.show()"
   ]
  },
  {
   "cell_type": "code",
   "execution_count": 432,
   "id": "a98d56d1",
   "metadata": {},
   "outputs": [
    {
     "data": {
      "text/plain": [
       "Capital_gain      11.953690\n",
       "Capital_loss       4.594549\n",
       "Fnlwgt             1.446972\n",
       "Income             1.212383\n",
       "Relationship       0.786784\n",
       "Age                0.558738\n",
       "Hours_per_week     0.227636\n",
       "Occupation         0.114540\n",
       "Marital_status    -0.013448\n",
       "Education_num     -0.311630\n",
       "Sex               -0.719244\n",
       "Workclass         -0.752280\n",
       "Race              -2.435332\n",
       "Native_country    -3.658235\n",
       "dtype: float64"
      ]
     },
     "execution_count": 432,
     "metadata": {},
     "output_type": "execute_result"
    }
   ],
   "source": [
    "df.skew().sort_values(ascending=False)"
   ]
  },
  {
   "cell_type": "code",
   "execution_count": 433,
   "id": "d856c152",
   "metadata": {},
   "outputs": [
    {
     "data": {
      "text/plain": [
       "Income            1.000000\n",
       "Education_num     0.335182\n",
       "Age               0.234039\n",
       "Hours_per_week    0.229690\n",
       "Capital_gain      0.223333\n",
       "Sex               0.215995\n",
       "Capital_loss      0.150523\n",
       "Occupation        0.075448\n",
       "Race              0.071853\n",
       "Workclass         0.051645\n",
       "Native_country    0.015845\n",
       "Fnlwgt           -0.009481\n",
       "Marital_status   -0.199295\n",
       "Relationship     -0.250924\n",
       "Name: Income, dtype: float64"
      ]
     },
     "execution_count": 433,
     "metadata": {},
     "output_type": "execute_result"
    }
   ],
   "source": [
    "corr_matrix=df.corr()\n",
    "corr_matrix[\"Income\"].sort_values(ascending=False)"
   ]
  },
  {
   "cell_type": "code",
   "execution_count": 434,
   "id": "c0747a39",
   "metadata": {},
   "outputs": [
    {
     "data": {
      "text/plain": [
       "<AxesSubplot:xlabel='Fnlwgt'>"
      ]
     },
     "execution_count": 434,
     "metadata": {},
     "output_type": "execute_result"
    },
    {
     "data": {
      "image/png": "[encoded data removed]",
      "text/plain": [
       "<Figure size 432x288 with 1 Axes>"
      ]
     },
     "metadata": {
      "needs_background": "light"
     },
     "output_type": "display_data"
    }
   ],
   "source": [
    "sns.boxplot(df[\"Fnlwgt\"])"
   ]
  },
  {
   "cell_type": "code",
   "execution_count": 435,
   "id": "d54139a7",
   "metadata": {},
   "outputs": [],
   "source": [
    "# Partioning the data\n",
    "X = df.drop(['Income'],axis=1)\n",
    "y = df['Income']"
   ]
  },
  {
   "cell_type": "code",
   "execution_count": 436,
   "id": "3ba6528f",
   "metadata": {},
   "outputs": [
    {
     "data": {
      "image/png": "[encoded data removed]",
      "text/plain": [
       "<Figure size 1440x576 with 1 Axes>"
      ]
     },
     "metadata": {
      "needs_background": "light"
     },
     "output_type": "display_data"
    }
   ],
   "source": [
    "#Plotting boxplots for first 30 columns\n",
    "X.iloc[:,0:13].boxplot(figsize=[20,8])\n",
    "plt.subplots_adjust(bottom=0.25)\n",
    "plt.show()"
   ]
  },
  {
   "cell_type": "code",
   "execution_count": 437,
   "id": "3652c878",
   "metadata": {},
   "outputs": [
    {
     "data": {
      "text/plain": [
       "array([[ 0.83709708,  1.46388339, -1.0087417 , ..., -0.21666301,\n",
       "        -2.22212013,  0.29157343],\n",
       "       [-0.04264043,  0.09012148,  0.24504633, ..., -0.21666301,\n",
       "        -0.03542999,  0.29157343],\n",
       "       [ 1.05703146,  0.09012148,  0.42576955, ..., -0.21666301,\n",
       "        -0.03542999,  0.29157343],\n",
       "       ...,\n",
       "       [ 1.42358875,  0.09012148, -0.3588108 , ..., -0.21666301,\n",
       "        -0.03542999,  0.29157343],\n",
       "       [-1.21562378,  0.09012148,  0.11092744, ..., -0.21666301,\n",
       "        -1.65520046,  0.29157343],\n",
       "       [ 0.98372   ,  0.77700244,  0.92986178, ..., -0.21666301,\n",
       "        -0.03542999,  0.29157343]])"
      ]
     },
     "execution_count": 437,
     "metadata": {},
     "output_type": "execute_result"
    }
   ],
   "source": [
    "from sklearn.preprocessing import StandardScaler\n",
    "sc = StandardScaler()\n",
    "Scaled_X=sc.fit_transform(X)\n",
    "Scaled_X"
   ]
  },
  {
   "cell_type": "code",
   "execution_count": 438,
   "id": "dd1c57e1",
   "metadata": {},
   "outputs": [],
   "source": [
    "from sklearn.model_selection import train_test_split\n",
    "LR=LogisticRegression()"
   ]
  },
  {
   "cell_type": "code",
   "execution_count": 304,
   "id": "6d2dc434",
   "metadata": {},
   "outputs": [
    {
     "name": "stdout",
     "output_type": "stream",
     "text": [
      "At random_state state 7 The model performs very well\n",
      "At random_state state:- 7\n",
      "Training accuracy_score is:- 82.5\n",
      "Testing accuracy_score is:- 82.5 \n",
      "\n",
      "\n",
      "At random_state state 14 The model performs very well\n",
      "At random_state state:- 14\n",
      "Training accuracy_score is:- 82.6\n",
      "Testing accuracy_score is:- 82.6 \n",
      "\n",
      "\n",
      "At random_state state 26 The model performs very well\n",
      "At random_state state:- 26\n",
      "Training accuracy_score is:- 82.5\n",
      "Testing accuracy_score is:- 82.5 \n",
      "\n",
      "\n",
      "At random_state state 29 The model performs very well\n",
      "At random_state state:- 29\n",
      "Training accuracy_score is:- 82.5\n",
      "Testing accuracy_score is:- 82.5 \n",
      "\n",
      "\n",
      "At random_state state 31 The model performs very well\n",
      "At random_state state:- 31\n",
      "Training accuracy_score is:- 82.5\n",
      "Testing accuracy_score is:- 82.5 \n",
      "\n",
      "\n",
      "At random_state state 57 The model performs very well\n",
      "At random_state state:- 57\n",
      "Training accuracy_score is:- 82.6\n",
      "Testing accuracy_score is:- 82.6 \n",
      "\n",
      "\n",
      "At random_state state 71 The model performs very well\n",
      "At random_state state:- 71\n",
      "Training accuracy_score is:- 82.5\n",
      "Testing accuracy_score is:- 82.5 \n",
      "\n",
      "\n",
      "At random_state state 75 The model performs very well\n",
      "At random_state state:- 75\n",
      "Training accuracy_score is:- 82.5\n",
      "Testing accuracy_score is:- 82.5 \n",
      "\n",
      "\n",
      "At random_state state 91 The model performs very well\n",
      "At random_state state:- 91\n",
      "Training accuracy_score is:- 82.5\n",
      "Testing accuracy_score is:- 82.5 \n",
      "\n",
      "\n",
      "At random_state state 94 The model performs very well\n",
      "At random_state state:- 94\n",
      "Training accuracy_score is:- 82.5\n",
      "Testing accuracy_score is:- 82.5 \n",
      "\n",
      "\n",
      "At random_state state 96 The model performs very well\n",
      "At random_state state:- 96\n",
      "Training accuracy_score is:- 82.5\n",
      "Testing accuracy_score is:- 82.5 \n",
      "\n",
      "\n",
      "At random_state state 140 The model performs very well\n",
      "At random_state state:- 140\n",
      "Training accuracy_score is:- 82.5\n",
      "Testing accuracy_score is:- 82.5 \n",
      "\n",
      "\n",
      "At random_state state 151 The model performs very well\n",
      "At random_state state:- 151\n",
      "Training accuracy_score is:- 82.5\n",
      "Testing accuracy_score is:- 82.5 \n",
      "\n",
      "\n",
      "At random_state state 175 The model performs very well\n",
      "At random_state state:- 175\n",
      "Training accuracy_score is:- 82.5\n",
      "Testing accuracy_score is:- 82.5 \n",
      "\n",
      "\n",
      "At random_state state 193 The model performs very well\n",
      "At random_state state:- 193\n",
      "Training accuracy_score is:- 82.5\n",
      "Testing accuracy_score is:- 82.5 \n",
      "\n",
      "\n",
      "At random_state state 210 The model performs very well\n",
      "At random_state state:- 210\n",
      "Training accuracy_score is:- 82.5\n",
      "Testing accuracy_score is:- 82.5 \n",
      "\n",
      "\n",
      "At random_state state 219 The model performs very well\n",
      "At random_state state:- 219\n",
      "Training accuracy_score is:- 82.6\n",
      "Testing accuracy_score is:- 82.6 \n",
      "\n",
      "\n",
      "At random_state state 226 The model performs very well\n",
      "At random_state state:- 226\n",
      "Training accuracy_score is:- 82.6\n",
      "Testing accuracy_score is:- 82.6 \n",
      "\n",
      "\n",
      "At random_state state 231 The model performs very well\n",
      "At random_state state:- 231\n",
      "Training accuracy_score is:- 82.5\n",
      "Testing accuracy_score is:- 82.5 \n",
      "\n",
      "\n",
      "At random_state state 236 The model performs very well\n",
      "At random_state state:- 236\n",
      "Training accuracy_score is:- 82.5\n",
      "Testing accuracy_score is:- 82.5 \n",
      "\n",
      "\n",
      "At random_state state 251 The model performs very well\n",
      "At random_state state:- 251\n",
      "Training accuracy_score is:- 82.5\n",
      "Testing accuracy_score is:- 82.5 \n",
      "\n",
      "\n",
      "At random_state state 261 The model performs very well\n",
      "At random_state state:- 261\n",
      "Training accuracy_score is:- 82.6\n",
      "Testing accuracy_score is:- 82.6 \n",
      "\n",
      "\n",
      "At random_state state 280 The model performs very well\n",
      "At random_state state:- 280\n",
      "Training accuracy_score is:- 82.5\n",
      "Testing accuracy_score is:- 82.5 \n",
      "\n",
      "\n",
      "At random_state state 296 The model performs very well\n",
      "At random_state state:- 296\n",
      "Training accuracy_score is:- 82.5\n",
      "Testing accuracy_score is:- 82.5 \n",
      "\n",
      "\n",
      "At random_state state 304 The model performs very well\n",
      "At random_state state:- 304\n",
      "Training accuracy_score is:- 82.5\n",
      "Testing accuracy_score is:- 82.5 \n",
      "\n",
      "\n",
      "At random_state state 309 The model performs very well\n",
      "At random_state state:- 309\n",
      "Training accuracy_score is:- 82.5\n",
      "Testing accuracy_score is:- 82.5 \n",
      "\n",
      "\n",
      "At random_state state 312 The model performs very well\n",
      "At random_state state:- 312\n",
      "Training accuracy_score is:- 82.5\n",
      "Testing accuracy_score is:- 82.5 \n",
      "\n",
      "\n",
      "At random_state state 319 The model performs very well\n",
      "At random_state state:- 319\n",
      "Training accuracy_score is:- 82.5\n",
      "Testing accuracy_score is:- 82.5 \n",
      "\n",
      "\n",
      "At random_state state 320 The model performs very well\n",
      "At random_state state:- 320\n",
      "Training accuracy_score is:- 82.5\n",
      "Testing accuracy_score is:- 82.5 \n",
      "\n",
      "\n",
      "At random_state state 328 The model performs very well\n",
      "At random_state state:- 328\n",
      "Training accuracy_score is:- 82.5\n",
      "Testing accuracy_score is:- 82.5 \n",
      "\n",
      "\n",
      "At random_state state 332 The model performs very well\n",
      "At random_state state:- 332\n",
      "Training accuracy_score is:- 82.6\n",
      "Testing accuracy_score is:- 82.6 \n",
      "\n",
      "\n",
      "At random_state state 345 The model performs very well\n",
      "At random_state state:- 345\n",
      "Training accuracy_score is:- 82.5\n",
      "Testing accuracy_score is:- 82.5 \n",
      "\n",
      "\n",
      "At random_state state 361 The model performs very well\n",
      "At random_state state:- 361\n",
      "Training accuracy_score is:- 82.5\n",
      "Testing accuracy_score is:- 82.5 \n",
      "\n",
      "\n",
      "At random_state state 367 The model performs very well\n",
      "At random_state state:- 367\n",
      "Training accuracy_score is:- 82.6\n",
      "Testing accuracy_score is:- 82.6 \n",
      "\n",
      "\n",
      "At random_state state 377 The model performs very well\n",
      "At random_state state:- 377\n",
      "Training accuracy_score is:- 82.5\n",
      "Testing accuracy_score is:- 82.5 \n",
      "\n",
      "\n"
     ]
    }
   ],
   "source": [
    "#Splitting the dataframe:\n",
    "for i in range(0,400):\n",
    "    X_train,X_test,y_train,y_test=train_test_split(Scaled_X,y,random_state=i,test_size=0.25)\n",
    "    LR.fit(X_train, y_train)\n",
    "    pred_train=LR.predict(X_train)\n",
    "    pred_test=LR.predict(X_test)\n",
    "    if round(accuracy_score(y_train, pred_train)*100,1)==round(accuracy_score(y_test,pred_test)*100,1):\n",
    "        print(\"At random_state state\",i,\"The model performs very well\")\n",
    "        print(\"At random_state state:-\",i)\n",
    "        print(\"Training accuracy_score is:-\", round(accuracy_score(y_train,pred_train)*100,1))\n",
    "        print(\"Testing accuracy_score is:-\", round(accuracy_score(y_test,pred_test)*100,1), '\\n\\n')"
   ]
  },
  {
   "cell_type": "code",
   "execution_count": 305,
   "id": "6654d10e",
   "metadata": {},
   "outputs": [],
   "source": [
    "X_train, X_test, y_train, y_test  = train_test_split(X,y, test_size=0.25, random_state=14)"
   ]
  },
  {
   "cell_type": "code",
   "execution_count": 306,
   "id": "fd6d1a57",
   "metadata": {},
   "outputs": [
    {
     "name": "stdout",
     "output_type": "stream",
     "text": [
      "Model is created\n"
     ]
    }
   ],
   "source": [
    "lr=LogisticRegression() #Logistic Regression\n",
    "knn=KNeighborsClassifier() #KNearest Neibour \n",
    "dt=DecisionTreeClassifier() # Deciesion Tree\n",
    "rf=RandomForestClassifier() # Random Forest\n",
    "adb=AdaBoostClassifier()    # Adaboost Classifier \n",
    "svm=SVC()              # support vactor classifier        \n",
    "gdboost=GradientBoostingClassifier() #Gradient Boosting Classifier \n",
    " \n",
    "print(\"Model is created\")"
   ]
  },
  {
   "cell_type": "code",
   "execution_count": 307,
   "id": "93297a78",
   "metadata": {},
   "outputs": [
    {
     "name": "stdout",
     "output_type": "stream",
     "text": [
      "Model is trained\n"
     ]
    }
   ],
   "source": [
    "lr.fit(X_train, y_train)\n",
    "knn.fit(X_train,y_train)\n",
    "dt.fit(X_train,y_train)\n",
    "rf.fit(X_train,y_train)\n",
    "adb.fit(X_train,y_train)\n",
    "svm.fit(X_train,y_train)\n",
    "gdboost.fit(X_train,y_train)\n",
    "print(\"Model is trained\")"
   ]
  },
  {
   "cell_type": "code",
   "execution_count": 308,
   "id": "bd0460e8",
   "metadata": {},
   "outputs": [
    {
     "name": "stdout",
     "output_type": "stream",
     "text": [
      "Lr classification score 0.7858312858312858\n",
      "knn classification score 0.8327190827190827\n",
      "dt classification score 1.0\n",
      "rf classification score 1.0\n",
      "adb classification score 0.8605241605241605\n",
      "svm classification score 0.795004095004095\n",
      "gdboost classification score 0.8694922194922194\n"
     ]
    }
   ],
   "source": [
    "print(\"Lr classification score\",lr.score(X_train,y_train))\n",
    "print(\"knn classification score\",knn.score(X_train,y_train))\n",
    "print(\"dt classification score\",dt.score(X_train,y_train))\n",
    "print(\"rf classification score\",rf.score(X_train,y_train))\n",
    "print(\"adb classification score\",adb.score(X_train,y_train))\n",
    "print(\"svm classification score\",svm.score(X_train,y_train))\n",
    "print(\"gdboost classification score\",gdboost.score(X_train,y_train))\n"
   ]
  },
  {
   "cell_type": "code",
   "execution_count": 309,
   "id": "57b6f5cb",
   "metadata": {},
   "outputs": [],
   "source": [
    "lr_yprad = lr.predict(X_test)\n",
    "knn_yprad = knn.predict(X_test)\n",
    "dt_yprad = dt.predict(X_test)\n",
    "rf_yprad = rf.predict(X_test)\n",
    "adb_yprad = adb.predict(X_test)\n",
    "svm_yprad = svm.predict(X_test)\n",
    "gdboost_yprad = gdboost.predict(X_test)\n"
   ]
  },
  {
   "cell_type": "code",
   "execution_count": 310,
   "id": "a1d15213",
   "metadata": {},
   "outputs": [],
   "source": [
    "#classification report\n",
    "lr_yprad = lr.predict(X_test)\n",
    "knn_yprad = knn.predict(X_test)\n",
    "dt_yprad = dt.predict(X_test)\n",
    "rf_yprad = rf.predict(X_test)\n",
    "adb_yprad = adb.predict(X_test)\n",
    "svm_yprad = svm.predict(X_test)\n",
    "gdboost_yprad = gdboost.predict(X_test)\n"
   ]
  },
  {
   "cell_type": "code",
   "execution_count": 313,
   "id": "056fd2b7",
   "metadata": {},
   "outputs": [
    {
     "name": "stdout",
     "output_type": "stream",
     "text": [
      "0.6165810932129578\n",
      "0.6214718253876754\n",
      "0.7471698033682446\n",
      "0.7773718317595074\n",
      "0.7670946702973711\n",
      "0.5736206905528544\n",
      "0.769443322555764\n"
     ]
    }
   ],
   "source": [
    "from sklearn.metrics import roc_curve, auc, roc_auc_score\n",
    "from sklearn.metrics import plot_roc_curve\n",
    "#importing the ric and auc from sklearn and predect the x_test and \n",
    "#checking the roc_auc_score\n",
    "print(roc_auc_score(y_test,lr.predict(X_test)))\n",
    "print(roc_auc_score(y_test,knn.predict(X_test)))\n",
    "print(roc_auc_score(y_test,dt.predict(X_test)))\n",
    "print(roc_auc_score(y_test,rf.predict(X_test)))\n",
    "print(roc_auc_score(y_test,adb.predict(X_test)))\n",
    "print(roc_auc_score(y_test,svm.predict(X_test)))\n",
    "print(roc_auc_score(y_test,gdboost.predict(X_test)))\n"
   ]
  },
  {
   "cell_type": "code",
   "execution_count": 315,
   "id": "8dab4be3",
   "metadata": {},
   "outputs": [
    {
     "data": {
      "text/plain": [
       "<matplotlib.legend.Legend at 0x18ea9a061f0>"
      ]
     },
     "execution_count": 315,
     "metadata": {},
     "output_type": "execute_result"
    },
    {
     "data": {
      "image/png": "[encoded data removed]",
      "text/plain": [
       "<Figure size 432x288 with 1 Axes>"
      ]
     },
     "metadata": {
      "needs_background": "light"
     },
     "output_type": "display_data"
    }
   ],
   "source": [
    "#lets find roc curve to check best fittted model\n",
    "disp = plot_roc_curve(dt,X_test,y_test)\n",
    "plot_roc_curve(lr,X_test,y_test,ax=disp.ax_)  # here ax_ for axis with confustion matrics\n",
    "plot_roc_curve(knn,X_test,y_test,ax=disp.ax_)\n",
    "plot_roc_curve(dt,X_test,y_test,ax=disp.ax_)\n",
    "plot_roc_curve(rf,X_test,y_test,ax=disp.ax_)\n",
    "plot_roc_curve(adb,X_test,y_test,ax=disp.ax_)\n",
    "plot_roc_curve(svm,X_test,y_test,ax=disp.ax_)\n",
    "plot_roc_curve(gdboost,X_test,y_test,ax=disp.ax_)\n",
    "plt.legend(prop = {'size':11}, loc ='lower right')"
   ]
  },
  {
   "cell_type": "code",
   "execution_count": 316,
   "id": "d23c29ef",
   "metadata": {},
   "outputs": [
    {
     "data": {
      "text/plain": [
       "KFold(n_splits=4, random_state=None, shuffle=True)"
      ]
     },
     "execution_count": 316,
     "metadata": {},
     "output_type": "execute_result"
    }
   ],
   "source": [
    " CROSS VALIDATION\n",
    "from sklearn.model_selection import KFold,cross_val_score\n",
    "k_f = KFold(n_splits=4,shuffle=True) #from above data\n",
    "k_f"
   ]
  },
  {
   "cell_type": "code",
   "execution_count": 349,
   "id": "79230d5b",
   "metadata": {},
   "outputs": [
    {
     "name": "stdout",
     "output_type": "stream",
     "text": [
      "Mean of Cross validation score for gdboost model => 0.8638208075901046\n"
     ]
    }
   ],
   "source": [
    "#GDB BOOST MODEL FOR CROSS VALIDATION\n",
    "print(\"Mean of Cross validation score for gdboost model\",\"=>\",cross_val_score(gdboost,X,y,cv=6).mean())"
   ]
  },
  {
   "cell_type": "code",
   "execution_count": 350,
   "id": "c5668af4",
   "metadata": {},
   "outputs": [
    {
     "name": "stdout",
     "output_type": "stream",
     "text": [
      "Mean of Cross validation score for Adaboost model => 0.8595826707565593\n"
     ]
    }
   ],
   "source": [
    "#Ada Boost\n",
    "print(\"Mean of Cross validation score for Adaboost model\",\"=>\",cross_val_score(adb,X,y,cv=6).mean())"
   ]
  },
  {
   "cell_type": "code",
   "execution_count": 351,
   "id": "1b6175cc",
   "metadata": {},
   "outputs": [
    {
     "name": "stdout",
     "output_type": "stream",
     "text": [
      "Mean of Cross validation score for Random classifier => 0.8596132059438149\n"
     ]
    }
   ],
   "source": [
    "#Random classifier\n",
    "print(\"Mean of Cross validation score for Random classifier\",\"=>\",cross_val_score(rf,X,y,cv=6).mean())"
   ]
  },
  {
   "cell_type": "code",
   "execution_count": 318,
   "id": "2465a52c",
   "metadata": {},
   "outputs": [
    {
     "data": {
      "text/plain": [
       "dict_keys(['ccp_alpha', 'criterion', 'init', 'learning_rate', 'loss', 'max_depth', 'max_features', 'max_leaf_nodes', 'min_impurity_decrease', 'min_samples_leaf', 'min_samples_split', 'min_weight_fraction_leaf', 'n_estimators', 'n_iter_no_change', 'random_state', 'subsample', 'tol', 'validation_fraction', 'verbose', 'warm_start'])"
      ]
     },
     "execution_count": 318,
     "metadata": {},
     "output_type": "execute_result"
    }
   ],
   "source": [
    "gdboost.get_params().keys() "
   ]
  },
  {
   "cell_type": "code",
   "execution_count": 320,
   "id": "8a99a47d",
   "metadata": {},
   "outputs": [],
   "source": [
    "parm_grid  = {'max_depth' : [3,4],\n",
    "              'max_leaf_nodes' : [4],\n",
    "              'learning_rate': [0.1],\n",
    "              'random_state' : [4,5]}"
   ]
  },
  {
   "cell_type": "code",
   "execution_count": 327,
   "id": "9bbd6150",
   "metadata": {},
   "outputs": [],
   "source": [
    "gridsearch = GridSearchCV(gdboost, param_grid = parm_grid , cv=3)"
   ]
  },
  {
   "cell_type": "code",
   "execution_count": 328,
   "id": "40cefda4",
   "metadata": {},
   "outputs": [
    {
     "data": {
      "text/html": [
       "<style>#sk-container-id-1 {color: black;background-color: white;}#sk-container-id-1 pre{padding: 0;}#sk-container-id-1 div.sk-toggleable {background-color: white;}#sk-container-id-1 label.sk-toggleable__label {cursor: pointer;display: block;width: 100%;margin-bottom: 0;padding: 0.3em;box-sizing: border-box;text-align: center;}#sk-container-id-1 label.sk-toggleable__label-arrow:before {content: \"▸\";float: left;margin-right: 0.25em;color: #696969;}#sk-container-id-1 label.sk-toggleable__label-arrow:hover:before {color: black;}#sk-container-id-1 div.sk-estimator:hover label.sk-toggleable__label-arrow:before {color: black;}#sk-container-id-1 div.sk-toggleable__content {max-height: 0;max-width: 0;overflow: hidden;text-align: left;background-color: #f0f8ff;}#sk-container-id-1 div.sk-toggleable__content pre {margin: 0.2em;color: black;border-radius: 0.25em;background-color: #f0f8ff;}#sk-container-id-1 input.sk-toggleable__control:checked~div.sk-toggleable__content {max-height: 200px;max-width: 100%;overflow: auto;}#sk-container-id-1 input.sk-toggleable__control:checked~label.sk-toggleable__label-arrow:before {content: \"▾\";}#sk-container-id-1 div.sk-estimator input.sk-toggleable__control:checked~label.sk-toggleable__label {background-color: #d4ebff;}#sk-container-id-1 div.sk-label input.sk-toggleable__control:checked~label.sk-toggleable__label {background-color: #d4ebff;}#sk-container-id-1 input.sk-hidden--visually {border: 0;clip: rect(1px 1px 1px 1px);clip: rect(1px, 1px, 1px, 1px);height: 1px;margin: -1px;overflow: hidden;padding: 0;position: absolute;width: 1px;}#sk-container-id-1 div.sk-estimator {font-family: monospace;background-color: #f0f8ff;border: 1px dotted black;border-radius: 0.25em;box-sizing: border-box;margin-bottom: 0.5em;}#sk-container-id-1 div.sk-estimator:hover {background-color: #d4ebff;}#sk-container-id-1 div.sk-parallel-item::after {content: \"\";width: 100%;border-bottom: 1px solid gray;flex-grow: 1;}#sk-container-id-1 div.sk-label:hover label.sk-toggleable__label {background-color: #d4ebff;}#sk-container-id-1 div.sk-serial::before {content: \"\";position: absolute;border-left: 1px solid gray;box-sizing: border-box;top: 0;bottom: 0;left: 50%;z-index: 0;}#sk-container-id-1 div.sk-serial {display: flex;flex-direction: column;align-items: center;background-color: white;padding-right: 0.2em;padding-left: 0.2em;position: relative;}#sk-container-id-1 div.sk-item {position: relative;z-index: 1;}#sk-container-id-1 div.sk-parallel {display: flex;align-items: stretch;justify-content: center;background-color: white;position: relative;}#sk-container-id-1 div.sk-item::before, #sk-container-id-1 div.sk-parallel-item::before {content: \"\";position: absolute;border-left: 1px solid gray;box-sizing: border-box;top: 0;bottom: 0;left: 50%;z-index: -1;}#sk-container-id-1 div.sk-parallel-item {display: flex;flex-direction: column;z-index: 1;position: relative;background-color: white;}#sk-container-id-1 div.sk-parallel-item:first-child::after {align-self: flex-end;width: 50%;}#sk-container-id-1 div.sk-parallel-item:last-child::after {align-self: flex-start;width: 50%;}#sk-container-id-1 div.sk-parallel-item:only-child::after {width: 0;}#sk-container-id-1 div.sk-dashed-wrapped {border: 1px dashed gray;margin: 0 0.4em 0.5em 0.4em;box-sizing: border-box;padding-bottom: 0.4em;background-color: white;}#sk-container-id-1 div.sk-label label {font-family: monospace;font-weight: bold;display: inline-block;line-height: 1.2em;}#sk-container-id-1 div.sk-label-container {text-align: center;}#sk-container-id-1 div.sk-container {/* jupyter's `normalize.less` sets `[hidden] { display: none; }` but bootstrap.min.css set `[hidden] { display: none !important; }` so we also need the `!important` here to be able to override the default hidden behavior on the sphinx rendered scikit-learn.org. See: https://github.com/scikit-learn/scikit-learn/issues/21755 */display: inline-block !important;position: relative;}#sk-container-id-1 div.sk-text-repr-fallback {display: none;}</style><div id=\"sk-container-id-1\" class=\"sk-top-container\"><div class=\"sk-text-repr-fallback\"><pre>GridSearchCV(cv=3, estimator=GradientBoostingClassifier(),\n",
       "             param_grid={&#x27;learning_rate&#x27;: [0.1], &#x27;max_depth&#x27;: [3, 4],\n",
       "                         &#x27;max_leaf_nodes&#x27;: [4], &#x27;random_state&#x27;: [4, 5]})</pre><b>In a Jupyter environment, please rerun this cell to show the HTML representation or trust the notebook. <br />On GitHub, the HTML representation is unable to render, please try loading this page with nbviewer.org.</b></div><div class=\"sk-container\" hidden><div class=\"sk-item sk-dashed-wrapped\"><div class=\"sk-label-container\"><div class=\"sk-label sk-toggleable\"><input class=\"sk-toggleable__control sk-hidden--visually\" id=\"sk-estimator-id-1\" type=\"checkbox\" ><label for=\"sk-estimator-id-1\" class=\"sk-toggleable__label sk-toggleable__label-arrow\">GridSearchCV</label><div class=\"sk-toggleable__content\"><pre>GridSearchCV(cv=3, estimator=GradientBoostingClassifier(),\n",
       "             param_grid={&#x27;learning_rate&#x27;: [0.1], &#x27;max_depth&#x27;: [3, 4],\n",
       "                         &#x27;max_leaf_nodes&#x27;: [4], &#x27;random_state&#x27;: [4, 5]})</pre></div></div></div><div class=\"sk-parallel\"><div class=\"sk-parallel-item\"><div class=\"sk-item\"><div class=\"sk-label-container\"><div class=\"sk-label sk-toggleable\"><input class=\"sk-toggleable__control sk-hidden--visually\" id=\"sk-estimator-id-2\" type=\"checkbox\" ><label for=\"sk-estimator-id-2\" class=\"sk-toggleable__label sk-toggleable__label-arrow\">estimator: GradientBoostingClassifier</label><div class=\"sk-toggleable__content\"><pre>GradientBoostingClassifier()</pre></div></div></div><div class=\"sk-serial\"><div class=\"sk-item\"><div class=\"sk-estimator sk-toggleable\"><input class=\"sk-toggleable__control sk-hidden--visually\" id=\"sk-estimator-id-3\" type=\"checkbox\" ><label for=\"sk-estimator-id-3\" class=\"sk-toggleable__label sk-toggleable__label-arrow\">GradientBoostingClassifier</label><div class=\"sk-toggleable__content\"><pre>GradientBoostingClassifier()</pre></div></div></div></div></div></div></div></div></div></div>"
      ],
      "text/plain": [
       "GridSearchCV(cv=3, estimator=GradientBoostingClassifier(),\n",
       "             param_grid={'learning_rate': [0.1], 'max_depth': [3, 4],\n",
       "                         'max_leaf_nodes': [4], 'random_state': [4, 5]})"
      ]
     },
     "execution_count": 328,
     "metadata": {},
     "output_type": "execute_result"
    }
   ],
   "source": [
    "#fit the model using given paramters\n",
    "gridsearch.fit(X_train,y_train)"
   ]
  },
  {
   "cell_type": "code",
   "execution_count": 329,
   "id": "187a3b8c",
   "metadata": {},
   "outputs": [
    {
     "data": {
      "text/plain": [
       "{'learning_rate': 0.1, 'max_depth': 3, 'max_leaf_nodes': 4, 'random_state': 4}"
      ]
     },
     "execution_count": 329,
     "metadata": {},
     "output_type": "execute_result"
    }
   ],
   "source": [
    "gridsearch.best_params_\n",
    "#printing the best parameters "
   ]
  },
  {
   "cell_type": "code",
   "execution_count": 332,
   "id": "cf8750fb",
   "metadata": {},
   "outputs": [],
   "source": [
    "gdboost_tuning=GradientBoostingClassifier(learning_rate=0.1,max_depth=3,max_leaf_nodes=4,random_state=4)\n",
    "#supplying best parameters to our model"
   ]
  },
  {
   "cell_type": "code",
   "execution_count": 333,
   "id": "b5ca5834",
   "metadata": {},
   "outputs": [
    {
     "data": {
      "text/html": [
       "<style>#sk-container-id-2 {color: black;background-color: white;}#sk-container-id-2 pre{padding: 0;}#sk-container-id-2 div.sk-toggleable {background-color: white;}#sk-container-id-2 label.sk-toggleable__label {cursor: pointer;display: block;width: 100%;margin-bottom: 0;padding: 0.3em;box-sizing: border-box;text-align: center;}#sk-container-id-2 label.sk-toggleable__label-arrow:before {content: \"▸\";float: left;margin-right: 0.25em;color: #696969;}#sk-container-id-2 label.sk-toggleable__label-arrow:hover:before {color: black;}#sk-container-id-2 div.sk-estimator:hover label.sk-toggleable__label-arrow:before {color: black;}#sk-container-id-2 div.sk-toggleable__content {max-height: 0;max-width: 0;overflow: hidden;text-align: left;background-color: #f0f8ff;}#sk-container-id-2 div.sk-toggleable__content pre {margin: 0.2em;color: black;border-radius: 0.25em;background-color: #f0f8ff;}#sk-container-id-2 input.sk-toggleable__control:checked~div.sk-toggleable__content {max-height: 200px;max-width: 100%;overflow: auto;}#sk-container-id-2 input.sk-toggleable__control:checked~label.sk-toggleable__label-arrow:before {content: \"▾\";}#sk-container-id-2 div.sk-estimator input.sk-toggleable__control:checked~label.sk-toggleable__label {background-color: #d4ebff;}#sk-container-id-2 div.sk-label input.sk-toggleable__control:checked~label.sk-toggleable__label {background-color: #d4ebff;}#sk-container-id-2 input.sk-hidden--visually {border: 0;clip: rect(1px 1px 1px 1px);clip: rect(1px, 1px, 1px, 1px);height: 1px;margin: -1px;overflow: hidden;padding: 0;position: absolute;width: 1px;}#sk-container-id-2 div.sk-estimator {font-family: monospace;background-color: #f0f8ff;border: 1px dotted black;border-radius: 0.25em;box-sizing: border-box;margin-bottom: 0.5em;}#sk-container-id-2 div.sk-estimator:hover {background-color: #d4ebff;}#sk-container-id-2 div.sk-parallel-item::after {content: \"\";width: 100%;border-bottom: 1px solid gray;flex-grow: 1;}#sk-container-id-2 div.sk-label:hover label.sk-toggleable__label {background-color: #d4ebff;}#sk-container-id-2 div.sk-serial::before {content: \"\";position: absolute;border-left: 1px solid gray;box-sizing: border-box;top: 0;bottom: 0;left: 50%;z-index: 0;}#sk-container-id-2 div.sk-serial {display: flex;flex-direction: column;align-items: center;background-color: white;padding-right: 0.2em;padding-left: 0.2em;position: relative;}#sk-container-id-2 div.sk-item {position: relative;z-index: 1;}#sk-container-id-2 div.sk-parallel {display: flex;align-items: stretch;justify-content: center;background-color: white;position: relative;}#sk-container-id-2 div.sk-item::before, #sk-container-id-2 div.sk-parallel-item::before {content: \"\";position: absolute;border-left: 1px solid gray;box-sizing: border-box;top: 0;bottom: 0;left: 50%;z-index: -1;}#sk-container-id-2 div.sk-parallel-item {display: flex;flex-direction: column;z-index: 1;position: relative;background-color: white;}#sk-container-id-2 div.sk-parallel-item:first-child::after {align-self: flex-end;width: 50%;}#sk-container-id-2 div.sk-parallel-item:last-child::after {align-self: flex-start;width: 50%;}#sk-container-id-2 div.sk-parallel-item:only-child::after {width: 0;}#sk-container-id-2 div.sk-dashed-wrapped {border: 1px dashed gray;margin: 0 0.4em 0.5em 0.4em;box-sizing: border-box;padding-bottom: 0.4em;background-color: white;}#sk-container-id-2 div.sk-label label {font-family: monospace;font-weight: bold;display: inline-block;line-height: 1.2em;}#sk-container-id-2 div.sk-label-container {text-align: center;}#sk-container-id-2 div.sk-container {/* jupyter's `normalize.less` sets `[hidden] { display: none; }` but bootstrap.min.css set `[hidden] { display: none !important; }` so we also need the `!important` here to be able to override the default hidden behavior on the sphinx rendered scikit-learn.org. See: https://github.com/scikit-learn/scikit-learn/issues/21755 */display: inline-block !important;position: relative;}#sk-container-id-2 div.sk-text-repr-fallback {display: none;}</style><div id=\"sk-container-id-2\" class=\"sk-top-container\"><div class=\"sk-text-repr-fallback\"><pre>GradientBoostingClassifier(max_leaf_nodes=4, random_state=4)</pre><b>In a Jupyter environment, please rerun this cell to show the HTML representation or trust the notebook. <br />On GitHub, the HTML representation is unable to render, please try loading this page with nbviewer.org.</b></div><div class=\"sk-container\" hidden><div class=\"sk-item\"><div class=\"sk-estimator sk-toggleable\"><input class=\"sk-toggleable__control sk-hidden--visually\" id=\"sk-estimator-id-4\" type=\"checkbox\" checked><label for=\"sk-estimator-id-4\" class=\"sk-toggleable__label sk-toggleable__label-arrow\">GradientBoostingClassifier</label><div class=\"sk-toggleable__content\"><pre>GradientBoostingClassifier(max_leaf_nodes=4, random_state=4)</pre></div></div></div></div></div>"
      ],
      "text/plain": [
       "GradientBoostingClassifier(max_leaf_nodes=4, random_state=4)"
      ]
     },
     "execution_count": 333,
     "metadata": {},
     "output_type": "execute_result"
    }
   ],
   "source": [
    "#supplying best parameters to our model\n",
    "gdboost_tuning.fit(X_train,y_train)"
   ]
  },
  {
   "cell_type": "code",
   "execution_count": 343,
   "id": "c669499e",
   "metadata": {},
   "outputs": [],
   "source": [
    "#predicting the values using test data\n",
    "gdboost_tuning_yprad = gdboost_tuning.predict(X_test)"
   ]
  },
  {
   "cell_type": "code",
   "execution_count": 344,
   "id": "a41777e3",
   "metadata": {},
   "outputs": [
    {
     "name": "stdout",
     "output_type": "stream",
     "text": [
      " xgboost classification_report \n",
      "               precision    recall  f1-score   support\n",
      "\n",
      "           0       0.87      0.95      0.91      6183\n",
      "           1       0.77      0.57      0.65      1957\n",
      "\n",
      "    accuracy                           0.86      8140\n",
      "   macro avg       0.82      0.76      0.78      8140\n",
      "weighted avg       0.85      0.86      0.85      8140\n",
      "\n"
     ]
    }
   ],
   "source": [
    "#printing the classification report\n",
    "gdboost_report = classification_report(y_test,gdboost_tuning_yprad)\n",
    "print(\" xgboost classification_report\" ,'\\n',gdboost_report)"
   ]
  },
  {
   "cell_type": "code",
   "execution_count": 345,
   "id": "c8801517",
   "metadata": {},
   "outputs": [
    {
     "data": {
      "text/plain": [
       "0.8557739557739558"
      ]
     },
     "execution_count": 345,
     "metadata": {},
     "output_type": "execute_result"
    }
   ],
   "source": [
    "\n",
    "# Check the accuracy\n",
    "accuracy_score(y_test,gdboost_tuning_yprad) #it is still giving same value, no increase"
   ]
  },
  {
   "cell_type": "code",
   "execution_count": 346,
   "id": "da079842",
   "metadata": {},
   "outputs": [],
   "source": [
    "from sklearn.model_selection import GridSearchCV\n",
    "grid_param = {\n",
    "    'max_depth':range(4,8),\n",
    "    'min_samples_split': range(2,8,2),\n",
    "'learning_rate': np.arange(0.1,0.3) #it can go upto 1\n",
    "}"
   ]
  },
  {
   "cell_type": "code",
   "execution_count": 347,
   "id": "1972d46f",
   "metadata": {},
   "outputs": [
    {
     "data": {
      "text/html": [
       "<style>#sk-container-id-3 {color: black;background-color: white;}#sk-container-id-3 pre{padding: 0;}#sk-container-id-3 div.sk-toggleable {background-color: white;}#sk-container-id-3 label.sk-toggleable__label {cursor: pointer;display: block;width: 100%;margin-bottom: 0;padding: 0.3em;box-sizing: border-box;text-align: center;}#sk-container-id-3 label.sk-toggleable__label-arrow:before {content: \"▸\";float: left;margin-right: 0.25em;color: #696969;}#sk-container-id-3 label.sk-toggleable__label-arrow:hover:before {color: black;}#sk-container-id-3 div.sk-estimator:hover label.sk-toggleable__label-arrow:before {color: black;}#sk-container-id-3 div.sk-toggleable__content {max-height: 0;max-width: 0;overflow: hidden;text-align: left;background-color: #f0f8ff;}#sk-container-id-3 div.sk-toggleable__content pre {margin: 0.2em;color: black;border-radius: 0.25em;background-color: #f0f8ff;}#sk-container-id-3 input.sk-toggleable__control:checked~div.sk-toggleable__content {max-height: 200px;max-width: 100%;overflow: auto;}#sk-container-id-3 input.sk-toggleable__control:checked~label.sk-toggleable__label-arrow:before {content: \"▾\";}#sk-container-id-3 div.sk-estimator input.sk-toggleable__control:checked~label.sk-toggleable__label {background-color: #d4ebff;}#sk-container-id-3 div.sk-label input.sk-toggleable__control:checked~label.sk-toggleable__label {background-color: #d4ebff;}#sk-container-id-3 input.sk-hidden--visually {border: 0;clip: rect(1px 1px 1px 1px);clip: rect(1px, 1px, 1px, 1px);height: 1px;margin: -1px;overflow: hidden;padding: 0;position: absolute;width: 1px;}#sk-container-id-3 div.sk-estimator {font-family: monospace;background-color: #f0f8ff;border: 1px dotted black;border-radius: 0.25em;box-sizing: border-box;margin-bottom: 0.5em;}#sk-container-id-3 div.sk-estimator:hover {background-color: #d4ebff;}#sk-container-id-3 div.sk-parallel-item::after {content: \"\";width: 100%;border-bottom: 1px solid gray;flex-grow: 1;}#sk-container-id-3 div.sk-label:hover label.sk-toggleable__label {background-color: #d4ebff;}#sk-container-id-3 div.sk-serial::before {content: \"\";position: absolute;border-left: 1px solid gray;box-sizing: border-box;top: 0;bottom: 0;left: 50%;z-index: 0;}#sk-container-id-3 div.sk-serial {display: flex;flex-direction: column;align-items: center;background-color: white;padding-right: 0.2em;padding-left: 0.2em;position: relative;}#sk-container-id-3 div.sk-item {position: relative;z-index: 1;}#sk-container-id-3 div.sk-parallel {display: flex;align-items: stretch;justify-content: center;background-color: white;position: relative;}#sk-container-id-3 div.sk-item::before, #sk-container-id-3 div.sk-parallel-item::before {content: \"\";position: absolute;border-left: 1px solid gray;box-sizing: border-box;top: 0;bottom: 0;left: 50%;z-index: -1;}#sk-container-id-3 div.sk-parallel-item {display: flex;flex-direction: column;z-index: 1;position: relative;background-color: white;}#sk-container-id-3 div.sk-parallel-item:first-child::after {align-self: flex-end;width: 50%;}#sk-container-id-3 div.sk-parallel-item:last-child::after {align-self: flex-start;width: 50%;}#sk-container-id-3 div.sk-parallel-item:only-child::after {width: 0;}#sk-container-id-3 div.sk-dashed-wrapped {border: 1px dashed gray;margin: 0 0.4em 0.5em 0.4em;box-sizing: border-box;padding-bottom: 0.4em;background-color: white;}#sk-container-id-3 div.sk-label label {font-family: monospace;font-weight: bold;display: inline-block;line-height: 1.2em;}#sk-container-id-3 div.sk-label-container {text-align: center;}#sk-container-id-3 div.sk-container {/* jupyter's `normalize.less` sets `[hidden] { display: none; }` but bootstrap.min.css set `[hidden] { display: none !important; }` so we also need the `!important` here to be able to override the default hidden behavior on the sphinx rendered scikit-learn.org. See: https://github.com/scikit-learn/scikit-learn/issues/21755 */display: inline-block !important;position: relative;}#sk-container-id-3 div.sk-text-repr-fallback {display: none;}</style><div id=\"sk-container-id-3\" class=\"sk-top-container\"><div class=\"sk-text-repr-fallback\"><pre>GridSearchCV(estimator=GradientBoostingClassifier(),\n",
       "             param_grid={&#x27;learning_rate&#x27;: array([0.1]),\n",
       "                         &#x27;max_depth&#x27;: range(4, 8),\n",
       "                         &#x27;min_samples_split&#x27;: range(2, 8, 2)})</pre><b>In a Jupyter environment, please rerun this cell to show the HTML representation or trust the notebook. <br />On GitHub, the HTML representation is unable to render, please try loading this page with nbviewer.org.</b></div><div class=\"sk-container\" hidden><div class=\"sk-item sk-dashed-wrapped\"><div class=\"sk-label-container\"><div class=\"sk-label sk-toggleable\"><input class=\"sk-toggleable__control sk-hidden--visually\" id=\"sk-estimator-id-5\" type=\"checkbox\" ><label for=\"sk-estimator-id-5\" class=\"sk-toggleable__label sk-toggleable__label-arrow\">GridSearchCV</label><div class=\"sk-toggleable__content\"><pre>GridSearchCV(estimator=GradientBoostingClassifier(),\n",
       "             param_grid={&#x27;learning_rate&#x27;: array([0.1]),\n",
       "                         &#x27;max_depth&#x27;: range(4, 8),\n",
       "                         &#x27;min_samples_split&#x27;: range(2, 8, 2)})</pre></div></div></div><div class=\"sk-parallel\"><div class=\"sk-parallel-item\"><div class=\"sk-item\"><div class=\"sk-label-container\"><div class=\"sk-label sk-toggleable\"><input class=\"sk-toggleable__control sk-hidden--visually\" id=\"sk-estimator-id-6\" type=\"checkbox\" ><label for=\"sk-estimator-id-6\" class=\"sk-toggleable__label sk-toggleable__label-arrow\">estimator: GradientBoostingClassifier</label><div class=\"sk-toggleable__content\"><pre>GradientBoostingClassifier()</pre></div></div></div><div class=\"sk-serial\"><div class=\"sk-item\"><div class=\"sk-estimator sk-toggleable\"><input class=\"sk-toggleable__control sk-hidden--visually\" id=\"sk-estimator-id-7\" type=\"checkbox\" ><label for=\"sk-estimator-id-7\" class=\"sk-toggleable__label sk-toggleable__label-arrow\">GradientBoostingClassifier</label><div class=\"sk-toggleable__content\"><pre>GradientBoostingClassifier()</pre></div></div></div></div></div></div></div></div></div></div>"
      ],
      "text/plain": [
       "GridSearchCV(estimator=GradientBoostingClassifier(),\n",
       "             param_grid={'learning_rate': array([0.1]),\n",
       "                         'max_depth': range(4, 8),\n",
       "                         'min_samples_split': range(2, 8, 2)})"
      ]
     },
     "execution_count": 347,
     "metadata": {},
     "output_type": "execute_result"
    }
   ],
   "source": [
    "grid = GridSearchCV(GradientBoostingClassifier(), param_grid=grid_param)\n",
    "grid.fit(X_train,y_train)"
   ]
  },
  {
   "cell_type": "code",
   "execution_count": 348,
   "id": "67fe379e",
   "metadata": {},
   "outputs": [
    {
     "data": {
      "text/plain": [
       "{'learning_rate': 0.1, 'max_depth': 6, 'min_samples_split': 4}"
      ]
     },
     "execution_count": 348,
     "metadata": {},
     "output_type": "execute_result"
    }
   ],
   "source": [
    "grid.best_params_"
   ]
  },
  {
   "cell_type": "code",
   "execution_count": 354,
   "id": "b96c7857",
   "metadata": {},
   "outputs": [],
   "source": [
    "pred=grid.predict(X_train)"
   ]
  },
  {
   "cell_type": "code",
   "execution_count": 379,
   "id": "ec6875ec",
   "metadata": {},
   "outputs": [
    {
     "name": "stdout",
     "output_type": "stream",
     "text": [
      "\n",
      "================Train Result======================\n",
      "Accuracy Score: 89.66%\n",
      "____________________________________________________\n",
      "CLASSIFICATION REPORT:\n",
      "                      0            1  accuracy     macro avg  weighted avg\n",
      "precision      0.911615     0.837860  0.896601      0.874737      0.893844\n",
      "recall         0.956517     0.707852  0.896601      0.832184      0.896601\n",
      "f1-score       0.933526     0.767388  0.896601      0.850457      0.893495\n",
      "support    18536.000000  5884.000000  0.896601  24420.000000  24420.000000\n",
      "____________________________________________________\n",
      "Confusion Matrix: \n",
      " [[17730   806]\n",
      " [ 1719  4165]] \n",
      "\n",
      "\n",
      "=================Test Result ==========================\n",
      "Accuracy Score: 86.78%\n",
      "____________________________________________________\n",
      "CLASSIFICATION REPORT: \n",
      "                     0            1  accuracy    macro avg  weighted avg\n",
      "precision     0.891701     0.771746  0.867813     0.831724      0.862862\n",
      "recall        0.940158     0.639244  0.867813     0.789701      0.867813\n",
      "f1-score      0.915289     0.699273  0.867813     0.807281      0.863355\n",
      "support    6183.000000  1957.000000  0.867813  8140.000000   8140.000000\n",
      "____________________________________________________\n",
      "Confusion Matrix: \n",
      " [[5813  370]\n",
      " [ 706 1251]]\n",
      "\n"
     ]
    }
   ],
   "source": [
    "import pandas as pd\n",
    "gbdt_clf=GradientBoostingClassifier(max_depth=4, min_samples_split=4, learning_rate=0.3)\n",
    "gbdt_clf.fit(X_train, y_train)\n",
    "pred=gbdt_clf.predict(X_train)\n",
    "gbdt_clf_report=pd.DataFrame(classification_report(y_train, pred, output_dict=True))\n",
    "print(\"\\n================Train Result======================\")\n",
    "print (f\"Accuracy Score: {accuracy_score(y_train, pred)*100:.2f}%\")\n",
    "print(\"____________________________________________________\")\n",
    "print (f\"CLASSIFICATION REPORT:\\n{gbdt_clf_report}\")\n",
    "print(\"____________________________________________________\")\n",
    "print(f\"Confusion Matrix: \\n {confusion_matrix(y_train, pred)} \\n\")\n",
    "\n",
    "#***********************Test score******************************************\n",
    "pred=gbdt_clf.predict(X_test)\n",
    "clf_report = pd.DataFrame(classification_report(y_test, pred, output_dict=True))\n",
    "print(\"\\n=================Test Result ==========================\")\n",
    "print (f\"Accuracy Score: {accuracy_score(y_test, pred)* 100:.2f}%\")\n",
    "print(\"____________________________________________________\")\n",
    "print (f\"CLASSIFICATION REPORT: \\n{clf_report}\")\n",
    "print(\"____________________________________________________\")\n",
    "print (f\"Confusion Matrix: \\n {confusion_matrix(y_test, pred)}\\n\")\n"
   ]
  },
  {
   "cell_type": "code",
   "execution_count": 360,
   "id": "fbbe5a49",
   "metadata": {},
   "outputs": [
    {
     "data": {
      "text/plain": [
       "dict_keys(['algorithm', 'base_estimator', 'learning_rate', 'n_estimators', 'random_state'])"
      ]
     },
     "execution_count": 360,
     "metadata": {},
     "output_type": "execute_result"
    }
   ],
   "source": [
    "adb.get_params().keys() "
   ]
  },
  {
   "cell_type": "code",
   "execution_count": 361,
   "id": "b44be6a5",
   "metadata": {},
   "outputs": [],
   "source": [
    "params = {'n_estimators': [47,50,60,70], 'learning_rate': [0.1, 0.25,0.30,0.40]}"
   ]
  },
  {
   "cell_type": "code",
   "execution_count": 366,
   "id": "0f4306fa",
   "metadata": {},
   "outputs": [
    {
     "data": {
      "text/html": [
       "<style>#sk-container-id-4 {color: black;background-color: white;}#sk-container-id-4 pre{padding: 0;}#sk-container-id-4 div.sk-toggleable {background-color: white;}#sk-container-id-4 label.sk-toggleable__label {cursor: pointer;display: block;width: 100%;margin-bottom: 0;padding: 0.3em;box-sizing: border-box;text-align: center;}#sk-container-id-4 label.sk-toggleable__label-arrow:before {content: \"▸\";float: left;margin-right: 0.25em;color: #696969;}#sk-container-id-4 label.sk-toggleable__label-arrow:hover:before {color: black;}#sk-container-id-4 div.sk-estimator:hover label.sk-toggleable__label-arrow:before {color: black;}#sk-container-id-4 div.sk-toggleable__content {max-height: 0;max-width: 0;overflow: hidden;text-align: left;background-color: #f0f8ff;}#sk-container-id-4 div.sk-toggleable__content pre {margin: 0.2em;color: black;border-radius: 0.25em;background-color: #f0f8ff;}#sk-container-id-4 input.sk-toggleable__control:checked~div.sk-toggleable__content {max-height: 200px;max-width: 100%;overflow: auto;}#sk-container-id-4 input.sk-toggleable__control:checked~label.sk-toggleable__label-arrow:before {content: \"▾\";}#sk-container-id-4 div.sk-estimator input.sk-toggleable__control:checked~label.sk-toggleable__label {background-color: #d4ebff;}#sk-container-id-4 div.sk-label input.sk-toggleable__control:checked~label.sk-toggleable__label {background-color: #d4ebff;}#sk-container-id-4 input.sk-hidden--visually {border: 0;clip: rect(1px 1px 1px 1px);clip: rect(1px, 1px, 1px, 1px);height: 1px;margin: -1px;overflow: hidden;padding: 0;position: absolute;width: 1px;}#sk-container-id-4 div.sk-estimator {font-family: monospace;background-color: #f0f8ff;border: 1px dotted black;border-radius: 0.25em;box-sizing: border-box;margin-bottom: 0.5em;}#sk-container-id-4 div.sk-estimator:hover {background-color: #d4ebff;}#sk-container-id-4 div.sk-parallel-item::after {content: \"\";width: 100%;border-bottom: 1px solid gray;flex-grow: 1;}#sk-container-id-4 div.sk-label:hover label.sk-toggleable__label {background-color: #d4ebff;}#sk-container-id-4 div.sk-serial::before {content: \"\";position: absolute;border-left: 1px solid gray;box-sizing: border-box;top: 0;bottom: 0;left: 50%;z-index: 0;}#sk-container-id-4 div.sk-serial {display: flex;flex-direction: column;align-items: center;background-color: white;padding-right: 0.2em;padding-left: 0.2em;position: relative;}#sk-container-id-4 div.sk-item {position: relative;z-index: 1;}#sk-container-id-4 div.sk-parallel {display: flex;align-items: stretch;justify-content: center;background-color: white;position: relative;}#sk-container-id-4 div.sk-item::before, #sk-container-id-4 div.sk-parallel-item::before {content: \"\";position: absolute;border-left: 1px solid gray;box-sizing: border-box;top: 0;bottom: 0;left: 50%;z-index: -1;}#sk-container-id-4 div.sk-parallel-item {display: flex;flex-direction: column;z-index: 1;position: relative;background-color: white;}#sk-container-id-4 div.sk-parallel-item:first-child::after {align-self: flex-end;width: 50%;}#sk-container-id-4 div.sk-parallel-item:last-child::after {align-self: flex-start;width: 50%;}#sk-container-id-4 div.sk-parallel-item:only-child::after {width: 0;}#sk-container-id-4 div.sk-dashed-wrapped {border: 1px dashed gray;margin: 0 0.4em 0.5em 0.4em;box-sizing: border-box;padding-bottom: 0.4em;background-color: white;}#sk-container-id-4 div.sk-label label {font-family: monospace;font-weight: bold;display: inline-block;line-height: 1.2em;}#sk-container-id-4 div.sk-label-container {text-align: center;}#sk-container-id-4 div.sk-container {/* jupyter's `normalize.less` sets `[hidden] { display: none; }` but bootstrap.min.css set `[hidden] { display: none !important; }` so we also need the `!important` here to be able to override the default hidden behavior on the sphinx rendered scikit-learn.org. See: https://github.com/scikit-learn/scikit-learn/issues/21755 */display: inline-block !important;position: relative;}#sk-container-id-4 div.sk-text-repr-fallback {display: none;}</style><div id=\"sk-container-id-4\" class=\"sk-top-container\"><div class=\"sk-text-repr-fallback\"><pre>GridSearchCV(cv=6, estimator=AdaBoostClassifier(),\n",
       "             param_grid={&#x27;learning_rate&#x27;: [0.1, 0.25, 0.3, 0.4],\n",
       "                         &#x27;n_estimators&#x27;: [47, 50, 60, 70]})</pre><b>In a Jupyter environment, please rerun this cell to show the HTML representation or trust the notebook. <br />On GitHub, the HTML representation is unable to render, please try loading this page with nbviewer.org.</b></div><div class=\"sk-container\" hidden><div class=\"sk-item sk-dashed-wrapped\"><div class=\"sk-label-container\"><div class=\"sk-label sk-toggleable\"><input class=\"sk-toggleable__control sk-hidden--visually\" id=\"sk-estimator-id-8\" type=\"checkbox\" ><label for=\"sk-estimator-id-8\" class=\"sk-toggleable__label sk-toggleable__label-arrow\">GridSearchCV</label><div class=\"sk-toggleable__content\"><pre>GridSearchCV(cv=6, estimator=AdaBoostClassifier(),\n",
       "             param_grid={&#x27;learning_rate&#x27;: [0.1, 0.25, 0.3, 0.4],\n",
       "                         &#x27;n_estimators&#x27;: [47, 50, 60, 70]})</pre></div></div></div><div class=\"sk-parallel\"><div class=\"sk-parallel-item\"><div class=\"sk-item\"><div class=\"sk-label-container\"><div class=\"sk-label sk-toggleable\"><input class=\"sk-toggleable__control sk-hidden--visually\" id=\"sk-estimator-id-9\" type=\"checkbox\" ><label for=\"sk-estimator-id-9\" class=\"sk-toggleable__label sk-toggleable__label-arrow\">estimator: AdaBoostClassifier</label><div class=\"sk-toggleable__content\"><pre>AdaBoostClassifier()</pre></div></div></div><div class=\"sk-serial\"><div class=\"sk-item\"><div class=\"sk-estimator sk-toggleable\"><input class=\"sk-toggleable__control sk-hidden--visually\" id=\"sk-estimator-id-10\" type=\"checkbox\" ><label for=\"sk-estimator-id-10\" class=\"sk-toggleable__label sk-toggleable__label-arrow\">AdaBoostClassifier</label><div class=\"sk-toggleable__content\"><pre>AdaBoostClassifier()</pre></div></div></div></div></div></div></div></div></div></div>"
      ],
      "text/plain": [
       "GridSearchCV(cv=6, estimator=AdaBoostClassifier(),\n",
       "             param_grid={'learning_rate': [0.1, 0.25, 0.3, 0.4],\n",
       "                         'n_estimators': [47, 50, 60, 70]})"
      ]
     },
     "execution_count": 366,
     "metadata": {},
     "output_type": "execute_result"
    }
   ],
   "source": [
    "Adagridsearch = GridSearchCV(, param_grid = params , cv=6)\n",
    "Adagridsearch.fit(X_train,y_train)"
   ]
  },
  {
   "cell_type": "code",
   "execution_count": 370,
   "id": "bda88253",
   "metadata": {},
   "outputs": [],
   "source": [
    "ADpred=Adagridsearch.predict(X_train)"
   ]
  },
  {
   "cell_type": "code",
   "execution_count": 371,
   "id": "882c613b",
   "metadata": {},
   "outputs": [
    {
     "data": {
      "text/html": [
       "<style>#sk-container-id-7 {color: black;background-color: white;}#sk-container-id-7 pre{padding: 0;}#sk-container-id-7 div.sk-toggleable {background-color: white;}#sk-container-id-7 label.sk-toggleable__label {cursor: pointer;display: block;width: 100%;margin-bottom: 0;padding: 0.3em;box-sizing: border-box;text-align: center;}#sk-container-id-7 label.sk-toggleable__label-arrow:before {content: \"▸\";float: left;margin-right: 0.25em;color: #696969;}#sk-container-id-7 label.sk-toggleable__label-arrow:hover:before {color: black;}#sk-container-id-7 div.sk-estimator:hover label.sk-toggleable__label-arrow:before {color: black;}#sk-container-id-7 div.sk-toggleable__content {max-height: 0;max-width: 0;overflow: hidden;text-align: left;background-color: #f0f8ff;}#sk-container-id-7 div.sk-toggleable__content pre {margin: 0.2em;color: black;border-radius: 0.25em;background-color: #f0f8ff;}#sk-container-id-7 input.sk-toggleable__control:checked~div.sk-toggleable__content {max-height: 200px;max-width: 100%;overflow: auto;}#sk-container-id-7 input.sk-toggleable__control:checked~label.sk-toggleable__label-arrow:before {content: \"▾\";}#sk-container-id-7 div.sk-estimator input.sk-toggleable__control:checked~label.sk-toggleable__label {background-color: #d4ebff;}#sk-container-id-7 div.sk-label input.sk-toggleable__control:checked~label.sk-toggleable__label {background-color: #d4ebff;}#sk-container-id-7 input.sk-hidden--visually {border: 0;clip: rect(1px 1px 1px 1px);clip: rect(1px, 1px, 1px, 1px);height: 1px;margin: -1px;overflow: hidden;padding: 0;position: absolute;width: 1px;}#sk-container-id-7 div.sk-estimator {font-family: monospace;background-color: #f0f8ff;border: 1px dotted black;border-radius: 0.25em;box-sizing: border-box;margin-bottom: 0.5em;}#sk-container-id-7 div.sk-estimator:hover {background-color: #d4ebff;}#sk-container-id-7 div.sk-parallel-item::after {content: \"\";width: 100%;border-bottom: 1px solid gray;flex-grow: 1;}#sk-container-id-7 div.sk-label:hover label.sk-toggleable__label {background-color: #d4ebff;}#sk-container-id-7 div.sk-serial::before {content: \"\";position: absolute;border-left: 1px solid gray;box-sizing: border-box;top: 0;bottom: 0;left: 50%;z-index: 0;}#sk-container-id-7 div.sk-serial {display: flex;flex-direction: column;align-items: center;background-color: white;padding-right: 0.2em;padding-left: 0.2em;position: relative;}#sk-container-id-7 div.sk-item {position: relative;z-index: 1;}#sk-container-id-7 div.sk-parallel {display: flex;align-items: stretch;justify-content: center;background-color: white;position: relative;}#sk-container-id-7 div.sk-item::before, #sk-container-id-7 div.sk-parallel-item::before {content: \"\";position: absolute;border-left: 1px solid gray;box-sizing: border-box;top: 0;bottom: 0;left: 50%;z-index: -1;}#sk-container-id-7 div.sk-parallel-item {display: flex;flex-direction: column;z-index: 1;position: relative;background-color: white;}#sk-container-id-7 div.sk-parallel-item:first-child::after {align-self: flex-end;width: 50%;}#sk-container-id-7 div.sk-parallel-item:last-child::after {align-self: flex-start;width: 50%;}#sk-container-id-7 div.sk-parallel-item:only-child::after {width: 0;}#sk-container-id-7 div.sk-dashed-wrapped {border: 1px dashed gray;margin: 0 0.4em 0.5em 0.4em;box-sizing: border-box;padding-bottom: 0.4em;background-color: white;}#sk-container-id-7 div.sk-label label {font-family: monospace;font-weight: bold;display: inline-block;line-height: 1.2em;}#sk-container-id-7 div.sk-label-container {text-align: center;}#sk-container-id-7 div.sk-container {/* jupyter's `normalize.less` sets `[hidden] { display: none; }` but bootstrap.min.css set `[hidden] { display: none !important; }` so we also need the `!important` here to be able to override the default hidden behavior on the sphinx rendered scikit-learn.org. See: https://github.com/scikit-learn/scikit-learn/issues/21755 */display: inline-block !important;position: relative;}#sk-container-id-7 div.sk-text-repr-fallback {display: none;}</style><div id=\"sk-container-id-7\" class=\"sk-top-container\"><div class=\"sk-text-repr-fallback\"><pre>AdaBoostClassifier(learning_rate=0.4, n_estimators=70)</pre><b>In a Jupyter environment, please rerun this cell to show the HTML representation or trust the notebook. <br />On GitHub, the HTML representation is unable to render, please try loading this page with nbviewer.org.</b></div><div class=\"sk-container\" hidden><div class=\"sk-item\"><div class=\"sk-estimator sk-toggleable\"><input class=\"sk-toggleable__control sk-hidden--visually\" id=\"sk-estimator-id-15\" type=\"checkbox\" checked><label for=\"sk-estimator-id-15\" class=\"sk-toggleable__label sk-toggleable__label-arrow\">AdaBoostClassifier</label><div class=\"sk-toggleable__content\"><pre>AdaBoostClassifier(learning_rate=0.4, n_estimators=70)</pre></div></div></div></div></div>"
      ],
      "text/plain": [
       "AdaBoostClassifier(learning_rate=0.4, n_estimators=70)"
      ]
     },
     "execution_count": 371,
     "metadata": {},
     "output_type": "execute_result"
    }
   ],
   "source": [
    "Adagridsearch.best_estimator_"
   ]
  },
  {
   "cell_type": "code",
   "execution_count": 378,
   "id": "b3a20f9a",
   "metadata": {},
   "outputs": [
    {
     "name": "stdout",
     "output_type": "stream",
     "text": [
      "\n",
      "================Train Result======================\n",
      "Accuracy Score: 85.86%\n",
      "____________________________________________________\n",
      "CLASSIFICATION REPORT:\n",
      "                      0            1  accuracy     macro avg  weighted avg\n",
      "precision      0.894934     0.811236  0.878829      0.853085      0.874767\n",
      "recall         0.952147     0.647859  0.878829      0.800003      0.878829\n",
      "f1-score       0.922655     0.720401  0.878829      0.821528      0.873922\n",
      "support    18536.000000  5884.000000  0.878829  24420.000000  24420.000000\n",
      "____________________________________________________\n",
      "Confusion Matrix: \n",
      " [[17613   923]\n",
      " [ 2529  3355]] \n",
      "\n",
      "\n",
      "=================Test Result ==========================\n",
      "Accuracy Score: 85.54%\n",
      "____________________________________________________\n",
      "CLASSIFICATION REPORT: \n",
      "                     0            1  accuracy    macro avg  weighted avg\n",
      "precision     0.876052     0.762803  0.855405     0.819427      0.848825\n",
      "recall        0.943070     0.578436  0.855405     0.760753      0.855405\n",
      "f1-score      0.908326     0.657948  0.855405     0.783137      0.848131\n",
      "support    6183.000000  1957.000000  0.855405  8140.000000   8140.000000\n",
      "____________________________________________________\n",
      "Confusion Matrix: \n",
      " [[5831  352]\n",
      " [ 825 1132]]\n",
      "\n"
     ]
    }
   ],
   "source": [
    "adb_clf=AdaBoostClassifier(\n",
    "    n_estimators=70, learning_rate=0.5)\n",
    "adb_clf.fit(X_train, y_train)\n",
    "ADpred=adb_clf.predict(X_train)\n",
    "adb_clf_report=pd.DataFrame(\n",
    "    classification_report(y_train, ADpred, output_dict=True))\n",
    "print(\"\\n================Train Result======================\")\n",
    "print (f\"Accuracy Score: {accuracy_score(y_train, pred)*100:.2f}%\")\n",
    "print(\"____________________________________________________\")\n",
    "print (f\"CLASSIFICATION REPORT:\\n{gbdt_clf_report}\")\n",
    "print(\"____________________________________________________\")\n",
    "print(f\"Confusion Matrix: \\n {confusion_matrix(y_train, pred)} \\n\")\n",
    "\n",
    "#***********************Test score******************************************\n",
    "ADpred=adb_clf.predict(X_test)\n",
    "clf_report = pd.DataFrame(\n",
    "    classification_report(y_test, ADpred, output_dict=True))\n",
    "print(\"\\n=================Test Result ==========================\")\n",
    "print (f\"Accuracy Score: {accuracy_score(y_test, ADpred)* 100:.2f}%\")\n",
    "print(\"____________________________________________________\")\n",
    "print (f\"CLASSIFICATION REPORT: \\n{clf_report}\")\n",
    "print(\"____________________________________________________\")\n",
    "print (f\"Confusion Matrix: \\n {confusion_matrix(y_test, ADpred)}\\n\")"
   ]
  },
  {
   "cell_type": "code",
   "execution_count": null,
   "id": "df9c4628",
   "metadata": {},
   "outputs": [],
   "source": []
  }
 ],
 "metadata": {
  "kernelspec": {
   "display_name": "Python 3 (ipykernel)",
   "language": "python",
   "name": "python3"
  },
  "language_info": {
   "codemirror_mode": {
    "name": "ipython",
    "version": 3
   },
   "file_extension": ".py",
   "mimetype": "text/x-python",
   "name": "python",
   "nbconvert_exporter": "python",
   "pygments_lexer": "ipython3",
   "version": "3.9.12"
  }
 },
 "nbformat": 4,
 "nbformat_minor": 5
}
